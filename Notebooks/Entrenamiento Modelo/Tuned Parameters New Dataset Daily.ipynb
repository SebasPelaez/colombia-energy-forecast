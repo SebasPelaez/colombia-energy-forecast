{
 "cells": [
  {
   "cell_type": "code",
   "execution_count": 1,
   "metadata": {},
   "outputs": [],
   "source": [
    "import os\n",
    "import numpy as np\n",
    "import pandas as pd\n",
    "import tensorflow as tf\n",
    "import time\n",
    "\n",
    "import CustomHyperModel\n",
    "import CustomMetrics\n",
    "import EnergyPricesLibrary as Ep\n",
    "\n",
    "from kerastuner.tuners import BayesianOptimization\n",
    "\n",
    "%load_ext autoreload\n",
    "%autoreload 2"
   ]
  },
  {
   "cell_type": "code",
   "execution_count": 2,
   "metadata": {},
   "outputs": [],
   "source": [
    "def make_predictions(model,scaler_y,trainX,trainY,testX,testY,n_steps_out,len_output_features):\n",
    "    \n",
    "    # make predictions\n",
    "    trainPredict = model.predict(trainX)\n",
    "    trainPredict = trainPredict.reshape(trainPredict.shape[0]*n_steps_out,len_output_features)\n",
    "    testPredict  = model.predict(testX)\n",
    "    testPredict  = testPredict.reshape(testPredict.shape[0]*n_steps_out,len_output_features)\n",
    "    \n",
    "    # invert predictions\n",
    "    trainPredict = scaler_y.inverse_transform(trainPredict)\n",
    "    trainY_ = scaler_y.inverse_transform(trainY.reshape(trainY.shape[0]*n_steps_out,len_output_features))\n",
    "    \n",
    "    testPredict = scaler_y.inverse_transform(testPredict)\n",
    "    testY_ = scaler_y.inverse_transform(testY.reshape(testY.shape[0]*n_steps_out,len_output_features))\n",
    "        \n",
    "    return trainPredict,trainY_,testPredict,testY_\n",
    "\n",
    "def get_metrics(trainY,trainPredict,testY,testPredict):\n",
    "    \n",
    "    trainMAPE  = Ep.MAPE(trainPredict,trainY)\n",
    "    testMAPE  = Ep.MAPE(testPredict,testY)\n",
    "    \n",
    "    train_sMAPE  = Ep.sMAPE(trainY,trainPredict)\n",
    "    test_sMAPE  = Ep.sMAPE(testY,testPredict)\n",
    "    \n",
    "    return trainMAPE,testMAPE,train_sMAPE,test_sMAPE"
   ]
  },
  {
   "cell_type": "markdown",
   "metadata": {},
   "source": [
    "# DATASET"
   ]
  },
  {
   "cell_type": "markdown",
   "metadata": {},
   "source": [
    "## Load Dataset"
   ]
  },
  {
   "cell_type": "code",
   "execution_count": 3,
   "metadata": {},
   "outputs": [],
   "source": [
    "data_diaria_path = os.path.join('..','..','dataset','Series','Sabanas','Original','Sabana_Datos_Diaria.xlsx')\n",
    "data_diaria = pd.read_excel(data_diaria_path)\n",
    "data_diaria = data_diaria.set_index('Fecha')"
   ]
  },
  {
   "cell_type": "code",
   "execution_count": 4,
   "metadata": {},
   "outputs": [],
   "source": [
    "nombre_series_diaria = data_diaria.columns.values"
   ]
  },
  {
   "cell_type": "code",
   "execution_count": 5,
   "metadata": {},
   "outputs": [],
   "source": [
    "precio_bolsa_path = os.path.join('..','..','dataset','Series','Sabanas','Original','Sabana_Datos_Precio_Bolsa.xlsx')\n",
    "precio_bolsa = pd.read_excel(precio_bolsa_path)\n",
    "precio_bolsa = precio_bolsa.set_index('Fecha')"
   ]
  },
  {
   "cell_type": "code",
   "execution_count": 6,
   "metadata": {},
   "outputs": [
    {
     "data": {
      "text/plain": [
       "((7395, 119), (177480, 1))"
      ]
     },
     "execution_count": 6,
     "metadata": {},
     "output_type": "execute_result"
    }
   ],
   "source": [
    "data_diaria.shape, precio_bolsa.shape"
   ]
  },
  {
   "cell_type": "markdown",
   "metadata": {},
   "source": [
    "## Build Window"
   ]
  },
  {
   "cell_type": "code",
   "execution_count": 7,
   "metadata": {},
   "outputs": [],
   "source": [
    "d = 'All'\n",
    "start_date_train = '2000-02-01'\n",
    "start_date_val = '2020-01-01'\n",
    "start_date_test = '2020-04-01'\n",
    "end_date_test = '2020-05-01'\n",
    "n_steps_out=24\n",
    "output_columns = ['$kWh']"
   ]
  },
  {
   "cell_type": "code",
   "execution_count": 8,
   "metadata": {},
   "outputs": [],
   "source": [
    "n_steps_in = 15\n",
    "overlap = 1\n",
    "inputs_columns = nombre_series_diaria\n",
    "\n",
    "len_input_features = len(inputs_columns)\n",
    "len_output_features = len(output_columns)\n",
    "\n",
    "results = Ep.SplitTimeseriesMultipleTimesBackAhead_differentTimes(df_x=data_diaria,\n",
    "                                                                  df_y=precio_bolsa,\n",
    "                                                                  day=d,\n",
    "                                                                  start_date_train=start_date_train,start_date_val=start_date_val,\n",
    "                                                                  start_date_test=start_date_test,end_date_test=end_date_test,\n",
    "                                                                  n_steps_out=n_steps_out,n_steps_in=n_steps_in,\n",
    "                                                                  overlap=overlap,input_features=inputs_columns,\n",
    "                                                                  output_features=output_columns)\n",
    "\n",
    "trainX_D,trainY_D,valX_D,valY_D,testX_D,testY_D,scaler_D_x,scaler_D_y,dataset_x_D, dataset_y_D = results"
   ]
  },
  {
   "cell_type": "code",
   "execution_count": 9,
   "metadata": {},
   "outputs": [
    {
     "name": "stdout",
     "output_type": "stream",
     "text": [
      "(7259, 15, 119) (7259, 24, 1) (91, 15, 119) (91, 24, 1) (30, 15, 119) (30, 24, 1)\n"
     ]
    }
   ],
   "source": [
    "print(trainX_D.shape,trainY_D.shape,valX_D.shape,valY_D.shape,testX_D.shape,testY_D.shape)"
   ]
  },
  {
   "cell_type": "code",
   "execution_count": 10,
   "metadata": {},
   "outputs": [],
   "source": [
    "\"\"\"\n",
    "log_dir = os.path.join('logs','Optimización')\n",
    "if not os.path.exists(log_dir):\n",
    "    os.makedirs(log_dir)\n",
    "callback_tensorboard = tf.keras.callbacks.TensorBoard(log_dir=log_dir,\n",
    "                                                          histogram_freq=2,\n",
    "                                                          write_graph=False,\n",
    "                                                          update_freq='epoch\n",
    "\"\"\"\n",
    "    \n",
    "callback_reduce_lr = tf.keras.callbacks.ReduceLROnPlateau(monitor='val_loss',\n",
    "                                                          factor=0.1,\n",
    "                                                          min_lr=1e-5,\n",
    "                                                          patience=5,\n",
    "                                                          verbose=1)\n",
    "\n",
    "early_stopping = tf.keras.callbacks.EarlyStopping(monitor='val_loss',\n",
    "                                                  patience=10,\n",
    "                                                  mode='min')\n",
    "\n",
    "#callbacks = [callback_tensorboard,callback_reduce_lr,early_stopping]\n",
    "callbacks = [callback_reduce_lr,early_stopping]"
   ]
  },
  {
   "cell_type": "code",
   "execution_count": 11,
   "metadata": {},
   "outputs": [],
   "source": [
    "INPUT_SHAPE = (n_steps_in,len_input_features)\n",
    "\n",
    "arquitectura31 = CustomHyperModel.Arquitectura31(input_shape=INPUT_SHAPE,n_steps_out=n_steps_out)\n",
    "arquitectura32 = CustomHyperModel.Arquitectura32(input_shape=INPUT_SHAPE,n_steps_out=n_steps_out)\n",
    "arquitectura33 = CustomHyperModel.Arquitectura33(input_shape=INPUT_SHAPE,n_steps_out=n_steps_out)\n",
    "arquitectura34 = CustomHyperModel.Arquitectura34(input_shape=INPUT_SHAPE,n_steps_out=n_steps_out)\n",
    "arquitectura35 = CustomHyperModel.Arquitectura35(input_shape=INPUT_SHAPE,n_steps_out=n_steps_out)\n",
    "arquitectura36 = CustomHyperModel.Arquitectura36(input_shape=INPUT_SHAPE,n_steps_out=n_steps_out)\n",
    "arquitectura37 = CustomHyperModel.Arquitectura37(input_shape=INPUT_SHAPE,n_steps_out=n_steps_out)\n",
    "arquitectura38 = CustomHyperModel.Arquitectura38(input_shape=INPUT_SHAPE,n_steps_out=n_steps_out)\n",
    "\n",
    "arquitectura39 = CustomHyperModel.Arquitectura39(input_shape=INPUT_SHAPE,n_steps_out=n_steps_out)\n",
    "arquitectura40 = CustomHyperModel.Arquitectura40(input_shape=INPUT_SHAPE,n_steps_out=n_steps_out)\n",
    "arquitectura41 = CustomHyperModel.Arquitectura41(input_shape=INPUT_SHAPE,n_steps_out=n_steps_out)\n",
    "arquitectura42 = CustomHyperModel.Arquitectura42(input_shape=INPUT_SHAPE,n_steps_out=n_steps_out)\n",
    "arquitectura43 = CustomHyperModel.Arquitectura43(input_shape=INPUT_SHAPE,n_steps_out=n_steps_out)\n",
    "arquitectura44 = CustomHyperModel.Arquitectura44(input_shape=INPUT_SHAPE,n_steps_out=n_steps_out)\n",
    "arquitectura45 = CustomHyperModel.Arquitectura45(input_shape=INPUT_SHAPE,n_steps_out=n_steps_out)\n",
    "arquitectura46 = CustomHyperModel.Arquitectura46(input_shape=INPUT_SHAPE,n_steps_out=n_steps_out)"
   ]
  },
  {
   "cell_type": "code",
   "execution_count": 12,
   "metadata": {},
   "outputs": [
    {
     "data": {
      "text/plain": [
       "'\\narq_list = [arquitectura35,arquitectura36,arquitectura37,arquitectura38,\\n            arquitectura39,arquitectura40,arquitectura41,arquitectura42,\\n            arquitectura43,arquitectura44,arquitectura45,arquitectura46]\\n'"
      ]
     },
     "execution_count": 12,
     "metadata": {},
     "output_type": "execute_result"
    }
   ],
   "source": [
    "arq_list = [arquitectura31,arquitectura32,arquitectura33,arquitectura34,\n",
    "            arquitectura35,arquitectura36,arquitectura37,arquitectura38,\n",
    "            arquitectura39,arquitectura40,arquitectura41,arquitectura42,\n",
    "            arquitectura43,arquitectura44,arquitectura45,arquitectura46]\n",
    "\"\"\"\n",
    "arq_list = [arquitectura35,arquitectura36,arquitectura37,arquitectura38,\n",
    "            arquitectura39,arquitectura40,arquitectura41,arquitectura42,\n",
    "            arquitectura43,arquitectura44,arquitectura45,arquitectura46]\n",
    "\"\"\""
   ]
  },
  {
   "cell_type": "code",
   "execution_count": 13,
   "metadata": {},
   "outputs": [
    {
     "name": "stdout",
     "output_type": "stream",
     "text": [
      "Trial 10 Complete [00h 01m 42s]\n",
      "val_loss: 1316.1876220703125\n",
      "\n",
      "Best val_loss So Far: 507.40264892578125\n",
      "Total elapsed time: 00h 08m 24s\n",
      "INFO:tensorflow:Oracle triggered exit\n",
      "Tiempo Total Transcurrido 504.8873836994171\n"
     ]
    }
   ],
   "source": [
    "arq_idx = 31\n",
    "arq_best_models = dict()\n",
    "\n",
    "for arq in arq_list:\n",
    "    \n",
    "    bayesian_tuner = BayesianOptimization(\n",
    "        arq,\n",
    "        objective='val_loss',\n",
    "        num_initial_points=1,\n",
    "        max_trials=10,\n",
    "        directory='my_dir',\n",
    "        project_name=str(arq_idx)\n",
    "    )\n",
    "    \n",
    "    # Overview of the task\n",
    "    bayesian_tuner.search_space_summary()\n",
    "    \n",
    "    # Performs the hyperparameter tuning\n",
    "    search_start = time.time()\n",
    "    bayesian_tuner.search(x=trainX_D,y=trainY_D,\n",
    "                      epochs=200,\n",
    "                      validation_data=(valX_D,valY_D),\n",
    "                      callbacks=callbacks)\n",
    "    search_end = time.time()\n",
    "    elapsed_time = search_end - search_start\n",
    "    \n",
    "    print('Tiempo Total Transcurrido {}'.format(elapsed_time))\n",
    "        \n",
    "    dict_key = 'Arquitectura {}'.format(arq_idx)\n",
    "\n",
    "    arq_best_models[dict_key] = dict()\n",
    "    bs_model = bayesian_tuner.oracle.get_best_trials(1)[0]\n",
    "    \n",
    "    model = bayesian_tuner.get_best_models(num_models=1)[0]\n",
    "    \n",
    "    trainPredict,trainY_true,testPredict,testY_true = make_predictions(model,scaler_D_y,trainX_D,trainY_D,valX_D,valY_D,\n",
    "                                                                       n_steps_out,len_output_features)\n",
    "    \n",
    "    trainMAPE,testMAPE,train_sMAPE,test_sMAPE = get_metrics(trainY_true,trainPredict,testY_true,testPredict)\n",
    "\n",
    "    arq_best_models[dict_key]['Score'] = bs_model.score\n",
    "    arq_best_models[dict_key]['Tiempo Scaneo'] = elapsed_time\n",
    "    arq_best_models[dict_key]['Mape Train'] = trainMAPE\n",
    "    arq_best_models[dict_key]['Mape Test'] = testMAPE\n",
    "    arq_best_models[dict_key]['sMape Train'] = train_sMAPE\n",
    "    arq_best_models[dict_key]['sMape Test'] = test_sMAPE\n",
    "\n",
    "    if bs_model.hyperparameters.values:\n",
    "        for hp, value in bs_model.hyperparameters.values.items():\n",
    "            arq_best_models[dict_key][hp] = value\n",
    "    \n",
    "    arq_idx += 1"
   ]
  },
  {
   "cell_type": "code",
   "execution_count": 14,
   "metadata": {},
   "outputs": [],
   "source": [
    "import json\n",
    "with open('BestModels-D15-V7.json', 'w') as outfile:\n",
    "    json.dump(arq_best_models, outfile)"
   ]
  },
  {
   "cell_type": "code",
   "execution_count": 15,
   "metadata": {},
   "outputs": [
    {
     "data": {
      "text/plain": [
       "{'Arquitectura 31': {'Score': 679.4625854492188,\n",
       "  'Tiempo Scaneo': 0.0009965896606445312,\n",
       "  'Mape Train': 0.2153613907896397,\n",
       "  'Mape Test': 0.22310306078787528,\n",
       "  'sMape Train': 22.363077429410215,\n",
       "  'sMape Test': 23.104376817486266,\n",
       "  'lstm_units_layer_1': 384,\n",
       "  'kernel_regularizer_layer_1': 0.0375,\n",
       "  'dropout_regularizer_layer_1': 0.54,\n",
       "  'lstm_units_layer_2': 320,\n",
       "  'kernel_regularizer_layer_2': 0.0675,\n",
       "  'dropout_regularizer_layer_2': 0.18,\n",
       "  'dense_layer': 96,\n",
       "  'dense_layer_activation': 'relu',\n",
       "  'dropout_dense': 0.18,\n",
       "  'learning_rate': 0.0012535163155377037},\n",
       " 'Arquitectura 32': {'Score': 522.8075561523438,\n",
       "  'Tiempo Scaneo': 0.0009913444519042969,\n",
       "  'Mape Train': 0.22170822896047487,\n",
       "  'Mape Test': 0.19718353868768015,\n",
       "  'sMape Train': 21.07640333651077,\n",
       "  'sMape Test': 16.71404977288025,\n",
       "  'gru_units_layer_1': 192,\n",
       "  'kernel_regularizer_layer_1': 0.0375,\n",
       "  'dropout_regularizer_layer_1': 0.27,\n",
       "  'gru_units_layer_2': 384,\n",
       "  'kernel_regularizer_layer_2': 0.075,\n",
       "  'dropout_regularizer_layer_2': 0.44999999999999996,\n",
       "  'dense_layer': 72,\n",
       "  'dense_layer_activation': 'relu',\n",
       "  'dropout_dense': 0.36,\n",
       "  'learning_rate': 0.0008025507731718732},\n",
       " 'Arquitectura 33': {'Score': 471.5763244628906,\n",
       "  'Tiempo Scaneo': 0.001995086669921875,\n",
       "  'Mape Train': 0.19335031284308346,\n",
       "  'Mape Test': 0.16361482832910157,\n",
       "  'sMape Train': 17.307255614642806,\n",
       "  'sMape Test': 15.68088972690959,\n",
       "  'lstm_units_layer_1': 64,\n",
       "  'kernel_regularizer_layer_1': 0.105,\n",
       "  'dropout_regularizer_layer_1': 0.0,\n",
       "  'dense_layer': 120,\n",
       "  'dense_layer_activation': 'relu',\n",
       "  'dropout_dense': 0.0,\n",
       "  'learning_rate': 0.0008349226923783179},\n",
       " 'Arquitectura 34': {'Score': 477.71221923828125,\n",
       "  'Tiempo Scaneo': 0.0019943714141845703,\n",
       "  'Mape Train': 0.23080313445928644,\n",
       "  'Mape Test': 0.17413045250858314,\n",
       "  'sMape Train': 21.767827243842518,\n",
       "  'sMape Test': 16.585500558066734,\n",
       "  'gru_units_layer_1': 192,\n",
       "  'kernel_regularizer_layer_1': 0.0675,\n",
       "  'dropout_regularizer_layer_1': 0.72,\n",
       "  'dense_layer': 72,\n",
       "  'dense_layer_activation': 'sigmoid',\n",
       "  'dropout_dense': 0.27,\n",
       "  'learning_rate': 0.0003135448671612065},\n",
       " 'Arquitectura 35': {'Score': 534.080078125,\n",
       "  'Tiempo Scaneo': 0.000997781753540039,\n",
       "  'Mape Train': 0.2113184826256112,\n",
       "  'Mape Test': 0.18516637152762086,\n",
       "  'sMape Train': 18.857017255171794,\n",
       "  'sMape Test': 16.860448420053782,\n",
       "  'lstm_units_layer_1': 512,\n",
       "  'kernel_regularizer_layer_1': 0.0,\n",
       "  'dropout_regularizer_layer_1': 0.0,\n",
       "  'lstm_units_layer_2': 64,\n",
       "  'kernel_regularizer_layer_2': 0.105,\n",
       "  'dropout_regularizer_layer_2': 0.63,\n",
       "  'learning_rate': 0.0001},\n",
       " 'Arquitectura 36': {'Score': 492.6894226074219,\n",
       "  'Tiempo Scaneo': 105.42459559440613,\n",
       "  'Mape Train': 0.23459962513146973,\n",
       "  'Mape Test': 0.18965543730552117,\n",
       "  'sMape Train': 22.41953831643928,\n",
       "  'sMape Test': 18.073925335479743,\n",
       "  'gru_units_layer_1': 128,\n",
       "  'kernel_regularizer_layer_1': 0.0075,\n",
       "  'dropout_regularizer_layer_1': 0.8099999999999999,\n",
       "  'gru_units_layer_2': 256,\n",
       "  'kernel_regularizer_layer_2': 0.06,\n",
       "  'dropout_regularizer_layer_2': 0.8099999999999999,\n",
       "  'learning_rate': 0.0006628935678929562},\n",
       " 'Arquitectura 37': {'Score': 404.8452453613281,\n",
       "  'Tiempo Scaneo': 741.4074611663818,\n",
       "  'Mape Train': 0.2139521673379244,\n",
       "  'Mape Test': 0.1628899288890607,\n",
       "  'sMape Train': 20.340372611228226,\n",
       "  'sMape Test': 15.68242951112442,\n",
       "  'lstm_units_layer_1': 512,\n",
       "  'kernel_regularizer_layer_1': 0.0,\n",
       "  'dropout_regularizer_layer_1': 0.0,\n",
       "  'learning_rate': 0.0001},\n",
       " 'Arquitectura 38': {'Score': 455.1485290527344,\n",
       "  'Tiempo Scaneo': 774.6162307262421,\n",
       "  'Mape Train': 0.23515139740455682,\n",
       "  'Mape Test': 0.15780285016592502,\n",
       "  'sMape Train': 21.202701417494904,\n",
       "  'sMape Test': 14.790802448960912,\n",
       "  'gru_units_layer_1': 128,\n",
       "  'kernel_regularizer_layer_1': 0.0525,\n",
       "  'dropout_regularizer_layer_1': 0.18,\n",
       "  'learning_rate': 0.00043430361168386424},\n",
       " 'Arquitectura 39': {'Score': 531.6690673828125,\n",
       "  'Tiempo Scaneo': 1177.9505171775818,\n",
       "  'Mape Train': 0.20202191809379313,\n",
       "  'Mape Test': 0.21777504316706472,\n",
       "  'sMape Train': 19.204294427501257,\n",
       "  'sMape Test': 19.466122118257616,\n",
       "  'lstm_units_layer_1': 64,\n",
       "  'kernel_regularizer_layer_1': 0.03,\n",
       "  'dropout_regularizer_layer_1': 0.09,\n",
       "  'lstm_units_layer_2': 512,\n",
       "  'kernel_regularizer_layer_2': 0.0,\n",
       "  'dropout_regularizer_layer_2': 0.63,\n",
       "  'dense_layer': 48,\n",
       "  'dense_layer_activation': 'sigmoid',\n",
       "  'dropout_dense': 0.18,\n",
       "  'learning_rate': 0.0001},\n",
       " 'Arquitectura 40': {'Score': 509.7900085449219,\n",
       "  'Tiempo Scaneo': 842.3212826251984,\n",
       "  'Mape Train': 0.21635080344176805,\n",
       "  'Mape Test': 0.17075041609171832,\n",
       "  'sMape Train': 22.01396009696432,\n",
       "  'sMape Test': 16.427937987965453,\n",
       "  'gru_units_layer_1': 256,\n",
       "  'kernel_regularizer_layer_1': 0.045,\n",
       "  'dropout_regularizer_layer_1': 0.18,\n",
       "  'gru_units_layer_2': 128,\n",
       "  'kernel_regularizer_layer_2': 0.0225,\n",
       "  'dropout_regularizer_layer_2': 0.18,\n",
       "  'dense_layer': 120,\n",
       "  'dense_layer_activation': 'relu',\n",
       "  'dropout_dense': 0.44999999999999996,\n",
       "  'learning_rate': 0.0002396085806665688},\n",
       " 'Arquitectura 41': {'Score': 526.7972412109375,\n",
       "  'Tiempo Scaneo': 1010.3635439872742,\n",
       "  'Mape Train': 0.2712166969554207,\n",
       "  'Mape Test': 0.1823310027159889,\n",
       "  'sMape Train': 25.02237649477134,\n",
       "  'sMape Test': 17.474096908874234,\n",
       "  'lstm_units_layer_1': 448,\n",
       "  'kernel_regularizer_layer_1': 0.045,\n",
       "  'dropout_regularizer_layer_1': 0.27,\n",
       "  'dense_layer': 96,\n",
       "  'dense_layer_activation': 'relu',\n",
       "  'dropout_dense': 0.8099999999999999,\n",
       "  'learning_rate': 0.0001},\n",
       " 'Arquitectura 42': {'Score': 437.3594665527344,\n",
       "  'Tiempo Scaneo': 689.0820784568787,\n",
       "  'Mape Train': 0.19491182323899353,\n",
       "  'Mape Test': 0.17105756256559124,\n",
       "  'sMape Train': 19.289149937652798,\n",
       "  'sMape Test': 16.146364546713748,\n",
       "  'gru_units_layer_1': 64,\n",
       "  'kernel_regularizer_layer_1': 0.015,\n",
       "  'dropout_regularizer_layer_1': 0.09,\n",
       "  'dense_layer': 48,\n",
       "  'dense_layer_activation': 'tanh',\n",
       "  'dropout_dense': 0.27,\n",
       "  'learning_rate': 0.00033349985458821184},\n",
       " 'Arquitectura 43': {'Score': 406.72943115234375,\n",
       "  'Tiempo Scaneo': 713.0504539012909,\n",
       "  'Mape Train': 0.2116578784507881,\n",
       "  'Mape Test': 0.17065153518413645,\n",
       "  'sMape Train': 19.602073992579633,\n",
       "  'sMape Test': 15.771587071628636,\n",
       "  'lstm_units_layer_1': 512,\n",
       "  'kernel_regularizer_layer_1': 0.0,\n",
       "  'dropout_regularizer_layer_1': 0.0,\n",
       "  'lstm_units_layer_2': 64,\n",
       "  'kernel_regularizer_layer_2': 0.0,\n",
       "  'dropout_regularizer_layer_2': 0.0,\n",
       "  'learning_rate': 0.0001},\n",
       " 'Arquitectura 44': {'Score': 493.3484802246094,\n",
       "  'Tiempo Scaneo': 783.7895324230194,\n",
       "  'Mape Train': 0.20660156903457744,\n",
       "  'Mape Test': 0.17875185861111972,\n",
       "  'sMape Train': 20.542839428114014,\n",
       "  'sMape Test': 17.266033080958493,\n",
       "  'gru_units_layer_1': 128,\n",
       "  'kernel_regularizer_layer_1': 0.03,\n",
       "  'dropout_regularizer_layer_1': 0.27,\n",
       "  'gru_units_layer_2': 128,\n",
       "  'kernel_regularizer_layer_2': 0.0225,\n",
       "  'dropout_regularizer_layer_2': 0.36,\n",
       "  'learning_rate': 0.00044879852282051885},\n",
       " 'Arquitectura 45': {'Score': 470.5997619628906,\n",
       "  'Tiempo Scaneo': 640.6860172748566,\n",
       "  'Mape Train': 0.18592035935417417,\n",
       "  'Mape Test': 0.1795592708706235,\n",
       "  'sMape Train': 17.903900361011512,\n",
       "  'sMape Test': 16.885317472641816,\n",
       "  'lstm_units_layer_1': 448,\n",
       "  'kernel_regularizer_layer_1': 0.0075,\n",
       "  'dropout_regularizer_layer_1': 0.09,\n",
       "  'learning_rate': 0.00016073017301300024},\n",
       " 'Arquitectura 46': {'Score': 507.40264892578125,\n",
       "  'Tiempo Scaneo': 504.8873836994171,\n",
       "  'Mape Train': 0.2003196727448195,\n",
       "  'Mape Test': 0.17747803091518097,\n",
       "  'sMape Train': 19.191022268642847,\n",
       "  'sMape Test': 16.749700917230445,\n",
       "  'gru_units_layer_1': 192,\n",
       "  'kernel_regularizer_layer_1': 0.0675,\n",
       "  'dropout_regularizer_layer_1': 0.0,\n",
       "  'learning_rate': 0.00021117064159776455}}"
      ]
     },
     "execution_count": 15,
     "metadata": {},
     "output_type": "execute_result"
    }
   ],
   "source": [
    "arq_best_models"
   ]
  }
 ],
 "metadata": {
  "kernelspec": {
   "display_name": "Proyecto Grados",
   "language": "python",
   "name": "proyecto-grados"
  },
  "language_info": {
   "codemirror_mode": {
    "name": "ipython",
    "version": 3
   },
   "file_extension": ".py",
   "mimetype": "text/x-python",
   "name": "python",
   "nbconvert_exporter": "python",
   "pygments_lexer": "ipython3",
   "version": "3.8.3"
  }
 },
 "nbformat": 4,
 "nbformat_minor": 4
}
