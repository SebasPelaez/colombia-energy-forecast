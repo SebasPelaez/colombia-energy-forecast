{
 "cells": [
  {
   "cell_type": "code",
   "execution_count": 1,
   "metadata": {},
   "outputs": [],
   "source": [
    "import os\n",
    "import numpy as np\n",
    "import pandas as pd\n",
    "import tensorflow as tf\n",
    "import time\n",
    "\n",
    "import CustomHyperModel\n",
    "import CustomWindowGenerator\n",
    "import EnergyPricesLibrary as Ep\n",
    "\n",
    "from kerastuner.tuners import BayesianOptimization\n",
    "\n",
    "%load_ext autoreload\n",
    "%autoreload 2"
   ]
  },
  {
   "cell_type": "markdown",
   "metadata": {},
   "source": [
    "# DATASET"
   ]
  },
  {
   "cell_type": "markdown",
   "metadata": {},
   "source": [
    "## Load Dataset"
   ]
  },
  {
   "cell_type": "code",
   "execution_count": 2,
   "metadata": {},
   "outputs": [],
   "source": [
    "data_diaria_path = os.path.join('..','..','dataset','Series','Sabanas','Original','Sabana_Datos_Diaria.xlsx')\n",
    "data_diaria = pd.read_excel(data_diaria_path)\n",
    "data_diaria = data_diaria.set_index('Fecha')"
   ]
  },
  {
   "cell_type": "code",
   "execution_count": 3,
   "metadata": {},
   "outputs": [],
   "source": [
    "nombre_series = data_diaria.columns.values"
   ]
  },
  {
   "cell_type": "code",
   "execution_count": 4,
   "metadata": {},
   "outputs": [],
   "source": [
    "precio_bolsa_path = os.path.join('..','..','dataset','Series','Sabanas','Original','Sabana_Datos_Precio_Bolsa.xlsx')\n",
    "precio_bolsa = pd.read_excel(precio_bolsa_path)\n",
    "precio_bolsa = precio_bolsa.set_index('Fecha')"
   ]
  },
  {
   "cell_type": "code",
   "execution_count": 5,
   "metadata": {},
   "outputs": [
    {
     "data": {
      "text/plain": [
       "((7365, 119), (176760, 1))"
      ]
     },
     "execution_count": 5,
     "metadata": {},
     "output_type": "execute_result"
    }
   ],
   "source": [
    "data_diaria.shape, precio_bolsa.shape"
   ]
  },
  {
   "cell_type": "markdown",
   "metadata": {},
   "source": [
    "## Build Window"
   ]
  },
  {
   "cell_type": "code",
   "execution_count": 6,
   "metadata": {},
   "outputs": [
    {
     "data": {
      "text/plain": [
       "((7273, 1, 119), (7273, 24, 1), (91, 1, 119), (91, 24, 1))"
      ]
     },
     "execution_count": 6,
     "metadata": {},
     "output_type": "execute_result"
    }
   ],
   "source": [
    "d = 'All'\n",
    "time_split = '2020-01-01'\n",
    "n_steps_in = 1\n",
    "n_steps_out=24\n",
    "overlap = 1\n",
    "inputs_columns = nombre_series\n",
    "output_columns = ['$kWh']\n",
    "\n",
    "len_input_features = len(inputs_columns)\n",
    "len_output_features = len(output_columns)\n",
    "\n",
    "trainX, trainY, testX, testY, scaler_x,scaler_y, dataset_x, dataset_y = Ep.SplitTimeseriesMultipleTimesBackAhead_differentTimes(\n",
    "    df_x=data_diaria,\n",
    "    df_y=precio_bolsa,\n",
    "    day = d, \n",
    "    TimeSplit = time_split,\n",
    "    n_steps_out=n_steps_out,\n",
    "    n_steps_in =n_steps_in, \n",
    "    overlap = overlap,\n",
    "    input_features=inputs_columns,\n",
    "    output_features=output_columns)\n",
    "\n",
    "trainX.shape,trainY.shape,testX.shape,testY.shape"
   ]
  },
  {
   "cell_type": "code",
   "execution_count": 7,
   "metadata": {},
   "outputs": [],
   "source": [
    "\"\"\"\n",
    "log_dir = os.path.join('logs','Optimización')\n",
    "if not os.path.exists(log_dir):\n",
    "    os.makedirs(log_dir)\n",
    "callback_tensorboard = tf.keras.callbacks.TensorBoard(log_dir=log_dir,\n",
    "                                                          histogram_freq=2,\n",
    "                                                          write_graph=False,\n",
    "                                                          update_freq='epoch\n",
    "\"\"\"\n",
    "    \n",
    "callback_reduce_lr = tf.keras.callbacks.ReduceLROnPlateau(monitor='val_loss',\n",
    "                                                          factor=0.1,\n",
    "                                                          min_lr=1e-4,\n",
    "                                                          patience=0,\n",
    "                                                          verbose=1)\n",
    "\n",
    "early_stopping = tf.keras.callbacks.EarlyStopping(monitor='val_loss',\n",
    "                                                  patience=5,\n",
    "                                                  mode='min')\n",
    "\n",
    "#callbacks = [callback_tensorboard,callback_reduce_lr,early_stopping]\n",
    "callbacks = [callback_reduce_lr,early_stopping]"
   ]
  },
  {
   "cell_type": "code",
   "execution_count": 8,
   "metadata": {},
   "outputs": [],
   "source": [
    "INPUT_SHAPE = (n_steps_in,len_input_features)\n",
    "\n",
    "arquitectura31 = CustomHyperModel.Arquitectura31(input_shape=INPUT_SHAPE,n_steps_out=n_steps_out)\n",
    "arquitectura32 = CustomHyperModel.Arquitectura32(input_shape=INPUT_SHAPE,n_steps_out=n_steps_out)\n",
    "arquitectura33 = CustomHyperModel.Arquitectura33(input_shape=INPUT_SHAPE,n_steps_out=n_steps_out)\n",
    "arquitectura34 = CustomHyperModel.Arquitectura34(input_shape=INPUT_SHAPE,n_steps_out=n_steps_out)\n",
    "arquitectura35 = CustomHyperModel.Arquitectura35(input_shape=INPUT_SHAPE,n_steps_out=n_steps_out)\n",
    "arquitectura36 = CustomHyperModel.Arquitectura36(input_shape=INPUT_SHAPE,n_steps_out=n_steps_out)\n",
    "arquitectura37 = CustomHyperModel.Arquitectura37(input_shape=INPUT_SHAPE,n_steps_out=n_steps_out)\n",
    "arquitectura38 = CustomHyperModel.Arquitectura38(input_shape=INPUT_SHAPE,n_steps_out=n_steps_out)\n",
    "\n",
    "arquitectura39 = CustomHyperModel.Arquitectura39(input_shape=INPUT_SHAPE,n_steps_out=n_steps_out)\n",
    "arquitectura40 = CustomHyperModel.Arquitectura40(input_shape=INPUT_SHAPE,n_steps_out=n_steps_out)\n",
    "arquitectura41 = CustomHyperModel.Arquitectura41(input_shape=INPUT_SHAPE,n_steps_out=n_steps_out)\n",
    "arquitectura42 = CustomHyperModel.Arquitectura42(input_shape=INPUT_SHAPE,n_steps_out=n_steps_out)\n",
    "arquitectura43 = CustomHyperModel.Arquitectura43(input_shape=INPUT_SHAPE,n_steps_out=n_steps_out)\n",
    "arquitectura44 = CustomHyperModel.Arquitectura44(input_shape=INPUT_SHAPE,n_steps_out=n_steps_out)\n",
    "arquitectura45 = CustomHyperModel.Arquitectura45(input_shape=INPUT_SHAPE,n_steps_out=n_steps_out)\n",
    "arquitectura46 = CustomHyperModel.Arquitectura46(input_shape=INPUT_SHAPE,n_steps_out=n_steps_out)"
   ]
  },
  {
   "cell_type": "code",
   "execution_count": 9,
   "metadata": {},
   "outputs": [
    {
     "data": {
      "text/plain": [
       "'\\narq_list = [arquitectura35,arquitectura36,arquitectura37,arquitectura38,\\n            arquitectura39,arquitectura40,arquitectura41,arquitectura42,\\n            arquitectura43,arquitectura44,arquitectura45,arquitectura46]\\n'"
      ]
     },
     "execution_count": 9,
     "metadata": {},
     "output_type": "execute_result"
    }
   ],
   "source": [
    "arq_list = [arquitectura31,arquitectura32,arquitectura33,arquitectura34,\n",
    "            arquitectura35,arquitectura36,arquitectura37,arquitectura38,\n",
    "            arquitectura39,arquitectura40,arquitectura41,arquitectura42,\n",
    "            arquitectura43,arquitectura44,arquitectura45,arquitectura46]\n",
    "\"\"\"\n",
    "arq_list = [arquitectura35,arquitectura36,arquitectura37,arquitectura38,\n",
    "            arquitectura39,arquitectura40,arquitectura41,arquitectura42,\n",
    "            arquitectura43,arquitectura44,arquitectura45,arquitectura46]\n",
    "\"\"\""
   ]
  },
  {
   "cell_type": "code",
   "execution_count": 10,
   "metadata": {},
   "outputs": [
    {
     "name": "stdout",
     "output_type": "stream",
     "text": [
      "Trial 15 Complete [00h 00m 44s]\n",
      "val_mean_absolute_percentage_error: 21.736282348632812\n",
      "\n",
      "Best val_mean_absolute_percentage_error So Far: 21.736282348632812\n",
      "Total elapsed time: 00h 05m 36s\n",
      "INFO:tensorflow:Oracle triggered exit\n",
      "Tiempo Total Transcurrido 336.1096291542053\n"
     ]
    }
   ],
   "source": [
    "arq_idx = 31\n",
    "arq_best_models = dict()\n",
    "\n",
    "for arq in arq_list:\n",
    "    \n",
    "    bayesian_tuner = BayesianOptimization(\n",
    "        arq,\n",
    "        objective='val_mean_absolute_percentage_error',\n",
    "        num_initial_points=1,\n",
    "        max_trials=15,\n",
    "        directory='my_dir',\n",
    "        project_name=str(arq_idx)\n",
    "    )\n",
    "    \n",
    "    # Overview of the task\n",
    "    bayesian_tuner.search_space_summary()\n",
    "    \n",
    "    # Performs the hyperparameter tuning\n",
    "    search_start = time.time()\n",
    "    bayesian_tuner.search(x=trainX,y=trainY,\n",
    "                      epochs=200,\n",
    "                      validation_data=(testX,testY),\n",
    "                      callbacks=callbacks)\n",
    "    search_end = time.time()\n",
    "    elapsed_time = search_end - search_start\n",
    "    \n",
    "    print('Tiempo Total Transcurrido {}'.format(elapsed_time))\n",
    "        \n",
    "    dict_key = 'Arquitectura {}'.format(arq_idx)\n",
    "\n",
    "    arq_best_models[dict_key] = dict()\n",
    "    bs_model = bayesian_tuner.oracle.get_best_trials(1)[0]\n",
    "\n",
    "    arq_best_models[dict_key]['Score'] = bs_model.score\n",
    "    arq_best_models[dict_key]['Tiempo Scaneo'] = elapsed_time\n",
    "\n",
    "    if bs_model.hyperparameters.values:\n",
    "        for hp, value in bs_model.hyperparameters.values.items():\n",
    "            arq_best_models[dict_key][hp] = value\n",
    "    \n",
    "    arq_idx += 1"
   ]
  },
  {
   "cell_type": "code",
   "execution_count": 11,
   "metadata": {},
   "outputs": [],
   "source": [
    "import json\n",
    "with open('BestModels.json', 'w') as outfile:\n",
    "    json.dump(arq_best_models, outfile)"
   ]
  },
  {
   "cell_type": "code",
   "execution_count": 12,
   "metadata": {},
   "outputs": [
    {
     "data": {
      "text/plain": [
       "{'Arquitectura 31': {'Score': 53.71327590942383,\n",
       "  'Tiempo Scaneo': 498.51460909843445,\n",
       "  'lstm_units_layer_1': 512,\n",
       "  'kernel_regularizer_layer_1': 0.105,\n",
       "  'dropout_regularizer_layer_1': 0.99,\n",
       "  'lstm_units_layer_2': 64,\n",
       "  'kernel_regularizer_layer_2': 0.09,\n",
       "  'dropout_regularizer_layer_2': 0.0,\n",
       "  'dense_layer': 120,\n",
       "  'dense_layer_activation': 'sigmoid',\n",
       "  'dropout_dense': 0.0,\n",
       "  'learning_rate': 0.01},\n",
       " 'Arquitectura 32': {'Score': 59.2144775390625,\n",
       "  'Tiempo Scaneo': 439.74560356140137,\n",
       "  'gru_units_layer_1': 192,\n",
       "  'kernel_regularizer_layer_1': 0.09,\n",
       "  'dropout_regularizer_layer_1': 0.27,\n",
       "  'gru_units_layer_2': 64,\n",
       "  'kernel_regularizer_layer_2': 0.06,\n",
       "  'dropout_regularizer_layer_2': 0.8999999999999999,\n",
       "  'dense_layer': 120,\n",
       "  'dense_layer_activation': 'tanh',\n",
       "  'dropout_dense': 0.54,\n",
       "  'learning_rate': 0.009957183217161016},\n",
       " 'Arquitectura 33': {'Score': 62.037109375,\n",
       "  'Tiempo Scaneo': 378.313036441803,\n",
       "  'lstm_units_layer_1': 64,\n",
       "  'kernel_regularizer_layer_1': 0.105,\n",
       "  'dropout_regularizer_layer_1': 0.27,\n",
       "  'dense_layer': 24,\n",
       "  'dense_layer_activation': 'relu',\n",
       "  'dropout_dense': 0.0,\n",
       "  'learning_rate': 0.00614115552272058},\n",
       " 'Arquitectura 34': {'Score': 57.18037414550781,\n",
       "  'Tiempo Scaneo': 404.6118667125702,\n",
       "  'gru_units_layer_1': 448,\n",
       "  'kernel_regularizer_layer_1': 0.0675,\n",
       "  'dropout_regularizer_layer_1': 0.54,\n",
       "  'dense_layer': 48,\n",
       "  'dense_layer_activation': 'tanh',\n",
       "  'dropout_dense': 0.18,\n",
       "  'learning_rate': 0.001000137724692764},\n",
       " 'Arquitectura 35': {'Score': 57.21086883544922,\n",
       "  'Tiempo Scaneo': 507.01358461380005,\n",
       "  'lstm_units_layer_1': 512,\n",
       "  'kernel_regularizer_layer_1': 0.09,\n",
       "  'dropout_regularizer_layer_1': 0.0,\n",
       "  'lstm_units_layer_2': 384,\n",
       "  'kernel_regularizer_layer_2': 0.0075,\n",
       "  'dropout_regularizer_layer_2': 0.36,\n",
       "  'learning_rate': 0.001095926682820094},\n",
       " 'Arquitectura 36': {'Score': 57.67246627807617,\n",
       "  'Tiempo Scaneo': 428.5550994873047,\n",
       "  'gru_units_layer_1': 128,\n",
       "  'kernel_regularizer_layer_1': 0.09,\n",
       "  'dropout_regularizer_layer_1': 0.8999999999999999,\n",
       "  'gru_units_layer_2': 128,\n",
       "  'kernel_regularizer_layer_2': 0.075,\n",
       "  'dropout_regularizer_layer_2': 0.72,\n",
       "  'learning_rate': 0.007793289152929498},\n",
       " 'Arquitectura 37': {'Score': 61.52120590209961,\n",
       "  'Tiempo Scaneo': 382.919798374176,\n",
       "  'lstm_units_layer_1': 256,\n",
       "  'kernel_regularizer_layer_1': 0.045,\n",
       "  'dropout_regularizer_layer_1': 0.8999999999999999,\n",
       "  'learning_rate': 0.0017175315684989703},\n",
       " 'Arquitectura 38': {'Score': 52.50968933105469,\n",
       "  'Tiempo Scaneo': 348.82464504241943,\n",
       "  'gru_units_layer_1': 192,\n",
       "  'kernel_regularizer_layer_1': 0.0975,\n",
       "  'dropout_regularizer_layer_1': 0.0,\n",
       "  'learning_rate': 0.0041283242094343016},\n",
       " 'Arquitectura 39': {'Score': 60.4010009765625,\n",
       "  'Tiempo Scaneo': 548.5634589195251,\n",
       "  'lstm_units_layer_1': 128,\n",
       "  'kernel_regularizer_layer_1': 0.0,\n",
       "  'dropout_regularizer_layer_1': 0.18,\n",
       "  'lstm_units_layer_2': 192,\n",
       "  'kernel_regularizer_layer_2': 0.03,\n",
       "  'dropout_regularizer_layer_2': 0.36,\n",
       "  'dense_layer': 96,\n",
       "  'dense_layer_activation': 'relu',\n",
       "  'dropout_dense': 0.54,\n",
       "  'learning_rate': 0.00018613978679717422},\n",
       " 'Arquitectura 40': {'Score': 61.076805114746094,\n",
       "  'Tiempo Scaneo': 437.0081684589386,\n",
       "  'gru_units_layer_1': 448,\n",
       "  'kernel_regularizer_layer_1': 0.0,\n",
       "  'dropout_regularizer_layer_1': 0.72,\n",
       "  'gru_units_layer_2': 64,\n",
       "  'kernel_regularizer_layer_2': 0.015,\n",
       "  'dropout_regularizer_layer_2': 0.44999999999999996,\n",
       "  'dense_layer': 72,\n",
       "  'dense_layer_activation': 'relu',\n",
       "  'dropout_dense': 0.54,\n",
       "  'learning_rate': 0.00034767305163262483},\n",
       " 'Arquitectura 41': {'Score': 54.73426055908203,\n",
       "  'Tiempo Scaneo': 347.9514214992523,\n",
       "  'lstm_units_layer_1': 128,\n",
       "  'kernel_regularizer_layer_1': 0.0525,\n",
       "  'dropout_regularizer_layer_1': 0.09,\n",
       "  'dense_layer': 24,\n",
       "  'dense_layer_activation': 'sigmoid',\n",
       "  'dropout_dense': 0.0,\n",
       "  'learning_rate': 0.00377947536178821},\n",
       " 'Arquitectura 42': {'Score': 20.389690399169922,\n",
       "  'Tiempo Scaneo': 230.99811553955078,\n",
       "  'gru_units_layer_1': 256,\n",
       "  'kernel_regularizer_layer_1': 0.0,\n",
       "  'dropout_regularizer_layer_1': 0.0,\n",
       "  'dense_layer': 120,\n",
       "  'dense_layer_activation': 'relu',\n",
       "  'dropout_dense': 0.0,\n",
       "  'learning_rate': 0.0004510169366755908},\n",
       " 'Arquitectura 43': {'Score': 62.290870666503906,\n",
       "  'Tiempo Scaneo': 441.45549988746643,\n",
       "  'lstm_units_layer_1': 448,\n",
       "  'kernel_regularizer_layer_1': 0.045,\n",
       "  'dropout_regularizer_layer_1': 0.72,\n",
       "  'lstm_units_layer_2': 256,\n",
       "  'kernel_regularizer_layer_2': 0.0975,\n",
       "  'dropout_regularizer_layer_2': 0.8099999999999999,\n",
       "  'learning_rate': 0.004665484660690652},\n",
       " 'Arquitectura 44': {'Score': 59.60087585449219,\n",
       "  'Tiempo Scaneo': 413.7057611942291,\n",
       "  'gru_units_layer_1': 192,\n",
       "  'kernel_regularizer_layer_1': 0.0,\n",
       "  'dropout_regularizer_layer_1': 0.27,\n",
       "  'gru_units_layer_2': 256,\n",
       "  'kernel_regularizer_layer_2': 0.015,\n",
       "  'dropout_regularizer_layer_2': 0.18,\n",
       "  'learning_rate': 0.0021149027690987466},\n",
       " 'Arquitectura 45': {'Score': 20.909833908081055,\n",
       "  'Tiempo Scaneo': 505.97408652305603,\n",
       "  'lstm_units_layer_1': 320,\n",
       "  'kernel_regularizer_layer_1': 0.0,\n",
       "  'dropout_regularizer_layer_1': 0.0,\n",
       "  'learning_rate': 0.0012247715646656922},\n",
       " 'Arquitectura 46': {'Score': 21.736282348632812,\n",
       "  'Tiempo Scaneo': 336.1096291542053,\n",
       "  'gru_units_layer_1': 448,\n",
       "  'kernel_regularizer_layer_1': 0.0,\n",
       "  'dropout_regularizer_layer_1': 0.09,\n",
       "  'learning_rate': 0.0006378283851303037}}"
      ]
     },
     "execution_count": 12,
     "metadata": {},
     "output_type": "execute_result"
    }
   ],
   "source": [
    "arq_best_models"
   ]
  },
  {
   "cell_type": "code",
   "execution_count": null,
   "metadata": {},
   "outputs": [],
   "source": []
  },
  {
   "cell_type": "code",
   "execution_count": null,
   "metadata": {},
   "outputs": [],
   "source": []
  },
  {
   "cell_type": "code",
   "execution_count": null,
   "metadata": {
    "scrolled": true
   },
   "outputs": [],
   "source": [
    "bayesian_tuner = BayesianOptimization(\n",
    "    arquitectura38,\n",
    "    objective='val_mean_absolute_percentage_error',\n",
    "    num_initial_points=1,\n",
    "    max_trials=15,\n",
    "    directory='my_dir',\n",
    "    project_name='tuning_38'\n",
    ")\n",
    "\n",
    "# Overview of the task\n",
    "bayesian_tuner.search_space_summary()\n",
    "\n",
    "# Performs the hyperparameter tuning\n",
    "search_start = time.time()\n",
    "bayesian_tuner.search(x=trainX,y=trainY,\n",
    "                      epochs=200,\n",
    "                      validation_data=(testX,testY),\n",
    "                      callbacks=callbacks)\n",
    "search_end = time.time()\n",
    "elapsed_time = search_end - search_start"
   ]
  },
  {
   "cell_type": "code",
   "execution_count": null,
   "metadata": {
    "scrolled": true
   },
   "outputs": [],
   "source": [
    "print('Tiempo Total Transcurrido {}'.format(elapsed_time))\n",
    "\n",
    "# Show a summary of the search\n",
    "bayesian_tuner.results_summary()"
   ]
  },
  {
   "cell_type": "code",
   "execution_count": null,
   "metadata": {},
   "outputs": [],
   "source": [
    "# Retrieve the best model.\n",
    "best_model = bayesian_tuner.get_best_models(num_models=1)[0]\n",
    "\n",
    "# Evaluate the best model.\n",
    "loss, mae, mape, smape = best_model.evaluate(x=testX,y=testY)"
   ]
  },
  {
   "cell_type": "code",
   "execution_count": null,
   "metadata": {},
   "outputs": [],
   "source": [
    "best_model.to_json()"
   ]
  }
 ],
 "metadata": {
  "kernelspec": {
   "display_name": "Proyecto Grados",
   "language": "python",
   "name": "proyecto-grados"
  },
  "language_info": {
   "codemirror_mode": {
    "name": "ipython",
    "version": 3
   },
   "file_extension": ".py",
   "mimetype": "text/x-python",
   "name": "python",
   "nbconvert_exporter": "python",
   "pygments_lexer": "ipython3",
   "version": "3.8.3"
  }
 },
 "nbformat": 4,
 "nbformat_minor": 4
}
