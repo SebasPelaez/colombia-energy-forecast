{
 "cells": [
  {
   "cell_type": "code",
   "execution_count": 1,
   "metadata": {},
   "outputs": [],
   "source": [
    "import os\n",
    "import numpy as np\n",
    "import pandas as pd\n",
    "import tensorflow as tf\n",
    "import time\n",
    "\n",
    "import CustomHyperModel\n",
    "import EnergyPricesLibrary as Ep\n",
    "\n",
    "from kerastuner.tuners import BayesianOptimization\n",
    "\n",
    "%load_ext autoreload\n",
    "%autoreload 2"
   ]
  },
  {
   "cell_type": "code",
   "execution_count": 2,
   "metadata": {},
   "outputs": [],
   "source": [
    "def make_predictions(model,scaler_y,trainX,trainY,testX,testY,n_steps_out,len_output_features):\n",
    "    \n",
    "    # make predictions\n",
    "    trainPredict = model.predict(trainX)\n",
    "    trainPredict = trainPredict.reshape(trainPredict.shape[0]*n_steps_out,len_output_features)\n",
    "    testPredict  = model.predict(testX)\n",
    "    testPredict  = testPredict.reshape(testPredict.shape[0]*n_steps_out,len_output_features)\n",
    "    \n",
    "    # invert predictions\n",
    "    trainPredict = scaler_y.inverse_transform(trainPredict)\n",
    "    trainY_ = scaler_y.inverse_transform(trainY.reshape(trainY.shape[0]*n_steps_out,len_output_features))\n",
    "    \n",
    "    testPredict = scaler_y.inverse_transform(testPredict)\n",
    "    testY_ = scaler_y.inverse_transform(testY.reshape(testY.shape[0]*n_steps_out,len_output_features))\n",
    "        \n",
    "    return trainPredict,trainY_,testPredict,testY_\n",
    "\n",
    "def get_metrics(trainY,trainPredict,testY,testPredict):\n",
    "    \n",
    "    trainMAPE  = Ep.MAPE(trainPredict,trainY)\n",
    "    testMAPE  = Ep.MAPE(testPredict,testY)\n",
    "    \n",
    "    return trainMAPE,testMAPE"
   ]
  },
  {
   "cell_type": "markdown",
   "metadata": {},
   "source": [
    "# DATASET"
   ]
  },
  {
   "cell_type": "markdown",
   "metadata": {},
   "source": [
    "## Load Dataset"
   ]
  },
  {
   "cell_type": "code",
   "execution_count": 3,
   "metadata": {},
   "outputs": [],
   "source": [
    "data_diaria_path = os.path.join('..','..','dataset','Series','Sabanas','Original','Sabana_Datos_Diaria.xlsx')\n",
    "data_diaria = pd.read_excel(data_diaria_path)\n",
    "data_diaria = data_diaria.set_index('Fecha')"
   ]
  },
  {
   "cell_type": "code",
   "execution_count": 4,
   "metadata": {},
   "outputs": [],
   "source": [
    "nombre_series = data_diaria.columns.values"
   ]
  },
  {
   "cell_type": "code",
   "execution_count": 5,
   "metadata": {},
   "outputs": [],
   "source": [
    "precio_bolsa_path = os.path.join('..','..','dataset','Series','Sabanas','Original','Sabana_Datos_Precio_Bolsa.xlsx')\n",
    "precio_bolsa = pd.read_excel(precio_bolsa_path)\n",
    "precio_bolsa = precio_bolsa.set_index('Fecha')"
   ]
  },
  {
   "cell_type": "code",
   "execution_count": 6,
   "metadata": {},
   "outputs": [
    {
     "data": {
      "text/plain": [
       "((7365, 119), (176760, 1))"
      ]
     },
     "execution_count": 6,
     "metadata": {},
     "output_type": "execute_result"
    }
   ],
   "source": [
    "data_diaria.shape, precio_bolsa.shape"
   ]
  },
  {
   "cell_type": "markdown",
   "metadata": {},
   "source": [
    "## Build Window"
   ]
  },
  {
   "cell_type": "code",
   "execution_count": 7,
   "metadata": {},
   "outputs": [
    {
     "data": {
      "text/plain": [
       "((7244, 30, 119), (7244, 24, 1), (91, 30, 119), (91, 24, 1))"
      ]
     },
     "execution_count": 7,
     "metadata": {},
     "output_type": "execute_result"
    }
   ],
   "source": [
    "d = 'All'\n",
    "time_split = '2020-01-01'\n",
    "n_steps_in = 30\n",
    "n_steps_out=24\n",
    "overlap = 1\n",
    "inputs_columns = nombre_series\n",
    "output_columns = ['$kWh']\n",
    "\n",
    "len_input_features = len(inputs_columns)\n",
    "len_output_features = len(output_columns)\n",
    "\n",
    "trainX, trainY, testX, testY, scaler_x,scaler_y, dataset_x, dataset_y = Ep.SplitTimeseriesMultipleTimesBackAhead_differentTimes(\n",
    "    df_x=data_diaria,\n",
    "    df_y=precio_bolsa,\n",
    "    day = d, \n",
    "    TimeSplit = time_split,\n",
    "    n_steps_out=n_steps_out,\n",
    "    n_steps_in =n_steps_in, \n",
    "    overlap = overlap,\n",
    "    input_features=inputs_columns,\n",
    "    output_features=output_columns)\n",
    "\n",
    "trainX.shape,trainY.shape,testX.shape,testY.shape"
   ]
  },
  {
   "cell_type": "code",
   "execution_count": 8,
   "metadata": {},
   "outputs": [],
   "source": [
    "\"\"\"\n",
    "log_dir = os.path.join('logs','Optimización')\n",
    "if not os.path.exists(log_dir):\n",
    "    os.makedirs(log_dir)\n",
    "callback_tensorboard = tf.keras.callbacks.TensorBoard(log_dir=log_dir,\n",
    "                                                          histogram_freq=2,\n",
    "                                                          write_graph=False,\n",
    "                                                          update_freq='epoch\n",
    "\"\"\"\n",
    "    \n",
    "callback_reduce_lr = tf.keras.callbacks.ReduceLROnPlateau(monitor='val_loss',\n",
    "                                                          factor=0.1,\n",
    "                                                          min_lr=1e-4,\n",
    "                                                          patience=0,\n",
    "                                                          verbose=1)\n",
    "\n",
    "early_stopping = tf.keras.callbacks.EarlyStopping(monitor='val_loss',\n",
    "                                                  patience=5,\n",
    "                                                  mode='min')\n",
    "\n",
    "#callbacks = [callback_tensorboard,callback_reduce_lr,early_stopping]\n",
    "callbacks = [callback_reduce_lr,early_stopping]"
   ]
  },
  {
   "cell_type": "code",
   "execution_count": 9,
   "metadata": {},
   "outputs": [],
   "source": [
    "INPUT_SHAPE = (n_steps_in,len_input_features)\n",
    "\n",
    "arquitectura31 = CustomHyperModel.Arquitectura31(input_shape=INPUT_SHAPE,n_steps_out=n_steps_out)\n",
    "arquitectura32 = CustomHyperModel.Arquitectura32(input_shape=INPUT_SHAPE,n_steps_out=n_steps_out)\n",
    "arquitectura33 = CustomHyperModel.Arquitectura33(input_shape=INPUT_SHAPE,n_steps_out=n_steps_out)\n",
    "arquitectura34 = CustomHyperModel.Arquitectura34(input_shape=INPUT_SHAPE,n_steps_out=n_steps_out)\n",
    "arquitectura35 = CustomHyperModel.Arquitectura35(input_shape=INPUT_SHAPE,n_steps_out=n_steps_out)\n",
    "arquitectura36 = CustomHyperModel.Arquitectura36(input_shape=INPUT_SHAPE,n_steps_out=n_steps_out)\n",
    "arquitectura37 = CustomHyperModel.Arquitectura37(input_shape=INPUT_SHAPE,n_steps_out=n_steps_out)\n",
    "arquitectura38 = CustomHyperModel.Arquitectura38(input_shape=INPUT_SHAPE,n_steps_out=n_steps_out)\n",
    "\n",
    "arquitectura39 = CustomHyperModel.Arquitectura39(input_shape=INPUT_SHAPE,n_steps_out=n_steps_out)\n",
    "arquitectura40 = CustomHyperModel.Arquitectura40(input_shape=INPUT_SHAPE,n_steps_out=n_steps_out)\n",
    "arquitectura41 = CustomHyperModel.Arquitectura41(input_shape=INPUT_SHAPE,n_steps_out=n_steps_out)\n",
    "arquitectura42 = CustomHyperModel.Arquitectura42(input_shape=INPUT_SHAPE,n_steps_out=n_steps_out)\n",
    "arquitectura43 = CustomHyperModel.Arquitectura43(input_shape=INPUT_SHAPE,n_steps_out=n_steps_out)\n",
    "arquitectura44 = CustomHyperModel.Arquitectura44(input_shape=INPUT_SHAPE,n_steps_out=n_steps_out)\n",
    "arquitectura45 = CustomHyperModel.Arquitectura45(input_shape=INPUT_SHAPE,n_steps_out=n_steps_out)\n",
    "arquitectura46 = CustomHyperModel.Arquitectura46(input_shape=INPUT_SHAPE,n_steps_out=n_steps_out)"
   ]
  },
  {
   "cell_type": "code",
   "execution_count": 10,
   "metadata": {},
   "outputs": [
    {
     "data": {
      "text/plain": [
       "'\\narq_list = [arquitectura35,arquitectura36,arquitectura37,arquitectura38,\\n            arquitectura39,arquitectura40,arquitectura41,arquitectura42,\\n            arquitectura43,arquitectura44,arquitectura45,arquitectura46]\\n'"
      ]
     },
     "execution_count": 10,
     "metadata": {},
     "output_type": "execute_result"
    }
   ],
   "source": [
    "arq_list = [arquitectura31,arquitectura32,arquitectura33,arquitectura34,\n",
    "            arquitectura35,arquitectura36,arquitectura37,arquitectura38,\n",
    "            arquitectura39,arquitectura40,arquitectura41,arquitectura42,\n",
    "            arquitectura43,arquitectura44,arquitectura45,arquitectura46]\n",
    "\"\"\"\n",
    "arq_list = [arquitectura35,arquitectura36,arquitectura37,arquitectura38,\n",
    "            arquitectura39,arquitectura40,arquitectura41,arquitectura42,\n",
    "            arquitectura43,arquitectura44,arquitectura45,arquitectura46]\n",
    "\"\"\""
   ]
  },
  {
   "cell_type": "code",
   "execution_count": 11,
   "metadata": {},
   "outputs": [
    {
     "name": "stdout",
     "output_type": "stream",
     "text": [
      "Trial 10 Complete [00h 00m 32s]\n",
      "val_mean_absolute_percentage_error: 25.055665969848633\n",
      "\n",
      "Best val_mean_absolute_percentage_error So Far: 19.48134994506836\n",
      "Total elapsed time: 00h 07m 03s\n",
      "INFO:tensorflow:Oracle triggered exit\n",
      "Tiempo Total Transcurrido 423.5437705516815\n"
     ]
    }
   ],
   "source": [
    "arq_idx = 31\n",
    "arq_best_models = dict()\n",
    "\n",
    "for arq in arq_list:\n",
    "    \n",
    "    bayesian_tuner = BayesianOptimization(\n",
    "        arq,\n",
    "        objective='val_mean_absolute_percentage_error',\n",
    "        num_initial_points=1,\n",
    "        max_trials=10,\n",
    "        directory='my_dir',\n",
    "        project_name=str(arq_idx)\n",
    "    )\n",
    "    \n",
    "    # Overview of the task\n",
    "    bayesian_tuner.search_space_summary()\n",
    "    \n",
    "    # Performs the hyperparameter tuning\n",
    "    search_start = time.time()\n",
    "    bayesian_tuner.search(x=trainX,y=trainY,\n",
    "                      epochs=200,\n",
    "                      validation_data=(testX,testY),\n",
    "                      callbacks=callbacks)\n",
    "    search_end = time.time()\n",
    "    elapsed_time = search_end - search_start\n",
    "    \n",
    "    print('Tiempo Total Transcurrido {}'.format(elapsed_time))\n",
    "        \n",
    "    dict_key = 'Arquitectura {}'.format(arq_idx)\n",
    "\n",
    "    arq_best_models[dict_key] = dict()\n",
    "    bs_model = bayesian_tuner.oracle.get_best_trials(1)[0]\n",
    "    \n",
    "    model = bayesian_tuner.get_best_models(num_models=1)[0]\n",
    "    \n",
    "    trainPredict,trainY_true,testPredict,testY_true = make_predictions(model,scaler_y,trainX,trainY,testX,testY,\n",
    "                                                             n_steps_out,len_output_features)\n",
    "    \n",
    "    trainMAPE,testMAPE = get_metrics(trainY_true,trainPredict,testY_true,testPredict)\n",
    "\n",
    "    arq_best_models[dict_key]['Score'] = bs_model.score\n",
    "    arq_best_models[dict_key]['Tiempo Scaneo'] = elapsed_time\n",
    "    arq_best_models[dict_key]['Mape Train'] = trainMAPE\n",
    "    arq_best_models[dict_key]['Mape Test'] = testMAPE\n",
    "\n",
    "    if bs_model.hyperparameters.values:\n",
    "        for hp, value in bs_model.hyperparameters.values.items():\n",
    "            arq_best_models[dict_key][hp] = value\n",
    "    \n",
    "    arq_idx += 1"
   ]
  },
  {
   "cell_type": "code",
   "execution_count": 12,
   "metadata": {},
   "outputs": [],
   "source": [
    "import json\n",
    "with open('BestModels25.json', 'w') as outfile:\n",
    "    json.dump(arq_best_models, outfile)"
   ]
  },
  {
   "cell_type": "code",
   "execution_count": 13,
   "metadata": {},
   "outputs": [
    {
     "data": {
      "text/plain": [
       "{'Arquitectura 31': {'Score': 25.512014389038086,\n",
       "  'Tiempo Scaneo': 0.0039865970611572266,\n",
       "  'Mape Train': 0.39236496405007487,\n",
       "  'Mape Test': 0.2301252116783175,\n",
       "  'lstm_units_layer_1': 64,\n",
       "  'kernel_regularizer_layer_1': 0.0975,\n",
       "  'dropout_regularizer_layer_1': 0.0,\n",
       "  'lstm_units_layer_2': 512,\n",
       "  'kernel_regularizer_layer_2': 0.03,\n",
       "  'dropout_regularizer_layer_2': 0.0,\n",
       "  'dense_layer': 120,\n",
       "  'dense_layer_activation': 'relu',\n",
       "  'dropout_dense': 0.0,\n",
       "  'learning_rate': 0.0001},\n",
       " 'Arquitectura 32': {'Score': 55.151371002197266,\n",
       "  'Tiempo Scaneo': 400.6307144165039,\n",
       "  'Mape Train': 1.1732883010689814,\n",
       "  'Mape Test': 0.5161153753285608,\n",
       "  'gru_units_layer_1': 384,\n",
       "  'kernel_regularizer_layer_1': 0.0525,\n",
       "  'dropout_regularizer_layer_1': 0.36,\n",
       "  'gru_units_layer_2': 256,\n",
       "  'kernel_regularizer_layer_2': 0.08249999999999999,\n",
       "  'dropout_regularizer_layer_2': 0.0,\n",
       "  'dense_layer': 96,\n",
       "  'dense_layer_activation': 'tanh',\n",
       "  'dropout_dense': 0.18,\n",
       "  'learning_rate': 0.0003715717019676744},\n",
       " 'Arquitectura 33': {'Score': 21.572790145874023,\n",
       "  'Tiempo Scaneo': 429.7157950401306,\n",
       "  'Mape Train': 0.3158724953464166,\n",
       "  'Mape Test': 0.19554747186993246,\n",
       "  'lstm_units_layer_1': 64,\n",
       "  'kernel_regularizer_layer_1': 0.0,\n",
       "  'dropout_regularizer_layer_1': 0.8099999999999999,\n",
       "  'dense_layer': 96,\n",
       "  'dense_layer_activation': 'sigmoid',\n",
       "  'dropout_dense': 0.0,\n",
       "  'learning_rate': 0.0015316488116206162},\n",
       " 'Arquitectura 34': {'Score': 21.54970359802246,\n",
       "  'Tiempo Scaneo': 323.0697271823883,\n",
       "  'Mape Train': 0.44021289632604177,\n",
       "  'Mape Test': 0.1935465969675873,\n",
       "  'gru_units_layer_1': 128,\n",
       "  'kernel_regularizer_layer_1': 0.0,\n",
       "  'dropout_regularizer_layer_1': 0.54,\n",
       "  'dense_layer': 24,\n",
       "  'dense_layer_activation': 'relu',\n",
       "  'dropout_dense': 0.54,\n",
       "  'learning_rate': 0.0001},\n",
       " 'Arquitectura 35': {'Score': 30.601808547973633,\n",
       "  'Tiempo Scaneo': 556.5912461280823,\n",
       "  'Mape Train': 0.8470957873302207,\n",
       "  'Mape Test': 0.278630434313673,\n",
       "  'lstm_units_layer_1': 320,\n",
       "  'kernel_regularizer_layer_1': 0.0,\n",
       "  'dropout_regularizer_layer_1': 0.99,\n",
       "  'lstm_units_layer_2': 64,\n",
       "  'kernel_regularizer_layer_2': 0.0,\n",
       "  'dropout_regularizer_layer_2': 0.44999999999999996,\n",
       "  'learning_rate': 0.0001},\n",
       " 'Arquitectura 36': {'Score': 25.19261360168457,\n",
       "  'Tiempo Scaneo': 637.5710983276367,\n",
       "  'Mape Train': 0.5531696802387747,\n",
       "  'Mape Test': 0.22926823735560112,\n",
       "  'gru_units_layer_1': 512,\n",
       "  'kernel_regularizer_layer_1': 0.0,\n",
       "  'dropout_regularizer_layer_1': 0.0,\n",
       "  'gru_units_layer_2': 512,\n",
       "  'kernel_regularizer_layer_2': 0.0,\n",
       "  'dropout_regularizer_layer_2': 0.0,\n",
       "  'learning_rate': 0.0001},\n",
       " 'Arquitectura 37': {'Score': 41.63941955566406,\n",
       "  'Tiempo Scaneo': 454.72211480140686,\n",
       "  'Mape Train': 1.0239493685169232,\n",
       "  'Mape Test': 0.3875104705599503,\n",
       "  'lstm_units_layer_1': 384,\n",
       "  'kernel_regularizer_layer_1': 0.015,\n",
       "  'dropout_regularizer_layer_1': 0.54,\n",
       "  'learning_rate': 0.007468177262171157},\n",
       " 'Arquitectura 38': {'Score': 25.461591720581055,\n",
       "  'Tiempo Scaneo': 364.3055102825165,\n",
       "  'Mape Train': 0.3731856492671225,\n",
       "  'Mape Test': 0.23332646146761557,\n",
       "  'gru_units_layer_1': 256,\n",
       "  'kernel_regularizer_layer_1': 0.0,\n",
       "  'dropout_regularizer_layer_1': 0.18,\n",
       "  'learning_rate': 0.0001},\n",
       " 'Arquitectura 39': {'Score': 61.32722473144531,\n",
       "  'Tiempo Scaneo': 582.4876618385315,\n",
       "  'Mape Train': 0.9509182032790419,\n",
       "  'Mape Test': 0.5745146288670105,\n",
       "  'lstm_units_layer_1': 448,\n",
       "  'kernel_regularizer_layer_1': 0.06,\n",
       "  'dropout_regularizer_layer_1': 0.18,\n",
       "  'lstm_units_layer_2': 256,\n",
       "  'kernel_regularizer_layer_2': 0.0225,\n",
       "  'dropout_regularizer_layer_2': 0.27,\n",
       "  'dense_layer': 120,\n",
       "  'dense_layer_activation': 'tanh',\n",
       "  'dropout_dense': 0.18,\n",
       "  'learning_rate': 0.008875755123892267},\n",
       " 'Arquitectura 40': {'Score': 62.33683776855469,\n",
       "  'Tiempo Scaneo': 820.0968992710114,\n",
       "  'Mape Train': 0.9158152505790359,\n",
       "  'Mape Test': 0.5841032525263942,\n",
       "  'gru_units_layer_1': 512,\n",
       "  'kernel_regularizer_layer_1': 0.105,\n",
       "  'dropout_regularizer_layer_1': 0.8999999999999999,\n",
       "  'gru_units_layer_2': 512,\n",
       "  'kernel_regularizer_layer_2': 0.105,\n",
       "  'dropout_regularizer_layer_2': 0.63,\n",
       "  'dense_layer': 24,\n",
       "  'dense_layer_activation': 'relu',\n",
       "  'dropout_dense': 0.99,\n",
       "  'learning_rate': 0.01},\n",
       " 'Arquitectura 41': {'Score': 20.49862289428711,\n",
       "  'Tiempo Scaneo': 403.069687128067,\n",
       "  'Mape Train': 0.27027989298099564,\n",
       "  'Mape Test': 0.1882223295410718,\n",
       "  'lstm_units_layer_1': 512,\n",
       "  'kernel_regularizer_layer_1': 0.0,\n",
       "  'dropout_regularizer_layer_1': 0.8099999999999999,\n",
       "  'dense_layer': 96,\n",
       "  'dense_layer_activation': 'tanh',\n",
       "  'dropout_dense': 0.36,\n",
       "  'learning_rate': 0.005862532523814471},\n",
       " 'Arquitectura 42': {'Score': 20.207077026367188,\n",
       "  'Tiempo Scaneo': 311.2086296081543,\n",
       "  'Mape Train': 0.26820916380838056,\n",
       "  'Mape Test': 0.1834431175860716,\n",
       "  'gru_units_layer_1': 192,\n",
       "  'kernel_regularizer_layer_1': 0.0,\n",
       "  'dropout_regularizer_layer_1': 0.0,\n",
       "  'dense_layer': 120,\n",
       "  'dense_layer_activation': 'tanh',\n",
       "  'dropout_dense': 0.72,\n",
       "  'learning_rate': 0.0012076559292965312},\n",
       " 'Arquitectura 43': {'Score': 28.677785873413086,\n",
       "  'Tiempo Scaneo': 561.8459982872009,\n",
       "  'Mape Train': 0.9153761204451849,\n",
       "  'Mape Test': 0.2603785987586551,\n",
       "  'lstm_units_layer_1': 192,\n",
       "  'kernel_regularizer_layer_1': 0.0225,\n",
       "  'dropout_regularizer_layer_1': 0.54,\n",
       "  'lstm_units_layer_2': 320,\n",
       "  'kernel_regularizer_layer_2': 0.045,\n",
       "  'dropout_regularizer_layer_2': 0.8999999999999999,\n",
       "  'learning_rate': 0.00022334218494221287},\n",
       " 'Arquitectura 44': {'Score': 47.58858108520508,\n",
       "  'Tiempo Scaneo': 440.32945442199707,\n",
       "  'Mape Train': 0.5994597521733177,\n",
       "  'Mape Test': 0.4446440236794505,\n",
       "  'gru_units_layer_1': 320,\n",
       "  'kernel_regularizer_layer_1': 0.06,\n",
       "  'dropout_regularizer_layer_1': 0.8999999999999999,\n",
       "  'gru_units_layer_2': 128,\n",
       "  'kernel_regularizer_layer_2': 0.0525,\n",
       "  'dropout_regularizer_layer_2': 0.0,\n",
       "  'learning_rate': 0.00020134398848677663},\n",
       " 'Arquitectura 45': {'Score': 20.363985061645508,\n",
       "  'Tiempo Scaneo': 487.16016602516174,\n",
       "  'Mape Train': 0.30608387885721955,\n",
       "  'Mape Test': 0.18525748308272608,\n",
       "  'lstm_units_layer_1': 512,\n",
       "  'kernel_regularizer_layer_1': 0.0,\n",
       "  'dropout_regularizer_layer_1': 0.54,\n",
       "  'learning_rate': 0.0001},\n",
       " 'Arquitectura 46': {'Score': 19.48134994506836,\n",
       "  'Tiempo Scaneo': 423.5437705516815,\n",
       "  'Mape Train': 0.3594672830022183,\n",
       "  'Mape Test': 0.17615223550179626,\n",
       "  'gru_units_layer_1': 512,\n",
       "  'kernel_regularizer_layer_1': 0.0,\n",
       "  'dropout_regularizer_layer_1': 0.0,\n",
       "  'learning_rate': 0.0001}}"
      ]
     },
     "execution_count": 13,
     "metadata": {},
     "output_type": "execute_result"
    }
   ],
   "source": [
    "arq_best_models"
   ]
  },
  {
   "cell_type": "code",
   "execution_count": null,
   "metadata": {},
   "outputs": [],
   "source": []
  },
  {
   "cell_type": "code",
   "execution_count": null,
   "metadata": {},
   "outputs": [],
   "source": []
  },
  {
   "cell_type": "code",
   "execution_count": null,
   "metadata": {
    "scrolled": true
   },
   "outputs": [],
   "source": [
    "bayesian_tuner = BayesianOptimization(\n",
    "    arquitectura38,\n",
    "    objective='val_mean_absolute_percentage_error',\n",
    "    num_initial_points=1,\n",
    "    max_trials=15,\n",
    "    directory='my_dir',\n",
    "    project_name='tuning_38'\n",
    ")\n",
    "\n",
    "# Overview of the task\n",
    "bayesian_tuner.search_space_summary()\n",
    "\n",
    "# Performs the hyperparameter tuning\n",
    "search_start = time.time()\n",
    "bayesian_tuner.search(x=trainX,y=trainY,\n",
    "                      epochs=200,\n",
    "                      validation_data=(testX,testY),\n",
    "                      callbacks=callbacks)\n",
    "search_end = time.time()\n",
    "elapsed_time = search_end - search_start"
   ]
  },
  {
   "cell_type": "code",
   "execution_count": null,
   "metadata": {
    "scrolled": true
   },
   "outputs": [],
   "source": [
    "print('Tiempo Total Transcurrido {}'.format(elapsed_time))\n",
    "\n",
    "# Show a summary of the search\n",
    "bayesian_tuner.results_summary()"
   ]
  },
  {
   "cell_type": "code",
   "execution_count": null,
   "metadata": {},
   "outputs": [],
   "source": [
    "# Retrieve the best model.\n",
    "best_model = bayesian_tuner.get_best_models(num_models=1)[0]\n",
    "\n",
    "# Evaluate the best model.\n",
    "loss, mae, mape, smape = best_model.evaluate(x=testX,y=testY)"
   ]
  },
  {
   "cell_type": "code",
   "execution_count": null,
   "metadata": {},
   "outputs": [],
   "source": [
    "best_model.to_json()"
   ]
  }
 ],
 "metadata": {
  "kernelspec": {
   "display_name": "Proyecto Grados",
   "language": "python",
   "name": "proyecto-grados"
  },
  "language_info": {
   "codemirror_mode": {
    "name": "ipython",
    "version": 3
   },
   "file_extension": ".py",
   "mimetype": "text/x-python",
   "name": "python",
   "nbconvert_exporter": "python",
   "pygments_lexer": "ipython3",
   "version": "3.8.3"
  }
 },
 "nbformat": 4,
 "nbformat_minor": 4
}
