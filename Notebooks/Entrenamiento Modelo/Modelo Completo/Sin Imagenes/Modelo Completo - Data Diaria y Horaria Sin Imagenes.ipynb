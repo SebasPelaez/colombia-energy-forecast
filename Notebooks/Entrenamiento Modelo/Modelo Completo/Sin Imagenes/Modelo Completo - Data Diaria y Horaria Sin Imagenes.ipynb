{
 "cells": [
  {
   "cell_type": "code",
   "execution_count": 1,
   "metadata": {
    "executionInfo": {
     "elapsed": 3242,
     "status": "ok",
     "timestamp": 1612487914726,
     "user": {
      "displayName": "JUAN SEBASTIÁN PELÁEZ VILLA",
      "photoUrl": "https://lh3.googleusercontent.com/a-/AOh14Ggc0MTZ3-jRn-hXLUMWcVhRE_vR6k4WbZPA-x_ne3WxNiTD7tmqcVflHIE6x1jWHszFQZgkHRh7-E9wZmocsEmKuvx3IKna9h8ptMamEVSfwh_7Anotab7VnBN1TylZCkmrxAGMffvLQuzNikW7of0LOdIxNcqyXIaD8HOZz3VLuryFYeB44jhXeXJbCxiZeBbEkaiLmIIRJj-3t0yBobLNCJzjXCbzsSr1beuQ_oDzcMqKXynZq4zw7LmjxW9H_QtrpHFDBYEtRtrLn9AOnjwHLDOQebFdXWKcGk4J7eq9g2rml0IcX16payM4VZ2wVtmoySJYfi_PiUnN7mmOqHqxa78PQb2eTXdJUoR9u18l8ANEt0bDQIpb3qSvesyzQAfdIp9sue0g27p2lsfjno39dQVBj1orn6NdSiNGUt1LHwfasD1z3evTeskojIZ77NWmB1nt2uOPdnydvEA02363Pk4eUWw58x8fljz5jUYAtNjsE5Lo34ZKMFM6VS8KtGOF6o42sWAapXYPBHa3jYZhuV8DjGCeQfhD12fuxXRu5Y3HpjzqYBiEFNP2gg8NcyCLCzrjmig_gyoeDeDjFy7H7A0sCrbY0ttvk18JBiiD4pf0DNfzITldXo_OpLeSKXbRowkjcCWInjqPcZKcXvZy8MMntmnruxf-jV1zRhZJ0kJc0epOhnCTtpabE8S0e2C9FP4K2pnpakA2TnMnWCUs-yD9R-6febeZcTW4Uz4s6FoNqs4aoo-zhtOmRu6yHyDhQk0=s64",
      "userId": "00260520649597601100"
     },
     "user_tz": 300
    },
    "id": "K-YpRzhNuCoe"
   },
   "outputs": [],
   "source": [
    "import os\n",
    "import numpy as np\n",
    "import pandas as pd\n",
    "import tensorflow as tf\n",
    "import time\n",
    "import math\n",
    "import sys\n",
    "import matplotlib.pyplot as plt\n",
    "\n",
    "sys.path.append(os.path.join('..','..'))\n",
    "import EnergyPricesLibrary as Ep\n",
    "import CustomMetrics\n",
    "\n",
    "from kerastuner.tuners import BayesianOptimization\n",
    "from sklearn.metrics import mean_squared_error\n",
    "\n",
    "%load_ext autoreload\n",
    "%autoreload 2"
   ]
  },
  {
   "cell_type": "code",
   "execution_count": 2,
   "metadata": {
    "executionInfo": {
     "elapsed": 580,
     "status": "ok",
     "timestamp": 1612487922449,
     "user": {
      "displayName": "JUAN SEBASTIÁN PELÁEZ VILLA",
      "photoUrl": "https://lh3.googleusercontent.com/a-/AOh14Ggc0MTZ3-jRn-hXLUMWcVhRE_vR6k4WbZPA-x_ne3WxNiTD7tmqcVflHIE6x1jWHszFQZgkHRh7-E9wZmocsEmKuvx3IKna9h8ptMamEVSfwh_7Anotab7VnBN1TylZCkmrxAGMffvLQuzNikW7of0LOdIxNcqyXIaD8HOZz3VLuryFYeB44jhXeXJbCxiZeBbEkaiLmIIRJj-3t0yBobLNCJzjXCbzsSr1beuQ_oDzcMqKXynZq4zw7LmjxW9H_QtrpHFDBYEtRtrLn9AOnjwHLDOQebFdXWKcGk4J7eq9g2rml0IcX16payM4VZ2wVtmoySJYfi_PiUnN7mmOqHqxa78PQb2eTXdJUoR9u18l8ANEt0bDQIpb3qSvesyzQAfdIp9sue0g27p2lsfjno39dQVBj1orn6NdSiNGUt1LHwfasD1z3evTeskojIZ77NWmB1nt2uOPdnydvEA02363Pk4eUWw58x8fljz5jUYAtNjsE5Lo34ZKMFM6VS8KtGOF6o42sWAapXYPBHa3jYZhuV8DjGCeQfhD12fuxXRu5Y3HpjzqYBiEFNP2gg8NcyCLCzrjmig_gyoeDeDjFy7H7A0sCrbY0ttvk18JBiiD4pf0DNfzITldXo_OpLeSKXbRowkjcCWInjqPcZKcXvZy8MMntmnruxf-jV1zRhZJ0kJc0epOhnCTtpabE8S0e2C9FP4K2pnpakA2TnMnWCUs-yD9R-6febeZcTW4Uz4s6FoNqs4aoo-zhtOmRu6yHyDhQk0=s64",
      "userId": "00260520649597601100"
     },
     "user_tz": 300
    },
    "id": "TMVspJgwuCol"
   },
   "outputs": [],
   "source": [
    "def build_model_concat(hourly_input_shape,daily_input_shape,n_steps_out=24):\n",
    "    \n",
    "    input_1 = tf.keras.layers.Input(shape=hourly_input_shape)\n",
    "    input_2 = tf.keras.layers.Input(shape=daily_input_shape)\n",
    "\n",
    "    model_1_1 = tf.keras.layers.GRU(units=448,activation='tanh',kernel_regularizer=tf.keras.regularizers.L1(l1=0.06),dropout=0.36,return_sequences=True)(input_1)\n",
    "    model_1_1 = tf.keras.layers.GRU(units=128,activation='tanh',kernel_regularizer=tf.keras.regularizers.L1(l1=0.09),dropout=0.36,return_sequences=False)(model_1_1)\n",
    "    model_1_1 = tf.keras.layers.Dense(units=n_steps_out,activation=None)(model_1_1)\n",
    "\n",
    "    model_2_2 = tf.keras.layers.GRU(units=256,activation='tanh',kernel_regularizer=tf.keras.regularizers.L1(l1=0),dropout=0,return_sequences=True)(input_2)\n",
    "    model_2_2 = tf.keras.layers.GRU(units=512,activation='tanh',kernel_regularizer=tf.keras.regularizers.L1(l1=0),dropout=0,return_sequences=True)(model_2_2)\n",
    "    model_2_2 = tf.keras.layers.Flatten()(model_2_2)\n",
    "    model_2_2 = tf.keras.layers.Dense(units=n_steps_out,activation=None)(model_2_2)\n",
    "\n",
    "    output = tf.keras.layers.Concatenate()([model_1_1, model_2_2])\n",
    "    output = tf.keras.layers.Dense(units=96,activation='relu')(output)\n",
    "    output = tf.keras.layers.Dense(units=96,activation='relu')(output)\n",
    "    \n",
    "    output = tf.keras.layers.Dense(units=n_steps_out,activation=None)(output)\n",
    "\n",
    "    full_model = tf.keras.Model(inputs=[input_1, input_2], outputs=[output])\n",
    "    \n",
    "    return full_model\n",
    "\n",
    "def build_model_sum(hourly_input_shape,daily_input_shape,n_steps_out=24):\n",
    "    \n",
    "    input_1 = tf.keras.layers.Input(shape=hourly_input_shape)\n",
    "    input_2 = tf.keras.layers.Input(shape=daily_input_shape)\n",
    "\n",
    "    model_1_1 = tf.keras.layers.GRU(units=448,activation='relu',kernel_regularizer=tf.keras.regularizers.L1(l1=0.06),dropout=0.36,return_sequences=True)(input_1)\n",
    "    model_1_1 = tf.keras.layers.GRU(units=128,activation='relu',kernel_regularizer=tf.keras.regularizers.L1(l1=0.09),dropout=0.36,return_sequences=False)(model_1_1)\n",
    "    model_1_1 = tf.keras.layers.Dense(units=n_steps_out,activation=None)(model_1_1)\n",
    "\n",
    "    model_2_2 = tf.keras.layers.GRU(units=256,activation='relu',kernel_regularizer=tf.keras.regularizers.L1(l1=0),dropout=0,return_sequences=True)(input_2)\n",
    "    model_2_2 = tf.keras.layers.GRU(units=512,activation='relu',kernel_regularizer=tf.keras.regularizers.L1(l1=0),dropout=0,return_sequences=True)(model_2_2)\n",
    "    model_2_2 = tf.keras.layers.Flatten()(model_2_2)\n",
    "    model_2_2 = tf.keras.layers.Dense(units=n_steps_out,activation=None)(model_2_2)\n",
    "\n",
    "    output = tf.keras.layers.Add()([model_1_1, model_2_2])\n",
    "    \n",
    "    output = tf.keras.layers.Dense(units=n_steps_out,activation=None)(output)\n",
    "\n",
    "    full_model = tf.keras.Model(inputs=[input_1, input_2], outputs=[output])\n",
    "    \n",
    "    return full_model\n",
    "\n",
    "def make_predictions(model,scaler_D_x,scaler_D_y,scaler_H_x,scaler_H_y,\n",
    "                     trainX_D, trainY_D, testX_D, testY_D,\n",
    "                     trainX_H, trainY_H, testX_H, testY_H,\n",
    "                     n_steps_out,len_output_features):\n",
    "    \n",
    "    # make predictions\n",
    "    trainPredict = model.predict([trainX_H,trainX_D])\n",
    "    trainPredict = trainPredict.reshape(trainPredict.shape[0]*n_steps_out,len_output_features)\n",
    "    testPredict  = model.predict([testX_H,testX_D])\n",
    "    testPredict  = testPredict.reshape(testPredict.shape[0]*n_steps_out,len_output_features)\n",
    "    \n",
    "    # invert predictions\n",
    "    trainPredict = scaler_D_y.inverse_transform(trainPredict)\n",
    "    trainY = scaler_D_y.inverse_transform(trainY_D.reshape(trainY_D.shape[0]*n_steps_out,len_output_features))\n",
    "    \n",
    "    testPredict = scaler_D_y.inverse_transform(testPredict)\n",
    "    testY = scaler_D_y.inverse_transform(testY_D.reshape(testY_D.shape[0]*n_steps_out,len_output_features))\n",
    "        \n",
    "    return trainPredict,trainY,testPredict,testY\n",
    "\n",
    "def get_metrics(trainY,trainPredict,testY,testPredict):\n",
    "    \n",
    "    trainMAPE  = Ep.MAPE(trainPredict,trainY)\n",
    "    testMAPE  = Ep.MAPE(testPredict,testY)\n",
    "    \n",
    "    train_sMAPE  = Ep.sMAPE(trainY,trainPredict)\n",
    "    test_sMAPE  = Ep.sMAPE(testY,testPredict)\n",
    "    \n",
    "    return trainMAPE,testMAPE,train_sMAPE,test_sMAPE"
   ]
  },
  {
   "cell_type": "code",
   "execution_count": 3,
   "metadata": {
    "executionInfo": {
     "elapsed": 8664,
     "status": "ok",
     "timestamp": 1612487932775,
     "user": {
      "displayName": "JUAN SEBASTIÁN PELÁEZ VILLA",
      "photoUrl": "https://lh3.googleusercontent.com/a-/AOh14Ggc0MTZ3-jRn-hXLUMWcVhRE_vR6k4WbZPA-x_ne3WxNiTD7tmqcVflHIE6x1jWHszFQZgkHRh7-E9wZmocsEmKuvx3IKna9h8ptMamEVSfwh_7Anotab7VnBN1TylZCkmrxAGMffvLQuzNikW7of0LOdIxNcqyXIaD8HOZz3VLuryFYeB44jhXeXJbCxiZeBbEkaiLmIIRJj-3t0yBobLNCJzjXCbzsSr1beuQ_oDzcMqKXynZq4zw7LmjxW9H_QtrpHFDBYEtRtrLn9AOnjwHLDOQebFdXWKcGk4J7eq9g2rml0IcX16payM4VZ2wVtmoySJYfi_PiUnN7mmOqHqxa78PQb2eTXdJUoR9u18l8ANEt0bDQIpb3qSvesyzQAfdIp9sue0g27p2lsfjno39dQVBj1orn6NdSiNGUt1LHwfasD1z3evTeskojIZ77NWmB1nt2uOPdnydvEA02363Pk4eUWw58x8fljz5jUYAtNjsE5Lo34ZKMFM6VS8KtGOF6o42sWAapXYPBHa3jYZhuV8DjGCeQfhD12fuxXRu5Y3HpjzqYBiEFNP2gg8NcyCLCzrjmig_gyoeDeDjFy7H7A0sCrbY0ttvk18JBiiD4pf0DNfzITldXo_OpLeSKXbRowkjcCWInjqPcZKcXvZy8MMntmnruxf-jV1zRhZJ0kJc0epOhnCTtpabE8S0e2C9FP4K2pnpakA2TnMnWCUs-yD9R-6febeZcTW4Uz4s6FoNqs4aoo-zhtOmRu6yHyDhQk0=s64",
      "userId": "00260520649597601100"
     },
     "user_tz": 300
    },
    "id": "sYyA90oJuCom"
   },
   "outputs": [],
   "source": [
    "data_diaria_path = os.path.join('..','..','..','..','dataset','Series','Sabanas','Original','Sabana_Datos_Diaria.xlsx')\n",
    "data_diaria = pd.read_excel(data_diaria_path)\n",
    "data_diaria = data_diaria.set_index('Fecha')"
   ]
  },
  {
   "cell_type": "code",
   "execution_count": 4,
   "metadata": {
    "executionInfo": {
     "elapsed": 115817,
     "status": "ok",
     "timestamp": 1612488040503,
     "user": {
      "displayName": "JUAN SEBASTIÁN PELÁEZ VILLA",
      "photoUrl": "https://lh3.googleusercontent.com/a-/AOh14Ggc0MTZ3-jRn-hXLUMWcVhRE_vR6k4WbZPA-x_ne3WxNiTD7tmqcVflHIE6x1jWHszFQZgkHRh7-E9wZmocsEmKuvx3IKna9h8ptMamEVSfwh_7Anotab7VnBN1TylZCkmrxAGMffvLQuzNikW7of0LOdIxNcqyXIaD8HOZz3VLuryFYeB44jhXeXJbCxiZeBbEkaiLmIIRJj-3t0yBobLNCJzjXCbzsSr1beuQ_oDzcMqKXynZq4zw7LmjxW9H_QtrpHFDBYEtRtrLn9AOnjwHLDOQebFdXWKcGk4J7eq9g2rml0IcX16payM4VZ2wVtmoySJYfi_PiUnN7mmOqHqxa78PQb2eTXdJUoR9u18l8ANEt0bDQIpb3qSvesyzQAfdIp9sue0g27p2lsfjno39dQVBj1orn6NdSiNGUt1LHwfasD1z3evTeskojIZ77NWmB1nt2uOPdnydvEA02363Pk4eUWw58x8fljz5jUYAtNjsE5Lo34ZKMFM6VS8KtGOF6o42sWAapXYPBHa3jYZhuV8DjGCeQfhD12fuxXRu5Y3HpjzqYBiEFNP2gg8NcyCLCzrjmig_gyoeDeDjFy7H7A0sCrbY0ttvk18JBiiD4pf0DNfzITldXo_OpLeSKXbRowkjcCWInjqPcZKcXvZy8MMntmnruxf-jV1zRhZJ0kJc0epOhnCTtpabE8S0e2C9FP4K2pnpakA2TnMnWCUs-yD9R-6febeZcTW4Uz4s6FoNqs4aoo-zhtOmRu6yHyDhQk0=s64",
      "userId": "00260520649597601100"
     },
     "user_tz": 300
    },
    "id": "SKmXmkRSuCom"
   },
   "outputs": [],
   "source": [
    "data_horaria_path = os.path.join('..','..','..','..','dataset','Series','Sabanas','Original','Sabana_Datos_Horaria.xlsx')\n",
    "data_horaria = pd.read_excel(data_horaria_path)\n",
    "data_horaria = data_horaria.set_index('Fecha')"
   ]
  },
  {
   "cell_type": "code",
   "execution_count": 5,
   "metadata": {
    "executionInfo": {
     "elapsed": 7038,
     "status": "ok",
     "timestamp": 1612488047557,
     "user": {
      "displayName": "JUAN SEBASTIÁN PELÁEZ VILLA",
      "photoUrl": "https://lh3.googleusercontent.com/a-/AOh14Ggc0MTZ3-jRn-hXLUMWcVhRE_vR6k4WbZPA-x_ne3WxNiTD7tmqcVflHIE6x1jWHszFQZgkHRh7-E9wZmocsEmKuvx3IKna9h8ptMamEVSfwh_7Anotab7VnBN1TylZCkmrxAGMffvLQuzNikW7of0LOdIxNcqyXIaD8HOZz3VLuryFYeB44jhXeXJbCxiZeBbEkaiLmIIRJj-3t0yBobLNCJzjXCbzsSr1beuQ_oDzcMqKXynZq4zw7LmjxW9H_QtrpHFDBYEtRtrLn9AOnjwHLDOQebFdXWKcGk4J7eq9g2rml0IcX16payM4VZ2wVtmoySJYfi_PiUnN7mmOqHqxa78PQb2eTXdJUoR9u18l8ANEt0bDQIpb3qSvesyzQAfdIp9sue0g27p2lsfjno39dQVBj1orn6NdSiNGUt1LHwfasD1z3evTeskojIZ77NWmB1nt2uOPdnydvEA02363Pk4eUWw58x8fljz5jUYAtNjsE5Lo34ZKMFM6VS8KtGOF6o42sWAapXYPBHa3jYZhuV8DjGCeQfhD12fuxXRu5Y3HpjzqYBiEFNP2gg8NcyCLCzrjmig_gyoeDeDjFy7H7A0sCrbY0ttvk18JBiiD4pf0DNfzITldXo_OpLeSKXbRowkjcCWInjqPcZKcXvZy8MMntmnruxf-jV1zRhZJ0kJc0epOhnCTtpabE8S0e2C9FP4K2pnpakA2TnMnWCUs-yD9R-6febeZcTW4Uz4s6FoNqs4aoo-zhtOmRu6yHyDhQk0=s64",
      "userId": "00260520649597601100"
     },
     "user_tz": 300
    },
    "id": "0z61ew3KuCon"
   },
   "outputs": [],
   "source": [
    "precio_bolsa_path = os.path.join('..','..','..','..','dataset','Series','Sabanas','Original','Sabana_Datos_Precio_Bolsa.xlsx')\n",
    "precio_bolsa = pd.read_excel(precio_bolsa_path)\n",
    "precio_bolsa = precio_bolsa.set_index('Fecha')"
   ]
  },
  {
   "cell_type": "code",
   "execution_count": 6,
   "metadata": {
    "executionInfo": {
     "elapsed": 7037,
     "status": "ok",
     "timestamp": 1612488047559,
     "user": {
      "displayName": "JUAN SEBASTIÁN PELÁEZ VILLA",
      "photoUrl": "https://lh3.googleusercontent.com/a-/AOh14Ggc0MTZ3-jRn-hXLUMWcVhRE_vR6k4WbZPA-x_ne3WxNiTD7tmqcVflHIE6x1jWHszFQZgkHRh7-E9wZmocsEmKuvx3IKna9h8ptMamEVSfwh_7Anotab7VnBN1TylZCkmrxAGMffvLQuzNikW7of0LOdIxNcqyXIaD8HOZz3VLuryFYeB44jhXeXJbCxiZeBbEkaiLmIIRJj-3t0yBobLNCJzjXCbzsSr1beuQ_oDzcMqKXynZq4zw7LmjxW9H_QtrpHFDBYEtRtrLn9AOnjwHLDOQebFdXWKcGk4J7eq9g2rml0IcX16payM4VZ2wVtmoySJYfi_PiUnN7mmOqHqxa78PQb2eTXdJUoR9u18l8ANEt0bDQIpb3qSvesyzQAfdIp9sue0g27p2lsfjno39dQVBj1orn6NdSiNGUt1LHwfasD1z3evTeskojIZ77NWmB1nt2uOPdnydvEA02363Pk4eUWw58x8fljz5jUYAtNjsE5Lo34ZKMFM6VS8KtGOF6o42sWAapXYPBHa3jYZhuV8DjGCeQfhD12fuxXRu5Y3HpjzqYBiEFNP2gg8NcyCLCzrjmig_gyoeDeDjFy7H7A0sCrbY0ttvk18JBiiD4pf0DNfzITldXo_OpLeSKXbRowkjcCWInjqPcZKcXvZy8MMntmnruxf-jV1zRhZJ0kJc0epOhnCTtpabE8S0e2C9FP4K2pnpakA2TnMnWCUs-yD9R-6febeZcTW4Uz4s6FoNqs4aoo-zhtOmRu6yHyDhQk0=s64",
      "userId": "00260520649597601100"
     },
     "user_tz": 300
    },
    "id": "gGlv9rK_uCon"
   },
   "outputs": [],
   "source": [
    "nombre_series_diaria = data_diaria.columns.values\n",
    "nombre_series_horaria = data_horaria.columns.values"
   ]
  },
  {
   "cell_type": "code",
   "execution_count": 7,
   "metadata": {
    "executionInfo": {
     "elapsed": 7036,
     "status": "ok",
     "timestamp": 1612488047560,
     "user": {
      "displayName": "JUAN SEBASTIÁN PELÁEZ VILLA",
      "photoUrl": "https://lh3.googleusercontent.com/a-/AOh14Ggc0MTZ3-jRn-hXLUMWcVhRE_vR6k4WbZPA-x_ne3WxNiTD7tmqcVflHIE6x1jWHszFQZgkHRh7-E9wZmocsEmKuvx3IKna9h8ptMamEVSfwh_7Anotab7VnBN1TylZCkmrxAGMffvLQuzNikW7of0LOdIxNcqyXIaD8HOZz3VLuryFYeB44jhXeXJbCxiZeBbEkaiLmIIRJj-3t0yBobLNCJzjXCbzsSr1beuQ_oDzcMqKXynZq4zw7LmjxW9H_QtrpHFDBYEtRtrLn9AOnjwHLDOQebFdXWKcGk4J7eq9g2rml0IcX16payM4VZ2wVtmoySJYfi_PiUnN7mmOqHqxa78PQb2eTXdJUoR9u18l8ANEt0bDQIpb3qSvesyzQAfdIp9sue0g27p2lsfjno39dQVBj1orn6NdSiNGUt1LHwfasD1z3evTeskojIZ77NWmB1nt2uOPdnydvEA02363Pk4eUWw58x8fljz5jUYAtNjsE5Lo34ZKMFM6VS8KtGOF6o42sWAapXYPBHa3jYZhuV8DjGCeQfhD12fuxXRu5Y3HpjzqYBiEFNP2gg8NcyCLCzrjmig_gyoeDeDjFy7H7A0sCrbY0ttvk18JBiiD4pf0DNfzITldXo_OpLeSKXbRowkjcCWInjqPcZKcXvZy8MMntmnruxf-jV1zRhZJ0kJc0epOhnCTtpabE8S0e2C9FP4K2pnpakA2TnMnWCUs-yD9R-6febeZcTW4Uz4s6FoNqs4aoo-zhtOmRu6yHyDhQk0=s64",
      "userId": "00260520649597601100"
     },
     "user_tz": 300
    },
    "id": "u0sc-yTeuCon"
   },
   "outputs": [],
   "source": [
    "data_horaria_full = pd.concat([data_horaria,precio_bolsa],axis=1)"
   ]
  },
  {
   "cell_type": "code",
   "execution_count": 8,
   "metadata": {
    "colab": {
     "base_uri": "https://localhost:8080/"
    },
    "executionInfo": {
     "elapsed": 7035,
     "status": "ok",
     "timestamp": 1612488047561,
     "user": {
      "displayName": "JUAN SEBASTIÁN PELÁEZ VILLA",
      "photoUrl": "https://lh3.googleusercontent.com/a-/AOh14Ggc0MTZ3-jRn-hXLUMWcVhRE_vR6k4WbZPA-x_ne3WxNiTD7tmqcVflHIE6x1jWHszFQZgkHRh7-E9wZmocsEmKuvx3IKna9h8ptMamEVSfwh_7Anotab7VnBN1TylZCkmrxAGMffvLQuzNikW7of0LOdIxNcqyXIaD8HOZz3VLuryFYeB44jhXeXJbCxiZeBbEkaiLmIIRJj-3t0yBobLNCJzjXCbzsSr1beuQ_oDzcMqKXynZq4zw7LmjxW9H_QtrpHFDBYEtRtrLn9AOnjwHLDOQebFdXWKcGk4J7eq9g2rml0IcX16payM4VZ2wVtmoySJYfi_PiUnN7mmOqHqxa78PQb2eTXdJUoR9u18l8ANEt0bDQIpb3qSvesyzQAfdIp9sue0g27p2lsfjno39dQVBj1orn6NdSiNGUt1LHwfasD1z3evTeskojIZ77NWmB1nt2uOPdnydvEA02363Pk4eUWw58x8fljz5jUYAtNjsE5Lo34ZKMFM6VS8KtGOF6o42sWAapXYPBHa3jYZhuV8DjGCeQfhD12fuxXRu5Y3HpjzqYBiEFNP2gg8NcyCLCzrjmig_gyoeDeDjFy7H7A0sCrbY0ttvk18JBiiD4pf0DNfzITldXo_OpLeSKXbRowkjcCWInjqPcZKcXvZy8MMntmnruxf-jV1zRhZJ0kJc0epOhnCTtpabE8S0e2C9FP4K2pnpakA2TnMnWCUs-yD9R-6febeZcTW4Uz4s6FoNqs4aoo-zhtOmRu6yHyDhQk0=s64",
      "userId": "00260520649597601100"
     },
     "user_tz": 300
    },
    "id": "SUYQYcffuCop",
    "outputId": "7e4bbe2d-aa54-4436-85e9-7889ffca7215"
   },
   "outputs": [
    {
     "data": {
      "text/plain": [
       "((177480, 85), (7395, 119), (177480, 1))"
      ]
     },
     "execution_count": 8,
     "metadata": {},
     "output_type": "execute_result"
    }
   ],
   "source": [
    "data_horaria.shape,data_diaria.shape, precio_bolsa.shape"
   ]
  },
  {
   "cell_type": "markdown",
   "metadata": {
    "id": "gcag57CwuCoq"
   },
   "source": [
    "## Build Window"
   ]
  },
  {
   "cell_type": "code",
   "execution_count": 9,
   "metadata": {
    "executionInfo": {
     "elapsed": 436,
     "status": "ok",
     "timestamp": 1612488112694,
     "user": {
      "displayName": "JUAN SEBASTIÁN PELÁEZ VILLA",
      "photoUrl": "https://lh3.googleusercontent.com/a-/AOh14Ggc0MTZ3-jRn-hXLUMWcVhRE_vR6k4WbZPA-x_ne3WxNiTD7tmqcVflHIE6x1jWHszFQZgkHRh7-E9wZmocsEmKuvx3IKna9h8ptMamEVSfwh_7Anotab7VnBN1TylZCkmrxAGMffvLQuzNikW7of0LOdIxNcqyXIaD8HOZz3VLuryFYeB44jhXeXJbCxiZeBbEkaiLmIIRJj-3t0yBobLNCJzjXCbzsSr1beuQ_oDzcMqKXynZq4zw7LmjxW9H_QtrpHFDBYEtRtrLn9AOnjwHLDOQebFdXWKcGk4J7eq9g2rml0IcX16payM4VZ2wVtmoySJYfi_PiUnN7mmOqHqxa78PQb2eTXdJUoR9u18l8ANEt0bDQIpb3qSvesyzQAfdIp9sue0g27p2lsfjno39dQVBj1orn6NdSiNGUt1LHwfasD1z3evTeskojIZ77NWmB1nt2uOPdnydvEA02363Pk4eUWw58x8fljz5jUYAtNjsE5Lo34ZKMFM6VS8KtGOF6o42sWAapXYPBHa3jYZhuV8DjGCeQfhD12fuxXRu5Y3HpjzqYBiEFNP2gg8NcyCLCzrjmig_gyoeDeDjFy7H7A0sCrbY0ttvk18JBiiD4pf0DNfzITldXo_OpLeSKXbRowkjcCWInjqPcZKcXvZy8MMntmnruxf-jV1zRhZJ0kJc0epOhnCTtpabE8S0e2C9FP4K2pnpakA2TnMnWCUs-yD9R-6febeZcTW4Uz4s6FoNqs4aoo-zhtOmRu6yHyDhQk0=s64",
      "userId": "00260520649597601100"
     },
     "user_tz": 300
    },
    "id": "Z9j3ZnqHx86C"
   },
   "outputs": [],
   "source": [
    "d = 'All'\n",
    "start_date_train = '2000-02-01'\n",
    "start_date_val = '2020-01-01'\n",
    "start_date_test = '2020-04-01'\n",
    "end_date_test = '2020-05-01'\n",
    "n_steps_out=24\n",
    "output_columns = ['$kWh']"
   ]
  },
  {
   "cell_type": "code",
   "execution_count": 10,
   "metadata": {
    "id": "h5xqgWD3uCor"
   },
   "outputs": [],
   "source": [
    "n_steps_in = 15\n",
    "overlap = 1\n",
    "inputs_columns = nombre_series_diaria\n",
    "\n",
    "len_input_features = len(inputs_columns)\n",
    "len_output_features = len(output_columns)\n",
    "\n",
    "results = Ep.SplitTimeseriesMultipleTimesBackAhead_differentTimes(df_x=data_diaria,\n",
    "                                                                  df_y=precio_bolsa,\n",
    "                                                                  day=d,\n",
    "                                                                  start_date_train=start_date_train,start_date_val=start_date_val,\n",
    "                                                                  start_date_test=start_date_test,end_date_test=end_date_test,\n",
    "                                                                  n_steps_out=n_steps_out,n_steps_in=n_steps_in,\n",
    "                                                                  overlap=overlap,input_features=inputs_columns,\n",
    "                                                                  output_features=output_columns)\n",
    "\n",
    "trainX_D,trainY_D,valX_D,valY_D,testX_D,testY_D,scaler_D_x,scaler_D_y,dataset_x_D, dataset_y_D = results"
   ]
  },
  {
   "cell_type": "code",
   "execution_count": 11,
   "metadata": {
    "id": "8JGtKs2auCor"
   },
   "outputs": [],
   "source": [
    "n_steps_in = 360\n",
    "overlap = 24\n",
    "inputs_columns = nombre_series_horaria\n",
    "\n",
    "len_input_features = len(inputs_columns)\n",
    "len_output_features = len(output_columns)\n",
    "\n",
    "results = Ep.SplitTimeseriesMultipleTimesBackAhead(df=data_horaria_full,\n",
    "                                                   day=d,\n",
    "                                                   start_date_train=start_date_train,start_date_val=start_date_val,\n",
    "                                                   start_date_test=start_date_test,end_date_test=end_date_test,\n",
    "                                                   n_steps_out=n_steps_out,n_steps_in=n_steps_in,overlap=overlap,\n",
    "                                                   input_features=inputs_columns,output_features=output_columns)\n",
    "\n",
    "trainX_H,trainY_H,valX_H,valY_H,testX_H,testY_H,scaler_H_x,scaler_H_y,dataset_x_H, dataset_y_H = results"
   ]
  },
  {
   "cell_type": "markdown",
   "metadata": {},
   "source": [
    "### Train"
   ]
  },
  {
   "cell_type": "code",
   "execution_count": 12,
   "metadata": {
    "id": "4NBsTH89uCor"
   },
   "outputs": [
    {
     "data": {
      "text/plain": [
       "('Diaria:',\n",
       " (7259, 15, 119),\n",
       " (7259, 24, 1),\n",
       " 'Horaria:',\n",
       " (7259, 360, 85),\n",
       " (7259, 24, 1))"
      ]
     },
     "execution_count": 12,
     "metadata": {},
     "output_type": "execute_result"
    }
   ],
   "source": [
    "'Diaria:',trainX_D.shape,trainY_D.shape,'Horaria:',trainX_H.shape, trainY_H.shape"
   ]
  },
  {
   "cell_type": "code",
   "execution_count": 13,
   "metadata": {
    "id": "JBruhJibuCos"
   },
   "outputs": [
    {
     "data": {
      "text/plain": [
       "('Diaria:', (91, 15, 119), (91, 24, 1), 'Horaria:', (91, 360, 85), (91, 24, 1))"
      ]
     },
     "execution_count": 13,
     "metadata": {},
     "output_type": "execute_result"
    }
   ],
   "source": [
    "'Diaria:',valX_D.shape,valY_D.shape,'Horaria:',valX_H.shape,valY_H.shape"
   ]
  },
  {
   "cell_type": "code",
   "execution_count": 14,
   "metadata": {},
   "outputs": [],
   "source": [
    "trainX_D = np.concatenate([trainX_D,valX_D])\n",
    "trainY_D = np.concatenate([trainY_D,valY_D])\n",
    "\n",
    "trainX_H = np.concatenate([trainX_H,valX_H])\n",
    "trainY_H = np.concatenate([trainY_H,valY_H])"
   ]
  },
  {
   "cell_type": "code",
   "execution_count": 15,
   "metadata": {},
   "outputs": [
    {
     "data": {
      "text/plain": [
       "('Diaria:',\n",
       " (7350, 15, 119),\n",
       " (7350, 24, 1),\n",
       " 'Horaria:',\n",
       " (7350, 360, 85),\n",
       " (7350, 24, 1))"
      ]
     },
     "execution_count": 15,
     "metadata": {},
     "output_type": "execute_result"
    }
   ],
   "source": [
    "'Diaria:',trainX_D.shape, trainY_D.shape,'Horaria:',trainX_H.shape, trainY_H.shape"
   ]
  },
  {
   "cell_type": "markdown",
   "metadata": {},
   "source": [
    "### Test"
   ]
  },
  {
   "cell_type": "code",
   "execution_count": 16,
   "metadata": {},
   "outputs": [
    {
     "data": {
      "text/plain": [
       "('Diaria:',\n",
       " (30, 15, 119),\n",
       " (30, 24, 1),\n",
       " 'Horaria:',\n",
       " (30, 360, 85),\n",
       " (30, 24, 1),\n",
       " 'Imagenes:')"
      ]
     },
     "execution_count": 16,
     "metadata": {},
     "output_type": "execute_result"
    }
   ],
   "source": [
    "'Diaria:',testX_D.shape, testY_D.shape,'Horaria:',testX_H.shape, testY_H.shape,'Imagenes:'"
   ]
  },
  {
   "cell_type": "markdown",
   "metadata": {
    "id": "Gnb8WjkxuCot"
   },
   "source": [
    "## Model"
   ]
  },
  {
   "cell_type": "code",
   "execution_count": 17,
   "metadata": {
    "id": "VPrRp1DiuCou"
   },
   "outputs": [],
   "source": [
    "log_dir = os.path.join('logs','ModeloCompleto_I5_Sum-RELU')\n",
    "if not os.path.exists(log_dir):\n",
    "    os.makedirs(log_dir)\n",
    "callback_tensorboard = tf.keras.callbacks.TensorBoard(log_dir=log_dir,\n",
    "                                                          histogram_freq=2,\n",
    "                                                          write_graph=True,\n",
    "                                                          update_freq='epoch')\n",
    "\n",
    "callback_reduce_lr = tf.keras.callbacks.ReduceLROnPlateau(monitor='val_loss',\n",
    "                                                          factor=0.1,\n",
    "                                                          min_lr=1e-5,\n",
    "                                                          patience=5,\n",
    "                                                          verbose=1)\n",
    "\n",
    "early_stopping = tf.keras.callbacks.EarlyStopping(monitor='val_loss',\n",
    "                                                  patience=10,\n",
    "                                                  mode='min')\n",
    "\n",
    "callbacks = [callback_reduce_lr,early_stopping,callback_tensorboard]"
   ]
  },
  {
   "cell_type": "code",
   "execution_count": 18,
   "metadata": {
    "id": "DpM03gDYuCou",
    "scrolled": false
   },
   "outputs": [
    {
     "name": "stdout",
     "output_type": "stream",
     "text": [
      "WARNING:tensorflow:Layer gru will not use cuDNN kernel since it doesn't meet the cuDNN kernel criteria. It will use generic GPU kernel as fallback when running on GPU\n",
      "WARNING:tensorflow:Layer gru_1 will not use cuDNN kernel since it doesn't meet the cuDNN kernel criteria. It will use generic GPU kernel as fallback when running on GPU\n",
      "WARNING:tensorflow:Layer gru_2 will not use cuDNN kernel since it doesn't meet the cuDNN kernel criteria. It will use generic GPU kernel as fallback when running on GPU\n",
      "WARNING:tensorflow:Layer gru_3 will not use cuDNN kernel since it doesn't meet the cuDNN kernel criteria. It will use generic GPU kernel as fallback when running on GPU\n",
      "Model: \"functional_1\"\n",
      "__________________________________________________________________________________________________\n",
      "Layer (type)                    Output Shape         Param #     Connected to                     \n",
      "==================================================================================================\n",
      "input_2 (InputLayer)            [(None, 15, 119)]    0                                            \n",
      "__________________________________________________________________________________________________\n",
      "input_1 (InputLayer)            [(None, 360, 85)]    0                                            \n",
      "__________________________________________________________________________________________________\n",
      "gru_2 (GRU)                     (None, 15, 256)      289536      input_2[0][0]                    \n",
      "__________________________________________________________________________________________________\n",
      "gru (GRU)                       (None, 360, 448)     719040      input_1[0][0]                    \n",
      "__________________________________________________________________________________________________\n",
      "gru_3 (GRU)                     (None, 15, 512)      1182720     gru_2[0][0]                      \n",
      "__________________________________________________________________________________________________\n",
      "gru_1 (GRU)                     (None, 128)          221952      gru[0][0]                        \n",
      "__________________________________________________________________________________________________\n",
      "flatten (Flatten)               (None, 7680)         0           gru_3[0][0]                      \n",
      "__________________________________________________________________________________________________\n",
      "dense (Dense)                   (None, 24)           3096        gru_1[0][0]                      \n",
      "__________________________________________________________________________________________________\n",
      "dense_1 (Dense)                 (None, 24)           184344      flatten[0][0]                    \n",
      "__________________________________________________________________________________________________\n",
      "add (Add)                       (None, 24)           0           dense[0][0]                      \n",
      "                                                                 dense_1[0][0]                    \n",
      "__________________________________________________________________________________________________\n",
      "dense_2 (Dense)                 (None, 24)           600         add[0][0]                        \n",
      "==================================================================================================\n",
      "Total params: 2,601,288\n",
      "Trainable params: 2,601,288\n",
      "Non-trainable params: 0\n",
      "__________________________________________________________________________________________________\n"
     ]
    }
   ],
   "source": [
    "hourly_input_shape = (trainX_H.shape[1],trainX_H.shape[2])\n",
    "daily_input_shape = (trainX_D.shape[1],trainX_D.shape[2])\n",
    "\n",
    "model = build_model_sum(hourly_input_shape,daily_input_shape)\n",
    "\n",
    "model.summary()"
   ]
  },
  {
   "cell_type": "code",
   "execution_count": 19,
   "metadata": {
    "id": "nLww4iEkuCov"
   },
   "outputs": [],
   "source": [
    "model.compile(optimizer=tf.optimizers.Adam(learning_rate= 0.00257030001922535),\n",
    "              loss=CustomMetrics.symmetric_mean_absolute_percentage_error,\n",
    "              metrics=[tf.metrics.MeanAbsoluteError(),\n",
    "                       tf.keras.metrics.MeanAbsolutePercentageError(),\n",
    "                       CustomMetrics.symmetric_mean_absolute_percentage_error])"
   ]
  },
  {
   "cell_type": "code",
   "execution_count": 20,
   "metadata": {
    "id": "HHqrLNa-khFc"
   },
   "outputs": [
    {
     "data": {
      "text/plain": [
       "'\\nimport json\\n\\nmodel_json = model.to_json()\\nwith open(\"ModeloCompleto_I15_Sum-2.json\", \"w\") as json_file:\\n    json_file.write(model_json)\\n'"
      ]
     },
     "execution_count": 20,
     "metadata": {},
     "output_type": "execute_result"
    }
   ],
   "source": [
    "\"\"\"\n",
    "import json\n",
    "\n",
    "model_json = model.to_json()\n",
    "with open(\"ModeloCompleto_I15_Sum-2.json\", \"w\") as json_file:\n",
    "    json_file.write(model_json)\n",
    "\"\"\""
   ]
  },
  {
   "cell_type": "code",
   "execution_count": 21,
   "metadata": {
    "id": "SVdzo-wMuCov",
    "scrolled": true
   },
   "outputs": [
    {
     "name": "stdout",
     "output_type": "stream",
     "text": [
      "Epoch 1/200\n",
      "  1/230 [..............................] - ETA: 0s - loss: 4505.4971 - mean_absolute_error: 0.0663 - mean_absolute_percentage_error: 273.6187 - symmetric_mean_absolute_percentage_error: 3625.7847WARNING:tensorflow:From C:\\Users\\SEBASTIAN\\anaconda3\\envs\\proyecto-grados\\lib\\site-packages\\tensorflow\\python\\ops\\summary_ops_v2.py:1277: stop (from tensorflow.python.eager.profiler) is deprecated and will be removed after 2020-07-01.\n",
      "Instructions for updating:\n",
      "use `tf.profiler.experimental.stop` instead.\n",
      "230/230 [==============================] - 465s 2s/step - loss: 2976.9426 - mean_absolute_error: 3.3969 - mean_absolute_percentage_error: 25047.0449 - symmetric_mean_absolute_percentage_error: 2667.9521 - val_loss: 4987.8984 - val_mean_absolute_error: 226.9989 - val_mean_absolute_percentage_error: 290720.8125 - val_symmetric_mean_absolute_percentage_error: 4789.1230\n",
      "Epoch 2/200\n",
      "230/230 [==============================] - 455s 2s/step - loss: 1799.7855 - mean_absolute_error: 7.9182 - mean_absolute_percentage_error: 8890.8350 - symmetric_mean_absolute_percentage_error: 1629.5681 - val_loss: 4948.2324 - val_mean_absolute_error: 509.2358 - val_mean_absolute_percentage_error: 669763.0625 - val_symmetric_mean_absolute_percentage_error: 4798.6890\n",
      "Epoch 3/200\n",
      "230/230 [==============================] - 582s 3s/step - loss: 1724.6405 - mean_absolute_error: 10.2412 - mean_absolute_percentage_error: 10457.3506 - symmetric_mean_absolute_percentage_error: 1586.0605 - val_loss: 4924.8491 - val_mean_absolute_error: 420.3313 - val_mean_absolute_percentage_error: 545990.0625 - val_symmetric_mean_absolute_percentage_error: 4798.4365\n",
      "Epoch 4/200\n",
      "230/230 [==============================] - 582s 3s/step - loss: 1665.9264 - mean_absolute_error: 9.4544 - mean_absolute_percentage_error: 9720.4971 - symmetric_mean_absolute_percentage_error: 1547.7754 - val_loss: 4908.1265 - val_mean_absolute_error: 360.3474 - val_mean_absolute_percentage_error: 473711.9062 - val_symmetric_mean_absolute_percentage_error: 4796.6831\n",
      "Epoch 5/200\n",
      "230/230 [==============================] - 616s 3s/step - loss: 1640.2789 - mean_absolute_error: 9.4065 - mean_absolute_percentage_error: 9586.9697 - symmetric_mean_absolute_percentage_error: 1531.3307 - val_loss: 4905.3677 - val_mean_absolute_error: 633.5290 - val_mean_absolute_percentage_error: 826444.3125 - val_symmetric_mean_absolute_percentage_error: 4799.1128\n",
      "Epoch 6/200\n",
      " 90/230 [==========>...................] - ETA: 6:06 - loss: 1619.0070 - mean_absolute_error: 13.3617 - mean_absolute_percentage_error: 12445.9473 - symmetric_mean_absolute_percentage_error: 1514.5178"
     ]
    },
    {
     "ename": "KeyboardInterrupt",
     "evalue": "",
     "output_type": "error",
     "traceback": [
      "\u001b[1;31m---------------------------------------------------------------------------\u001b[0m",
      "\u001b[1;31mKeyboardInterrupt\u001b[0m                         Traceback (most recent call last)",
      "\u001b[1;32m<ipython-input-21-30d7be43f90f>\u001b[0m in \u001b[0;36m<module>\u001b[1;34m\u001b[0m\n\u001b[1;32m----> 1\u001b[1;33m model.fit([trainX_H,trainX_D], trainY_D, validation_data=([testX_H,testX_D],testY_D),\n\u001b[0m\u001b[0;32m      2\u001b[0m                epochs=200,callbacks=callbacks,verbose=1)\n",
      "\u001b[1;32m~\\anaconda3\\envs\\proyecto-grados\\lib\\site-packages\\tensorflow\\python\\keras\\engine\\training.py\u001b[0m in \u001b[0;36m_method_wrapper\u001b[1;34m(self, *args, **kwargs)\u001b[0m\n\u001b[0;32m    106\u001b[0m   \u001b[1;32mdef\u001b[0m \u001b[0m_method_wrapper\u001b[0m\u001b[1;33m(\u001b[0m\u001b[0mself\u001b[0m\u001b[1;33m,\u001b[0m \u001b[1;33m*\u001b[0m\u001b[0margs\u001b[0m\u001b[1;33m,\u001b[0m \u001b[1;33m**\u001b[0m\u001b[0mkwargs\u001b[0m\u001b[1;33m)\u001b[0m\u001b[1;33m:\u001b[0m\u001b[1;33m\u001b[0m\u001b[1;33m\u001b[0m\u001b[0m\n\u001b[0;32m    107\u001b[0m     \u001b[1;32mif\u001b[0m \u001b[1;32mnot\u001b[0m \u001b[0mself\u001b[0m\u001b[1;33m.\u001b[0m\u001b[0m_in_multi_worker_mode\u001b[0m\u001b[1;33m(\u001b[0m\u001b[1;33m)\u001b[0m\u001b[1;33m:\u001b[0m  \u001b[1;31m# pylint: disable=protected-access\u001b[0m\u001b[1;33m\u001b[0m\u001b[1;33m\u001b[0m\u001b[0m\n\u001b[1;32m--> 108\u001b[1;33m       \u001b[1;32mreturn\u001b[0m \u001b[0mmethod\u001b[0m\u001b[1;33m(\u001b[0m\u001b[0mself\u001b[0m\u001b[1;33m,\u001b[0m \u001b[1;33m*\u001b[0m\u001b[0margs\u001b[0m\u001b[1;33m,\u001b[0m \u001b[1;33m**\u001b[0m\u001b[0mkwargs\u001b[0m\u001b[1;33m)\u001b[0m\u001b[1;33m\u001b[0m\u001b[1;33m\u001b[0m\u001b[0m\n\u001b[0m\u001b[0;32m    109\u001b[0m \u001b[1;33m\u001b[0m\u001b[0m\n\u001b[0;32m    110\u001b[0m     \u001b[1;31m# Running inside `run_distribute_coordinator` already.\u001b[0m\u001b[1;33m\u001b[0m\u001b[1;33m\u001b[0m\u001b[1;33m\u001b[0m\u001b[0m\n",
      "\u001b[1;32m~\\anaconda3\\envs\\proyecto-grados\\lib\\site-packages\\tensorflow\\python\\keras\\engine\\training.py\u001b[0m in \u001b[0;36mfit\u001b[1;34m(self, x, y, batch_size, epochs, verbose, callbacks, validation_split, validation_data, shuffle, class_weight, sample_weight, initial_epoch, steps_per_epoch, validation_steps, validation_batch_size, validation_freq, max_queue_size, workers, use_multiprocessing)\u001b[0m\n\u001b[0;32m   1096\u001b[0m                 batch_size=batch_size):\n\u001b[0;32m   1097\u001b[0m               \u001b[0mcallbacks\u001b[0m\u001b[1;33m.\u001b[0m\u001b[0mon_train_batch_begin\u001b[0m\u001b[1;33m(\u001b[0m\u001b[0mstep\u001b[0m\u001b[1;33m)\u001b[0m\u001b[1;33m\u001b[0m\u001b[1;33m\u001b[0m\u001b[0m\n\u001b[1;32m-> 1098\u001b[1;33m               \u001b[0mtmp_logs\u001b[0m \u001b[1;33m=\u001b[0m \u001b[0mtrain_function\u001b[0m\u001b[1;33m(\u001b[0m\u001b[0miterator\u001b[0m\u001b[1;33m)\u001b[0m\u001b[1;33m\u001b[0m\u001b[1;33m\u001b[0m\u001b[0m\n\u001b[0m\u001b[0;32m   1099\u001b[0m               \u001b[1;32mif\u001b[0m \u001b[0mdata_handler\u001b[0m\u001b[1;33m.\u001b[0m\u001b[0mshould_sync\u001b[0m\u001b[1;33m:\u001b[0m\u001b[1;33m\u001b[0m\u001b[1;33m\u001b[0m\u001b[0m\n\u001b[0;32m   1100\u001b[0m                 \u001b[0mcontext\u001b[0m\u001b[1;33m.\u001b[0m\u001b[0masync_wait\u001b[0m\u001b[1;33m(\u001b[0m\u001b[1;33m)\u001b[0m\u001b[1;33m\u001b[0m\u001b[1;33m\u001b[0m\u001b[0m\n",
      "\u001b[1;32m~\\anaconda3\\envs\\proyecto-grados\\lib\\site-packages\\tensorflow\\python\\eager\\def_function.py\u001b[0m in \u001b[0;36m__call__\u001b[1;34m(self, *args, **kwds)\u001b[0m\n\u001b[0;32m    778\u001b[0m       \u001b[1;32melse\u001b[0m\u001b[1;33m:\u001b[0m\u001b[1;33m\u001b[0m\u001b[1;33m\u001b[0m\u001b[0m\n\u001b[0;32m    779\u001b[0m         \u001b[0mcompiler\u001b[0m \u001b[1;33m=\u001b[0m \u001b[1;34m\"nonXla\"\u001b[0m\u001b[1;33m\u001b[0m\u001b[1;33m\u001b[0m\u001b[0m\n\u001b[1;32m--> 780\u001b[1;33m         \u001b[0mresult\u001b[0m \u001b[1;33m=\u001b[0m \u001b[0mself\u001b[0m\u001b[1;33m.\u001b[0m\u001b[0m_call\u001b[0m\u001b[1;33m(\u001b[0m\u001b[1;33m*\u001b[0m\u001b[0margs\u001b[0m\u001b[1;33m,\u001b[0m \u001b[1;33m**\u001b[0m\u001b[0mkwds\u001b[0m\u001b[1;33m)\u001b[0m\u001b[1;33m\u001b[0m\u001b[1;33m\u001b[0m\u001b[0m\n\u001b[0m\u001b[0;32m    781\u001b[0m \u001b[1;33m\u001b[0m\u001b[0m\n\u001b[0;32m    782\u001b[0m       \u001b[0mnew_tracing_count\u001b[0m \u001b[1;33m=\u001b[0m \u001b[0mself\u001b[0m\u001b[1;33m.\u001b[0m\u001b[0m_get_tracing_count\u001b[0m\u001b[1;33m(\u001b[0m\u001b[1;33m)\u001b[0m\u001b[1;33m\u001b[0m\u001b[1;33m\u001b[0m\u001b[0m\n",
      "\u001b[1;32m~\\anaconda3\\envs\\proyecto-grados\\lib\\site-packages\\tensorflow\\python\\eager\\def_function.py\u001b[0m in \u001b[0;36m_call\u001b[1;34m(self, *args, **kwds)\u001b[0m\n\u001b[0;32m    805\u001b[0m       \u001b[1;31m# In this case we have created variables on the first call, so we run the\u001b[0m\u001b[1;33m\u001b[0m\u001b[1;33m\u001b[0m\u001b[1;33m\u001b[0m\u001b[0m\n\u001b[0;32m    806\u001b[0m       \u001b[1;31m# defunned version which is guaranteed to never create variables.\u001b[0m\u001b[1;33m\u001b[0m\u001b[1;33m\u001b[0m\u001b[1;33m\u001b[0m\u001b[0m\n\u001b[1;32m--> 807\u001b[1;33m       \u001b[1;32mreturn\u001b[0m \u001b[0mself\u001b[0m\u001b[1;33m.\u001b[0m\u001b[0m_stateless_fn\u001b[0m\u001b[1;33m(\u001b[0m\u001b[1;33m*\u001b[0m\u001b[0margs\u001b[0m\u001b[1;33m,\u001b[0m \u001b[1;33m**\u001b[0m\u001b[0mkwds\u001b[0m\u001b[1;33m)\u001b[0m  \u001b[1;31m# pylint: disable=not-callable\u001b[0m\u001b[1;33m\u001b[0m\u001b[1;33m\u001b[0m\u001b[0m\n\u001b[0m\u001b[0;32m    808\u001b[0m     \u001b[1;32melif\u001b[0m \u001b[0mself\u001b[0m\u001b[1;33m.\u001b[0m\u001b[0m_stateful_fn\u001b[0m \u001b[1;32mis\u001b[0m \u001b[1;32mnot\u001b[0m \u001b[1;32mNone\u001b[0m\u001b[1;33m:\u001b[0m\u001b[1;33m\u001b[0m\u001b[1;33m\u001b[0m\u001b[0m\n\u001b[0;32m    809\u001b[0m       \u001b[1;31m# Release the lock early so that multiple threads can perform the call\u001b[0m\u001b[1;33m\u001b[0m\u001b[1;33m\u001b[0m\u001b[1;33m\u001b[0m\u001b[0m\n",
      "\u001b[1;32m~\\anaconda3\\envs\\proyecto-grados\\lib\\site-packages\\tensorflow\\python\\eager\\function.py\u001b[0m in \u001b[0;36m__call__\u001b[1;34m(self, *args, **kwargs)\u001b[0m\n\u001b[0;32m   2827\u001b[0m     \u001b[1;32mwith\u001b[0m \u001b[0mself\u001b[0m\u001b[1;33m.\u001b[0m\u001b[0m_lock\u001b[0m\u001b[1;33m:\u001b[0m\u001b[1;33m\u001b[0m\u001b[1;33m\u001b[0m\u001b[0m\n\u001b[0;32m   2828\u001b[0m       \u001b[0mgraph_function\u001b[0m\u001b[1;33m,\u001b[0m \u001b[0margs\u001b[0m\u001b[1;33m,\u001b[0m \u001b[0mkwargs\u001b[0m \u001b[1;33m=\u001b[0m \u001b[0mself\u001b[0m\u001b[1;33m.\u001b[0m\u001b[0m_maybe_define_function\u001b[0m\u001b[1;33m(\u001b[0m\u001b[0margs\u001b[0m\u001b[1;33m,\u001b[0m \u001b[0mkwargs\u001b[0m\u001b[1;33m)\u001b[0m\u001b[1;33m\u001b[0m\u001b[1;33m\u001b[0m\u001b[0m\n\u001b[1;32m-> 2829\u001b[1;33m     \u001b[1;32mreturn\u001b[0m \u001b[0mgraph_function\u001b[0m\u001b[1;33m.\u001b[0m\u001b[0m_filtered_call\u001b[0m\u001b[1;33m(\u001b[0m\u001b[0margs\u001b[0m\u001b[1;33m,\u001b[0m \u001b[0mkwargs\u001b[0m\u001b[1;33m)\u001b[0m  \u001b[1;31m# pylint: disable=protected-access\u001b[0m\u001b[1;33m\u001b[0m\u001b[1;33m\u001b[0m\u001b[0m\n\u001b[0m\u001b[0;32m   2830\u001b[0m \u001b[1;33m\u001b[0m\u001b[0m\n\u001b[0;32m   2831\u001b[0m   \u001b[1;33m@\u001b[0m\u001b[0mproperty\u001b[0m\u001b[1;33m\u001b[0m\u001b[1;33m\u001b[0m\u001b[0m\n",
      "\u001b[1;32m~\\anaconda3\\envs\\proyecto-grados\\lib\\site-packages\\tensorflow\\python\\eager\\function.py\u001b[0m in \u001b[0;36m_filtered_call\u001b[1;34m(self, args, kwargs, cancellation_manager)\u001b[0m\n\u001b[0;32m   1841\u001b[0m       \u001b[0;31m`\u001b[0m\u001b[0margs\u001b[0m\u001b[0;31m`\u001b[0m \u001b[1;32mand\u001b[0m\u001b[0;31m \u001b[0m\u001b[0;31m`\u001b[0m\u001b[0mkwargs\u001b[0m\u001b[0;31m`\u001b[0m\u001b[1;33m.\u001b[0m\u001b[1;33m\u001b[0m\u001b[1;33m\u001b[0m\u001b[0m\n\u001b[0;32m   1842\u001b[0m     \"\"\"\n\u001b[1;32m-> 1843\u001b[1;33m     return self._call_flat(\n\u001b[0m\u001b[0;32m   1844\u001b[0m         [t for t in nest.flatten((args, kwargs), expand_composites=True)\n\u001b[0;32m   1845\u001b[0m          if isinstance(t, (ops.Tensor,\n",
      "\u001b[1;32m~\\anaconda3\\envs\\proyecto-grados\\lib\\site-packages\\tensorflow\\python\\eager\\function.py\u001b[0m in \u001b[0;36m_call_flat\u001b[1;34m(self, args, captured_inputs, cancellation_manager)\u001b[0m\n\u001b[0;32m   1921\u001b[0m         and executing_eagerly):\n\u001b[0;32m   1922\u001b[0m       \u001b[1;31m# No tape is watching; skip to running the function.\u001b[0m\u001b[1;33m\u001b[0m\u001b[1;33m\u001b[0m\u001b[1;33m\u001b[0m\u001b[0m\n\u001b[1;32m-> 1923\u001b[1;33m       return self._build_call_outputs(self._inference_function.call(\n\u001b[0m\u001b[0;32m   1924\u001b[0m           ctx, args, cancellation_manager=cancellation_manager))\n\u001b[0;32m   1925\u001b[0m     forward_backward = self._select_forward_and_backward_functions(\n",
      "\u001b[1;32m~\\anaconda3\\envs\\proyecto-grados\\lib\\site-packages\\tensorflow\\python\\eager\\function.py\u001b[0m in \u001b[0;36mcall\u001b[1;34m(self, ctx, args, cancellation_manager)\u001b[0m\n\u001b[0;32m    543\u001b[0m       \u001b[1;32mwith\u001b[0m \u001b[0m_InterpolateFunctionError\u001b[0m\u001b[1;33m(\u001b[0m\u001b[0mself\u001b[0m\u001b[1;33m)\u001b[0m\u001b[1;33m:\u001b[0m\u001b[1;33m\u001b[0m\u001b[1;33m\u001b[0m\u001b[0m\n\u001b[0;32m    544\u001b[0m         \u001b[1;32mif\u001b[0m \u001b[0mcancellation_manager\u001b[0m \u001b[1;32mis\u001b[0m \u001b[1;32mNone\u001b[0m\u001b[1;33m:\u001b[0m\u001b[1;33m\u001b[0m\u001b[1;33m\u001b[0m\u001b[0m\n\u001b[1;32m--> 545\u001b[1;33m           outputs = execute.execute(\n\u001b[0m\u001b[0;32m    546\u001b[0m               \u001b[0mstr\u001b[0m\u001b[1;33m(\u001b[0m\u001b[0mself\u001b[0m\u001b[1;33m.\u001b[0m\u001b[0msignature\u001b[0m\u001b[1;33m.\u001b[0m\u001b[0mname\u001b[0m\u001b[1;33m)\u001b[0m\u001b[1;33m,\u001b[0m\u001b[1;33m\u001b[0m\u001b[1;33m\u001b[0m\u001b[0m\n\u001b[0;32m    547\u001b[0m               \u001b[0mnum_outputs\u001b[0m\u001b[1;33m=\u001b[0m\u001b[0mself\u001b[0m\u001b[1;33m.\u001b[0m\u001b[0m_num_outputs\u001b[0m\u001b[1;33m,\u001b[0m\u001b[1;33m\u001b[0m\u001b[1;33m\u001b[0m\u001b[0m\n",
      "\u001b[1;32m~\\anaconda3\\envs\\proyecto-grados\\lib\\site-packages\\tensorflow\\python\\eager\\execute.py\u001b[0m in \u001b[0;36mquick_execute\u001b[1;34m(op_name, num_outputs, inputs, attrs, ctx, name)\u001b[0m\n\u001b[0;32m     57\u001b[0m   \u001b[1;32mtry\u001b[0m\u001b[1;33m:\u001b[0m\u001b[1;33m\u001b[0m\u001b[1;33m\u001b[0m\u001b[0m\n\u001b[0;32m     58\u001b[0m     \u001b[0mctx\u001b[0m\u001b[1;33m.\u001b[0m\u001b[0mensure_initialized\u001b[0m\u001b[1;33m(\u001b[0m\u001b[1;33m)\u001b[0m\u001b[1;33m\u001b[0m\u001b[1;33m\u001b[0m\u001b[0m\n\u001b[1;32m---> 59\u001b[1;33m     tensors = pywrap_tfe.TFE_Py_Execute(ctx._handle, device_name, op_name,\n\u001b[0m\u001b[0;32m     60\u001b[0m                                         inputs, attrs, num_outputs)\n\u001b[0;32m     61\u001b[0m   \u001b[1;32mexcept\u001b[0m \u001b[0mcore\u001b[0m\u001b[1;33m.\u001b[0m\u001b[0m_NotOkStatusException\u001b[0m \u001b[1;32mas\u001b[0m \u001b[0me\u001b[0m\u001b[1;33m:\u001b[0m\u001b[1;33m\u001b[0m\u001b[1;33m\u001b[0m\u001b[0m\n",
      "\u001b[1;31mKeyboardInterrupt\u001b[0m: "
     ]
    }
   ],
   "source": [
    "model.fit([trainX_H,trainX_D], trainY_D, validation_data=([testX_H,testX_D],testY_D),\n",
    "               epochs=200,callbacks=callbacks,verbose=1)"
   ]
  },
  {
   "cell_type": "markdown",
   "metadata": {},
   "source": [
    "### Validación"
   ]
  },
  {
   "cell_type": "code",
   "execution_count": null,
   "metadata": {
    "id": "K350MWwuuCov"
   },
   "outputs": [],
   "source": [
    "model.evaluate(x=[testX_H,testX_D], y=testY_D)"
   ]
  },
  {
   "cell_type": "code",
   "execution_count": null,
   "metadata": {
    "id": "6ktCmumpuCow"
   },
   "outputs": [],
   "source": [
    "trainPredict,trainY,testPredict,testY = make_predictions(model,scaler_D_x,scaler_D_y,scaler_H_x,scaler_H_y,\n",
    "                                                         trainX_D, trainY_D, testX_D, testY_D,\n",
    "                                                         trainX_H, trainY_H, testX_H, testY_H,\n",
    "                                                         n_steps_out,len_output_features)"
   ]
  },
  {
   "cell_type": "code",
   "execution_count": null,
   "metadata": {
    "id": "XPNmfpavuCow"
   },
   "outputs": [],
   "source": [
    "trainPredict.shape,trainY.shape,testPredict.shape,testY.shape"
   ]
  },
  {
   "cell_type": "code",
   "execution_count": null,
   "metadata": {
    "id": "Mo4ReT-SuCow"
   },
   "outputs": [],
   "source": [
    "trainMAPE,testMAPE,train_sMAPE,test_sMAPE = get_metrics(trainY,trainPredict,testY,testPredict)"
   ]
  },
  {
   "cell_type": "code",
   "execution_count": null,
   "metadata": {},
   "outputs": [],
   "source": [
    "trainMAPE,testMAPE,train_sMAPE,test_sMAPE"
   ]
  },
  {
   "cell_type": "code",
   "execution_count": null,
   "metadata": {
    "id": "1TN1kvGSuCow"
   },
   "outputs": [],
   "source": [
    "Nt = trainPredict.shape[0] + testPredict.shape[0]\n",
    "trainPredictPlot = np.zeros((Nt,1))\n",
    "trainPredictPlot[:,:] = np.nan\n",
    "trainPredictPlot[:len(trainPredict), :] = np.concatenate((dataset_y_D[0].reshape(1,1),trainPredict[:-1]))\n",
    "\n",
    "# shift test predictions for plotting\n",
    "testPredictPlot = np.zeros((Nt,1))\n",
    "testPredictPlot[:, :] = np.nan\n",
    "testPredictPlot[len(trainPredict):Nt, :] = testPredict\n",
    "\n",
    "plt.figure(figsize=(15,7))\n",
    "plt.plot(np.concatenate((trainY,testY)),label='Original data')\n",
    "plt.plot(trainPredictPlot,label='Training predictions')\n",
    "plt.plot(testPredictPlot,label='Test prediction')\n",
    "plt.legend()\n",
    "plt.show()"
   ]
  },
  {
   "cell_type": "code",
   "execution_count": null,
   "metadata": {
    "id": "h8apbS4lXsPm"
   },
   "outputs": [],
   "source": [
    "# shift test predictions for plotting\n",
    "testOriginalPlot = np.zeros((Nt,1))\n",
    "testOriginalPlot[:, :] = np.nan\n",
    "testOriginalPlot[len(trainPredict):Nt, :] = testY\n",
    "\n",
    "# shift test predictions for plotting\n",
    "testPredictPlot = np.zeros((Nt,1))\n",
    "testPredictPlot[:, :] = np.nan\n",
    "testPredictPlot[len(trainPredict):Nt, :] = testPredict\n",
    "\n",
    "plt.figure(figsize=(15,7))\n",
    "plt.plot(testOriginalPlot,label='Original data')\n",
    "plt.plot(testPredictPlot,label='Test prediction')\n",
    "plt.legend()\n",
    "plt.show()"
   ]
  },
  {
   "cell_type": "code",
   "execution_count": null,
   "metadata": {},
   "outputs": [],
   "source": []
  }
 ],
 "metadata": {
  "accelerator": "GPU",
  "colab": {
   "collapsed_sections": [],
   "name": "Modelo Completo - Data Diaria y Horaria Con Imagenes.ipynb",
   "provenance": []
  },
  "kernelspec": {
   "display_name": "Python 3",
   "language": "python",
   "name": "python3"
  },
  "language_info": {
   "codemirror_mode": {
    "name": "ipython",
    "version": 3
   },
   "file_extension": ".py",
   "mimetype": "text/x-python",
   "name": "python",
   "nbconvert_exporter": "python",
   "pygments_lexer": "ipython3",
   "version": "3.8.3"
  }
 },
 "nbformat": 4,
 "nbformat_minor": 1
}
