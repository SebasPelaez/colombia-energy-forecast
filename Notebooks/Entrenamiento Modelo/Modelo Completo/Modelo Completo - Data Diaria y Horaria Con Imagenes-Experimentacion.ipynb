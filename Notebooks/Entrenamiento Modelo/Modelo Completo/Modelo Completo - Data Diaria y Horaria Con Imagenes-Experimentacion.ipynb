{
 "cells": [
  {
   "cell_type": "code",
   "execution_count": 1,
   "metadata": {
    "executionInfo": {
     "elapsed": 3242,
     "status": "ok",
     "timestamp": 1612487914726,
     "user": {
      "displayName": "JUAN SEBASTIÁN PELÁEZ VILLA",
      "photoUrl": "https://lh3.googleusercontent.com/a-/AOh14Ggc0MTZ3-jRn-hXLUMWcVhRE_vR6k4WbZPA-x_ne3WxNiTD7tmqcVflHIE6x1jWHszFQZgkHRh7-E9wZmocsEmKuvx3IKna9h8ptMamEVSfwh_7Anotab7VnBN1TylZCkmrxAGMffvLQuzNikW7of0LOdIxNcqyXIaD8HOZz3VLuryFYeB44jhXeXJbCxiZeBbEkaiLmIIRJj-3t0yBobLNCJzjXCbzsSr1beuQ_oDzcMqKXynZq4zw7LmjxW9H_QtrpHFDBYEtRtrLn9AOnjwHLDOQebFdXWKcGk4J7eq9g2rml0IcX16payM4VZ2wVtmoySJYfi_PiUnN7mmOqHqxa78PQb2eTXdJUoR9u18l8ANEt0bDQIpb3qSvesyzQAfdIp9sue0g27p2lsfjno39dQVBj1orn6NdSiNGUt1LHwfasD1z3evTeskojIZ77NWmB1nt2uOPdnydvEA02363Pk4eUWw58x8fljz5jUYAtNjsE5Lo34ZKMFM6VS8KtGOF6o42sWAapXYPBHa3jYZhuV8DjGCeQfhD12fuxXRu5Y3HpjzqYBiEFNP2gg8NcyCLCzrjmig_gyoeDeDjFy7H7A0sCrbY0ttvk18JBiiD4pf0DNfzITldXo_OpLeSKXbRowkjcCWInjqPcZKcXvZy8MMntmnruxf-jV1zRhZJ0kJc0epOhnCTtpabE8S0e2C9FP4K2pnpakA2TnMnWCUs-yD9R-6febeZcTW4Uz4s6FoNqs4aoo-zhtOmRu6yHyDhQk0=s64",
      "userId": "00260520649597601100"
     },
     "user_tz": 300
    },
    "id": "K-YpRzhNuCoe"
   },
   "outputs": [],
   "source": [
    "import os\n",
    "import numpy as np\n",
    "import pandas as pd\n",
    "import tensorflow as tf\n",
    "import time\n",
    "import math\n",
    "import sys\n",
    "import matplotlib.pyplot as plt\n",
    "\n",
    "sys.path.append('..')\n",
    "import EnergyPricesLibrary as Ep\n",
    "import CustomMetrics\n",
    "import CustomHyperModelCompletos\n",
    "\n",
    "from kerastuner.tuners import BayesianOptimization\n",
    "from sklearn.metrics import mean_squared_error\n",
    "\n",
    "%load_ext autoreload\n",
    "%autoreload 2"
   ]
  },
  {
   "cell_type": "code",
   "execution_count": 2,
   "metadata": {},
   "outputs": [],
   "source": [
    "def make_predictions(model,scaler_D_x,scaler_D_y,scaler_H_x,scaler_H_y,\n",
    "                     trainX_D, trainY_D, testX_D, testY_D,\n",
    "                     trainX_H, trainY_H, testX_H, testY_H,\n",
    "                     trainX_I, trainY_I, testX_I, testY_I,\n",
    "                     n_steps_out,len_output_features):\n",
    "    \n",
    "    # make predictions\n",
    "    trainPredict = model.predict([trainX_H,trainX_D,trainX_I])\n",
    "    trainPredict = trainPredict.reshape(trainPredict.shape[0]*n_steps_out,len_output_features)\n",
    "    testPredict  = model.predict([testX_H,testX_D,testX_I])\n",
    "    testPredict  = testPredict.reshape(testPredict.shape[0]*n_steps_out,len_output_features)\n",
    "    \n",
    "    # invert predictions\n",
    "    trainPredict = scaler_D_y.inverse_transform(trainPredict)\n",
    "    trainY = scaler_D_y.inverse_transform(trainY_D.reshape(trainY_D.shape[0]*n_steps_out,len_output_features))\n",
    "    \n",
    "    testPredict = scaler_D_y.inverse_transform(testPredict)\n",
    "    testY = scaler_D_y.inverse_transform(testY_D.reshape(testY_D.shape[0]*n_steps_out,len_output_features))\n",
    "        \n",
    "    return trainPredict,trainY,testPredict,testY\n",
    "\n",
    "def get_metrics(trainY,trainPredict,testY,testPredict):\n",
    "    \n",
    "    trainScore = math.sqrt(mean_squared_error(trainY, trainPredict))\n",
    "    trainMAPE  = Ep.MAPE(trainPredict,trainY)\n",
    "    print('Train Score: %.2f RMSE' % trainScore)\n",
    "    print('Train Score: %.2f MAPE' % trainMAPE)\n",
    "\n",
    "    testScore = math.sqrt(mean_squared_error(testY, testPredict))\n",
    "    testMAPE  = Ep.MAPE(testPredict,testY)\n",
    "    print('Test Score: %.2f RMSE' % testScore)\n",
    "    print('Test Score: %.2f MAPE' % testMAPE)\n",
    "    \n",
    "    return trainScore,trainMAPE,testScore,testMAPE"
   ]
  },
  {
   "cell_type": "code",
   "execution_count": 3,
   "metadata": {
    "executionInfo": {
     "elapsed": 8664,
     "status": "ok",
     "timestamp": 1612487932775,
     "user": {
      "displayName": "JUAN SEBASTIÁN PELÁEZ VILLA",
      "photoUrl": "https://lh3.googleusercontent.com/a-/AOh14Ggc0MTZ3-jRn-hXLUMWcVhRE_vR6k4WbZPA-x_ne3WxNiTD7tmqcVflHIE6x1jWHszFQZgkHRh7-E9wZmocsEmKuvx3IKna9h8ptMamEVSfwh_7Anotab7VnBN1TylZCkmrxAGMffvLQuzNikW7of0LOdIxNcqyXIaD8HOZz3VLuryFYeB44jhXeXJbCxiZeBbEkaiLmIIRJj-3t0yBobLNCJzjXCbzsSr1beuQ_oDzcMqKXynZq4zw7LmjxW9H_QtrpHFDBYEtRtrLn9AOnjwHLDOQebFdXWKcGk4J7eq9g2rml0IcX16payM4VZ2wVtmoySJYfi_PiUnN7mmOqHqxa78PQb2eTXdJUoR9u18l8ANEt0bDQIpb3qSvesyzQAfdIp9sue0g27p2lsfjno39dQVBj1orn6NdSiNGUt1LHwfasD1z3evTeskojIZ77NWmB1nt2uOPdnydvEA02363Pk4eUWw58x8fljz5jUYAtNjsE5Lo34ZKMFM6VS8KtGOF6o42sWAapXYPBHa3jYZhuV8DjGCeQfhD12fuxXRu5Y3HpjzqYBiEFNP2gg8NcyCLCzrjmig_gyoeDeDjFy7H7A0sCrbY0ttvk18JBiiD4pf0DNfzITldXo_OpLeSKXbRowkjcCWInjqPcZKcXvZy8MMntmnruxf-jV1zRhZJ0kJc0epOhnCTtpabE8S0e2C9FP4K2pnpakA2TnMnWCUs-yD9R-6febeZcTW4Uz4s6FoNqs4aoo-zhtOmRu6yHyDhQk0=s64",
      "userId": "00260520649597601100"
     },
     "user_tz": 300
    },
    "id": "sYyA90oJuCom"
   },
   "outputs": [],
   "source": [
    "data_diaria_path = os.path.join('..','..','..','dataset','Series','Sabanas','Original','Sabana_Datos_Diaria.xlsx')\n",
    "data_diaria = pd.read_excel(data_diaria_path)\n",
    "data_diaria = data_diaria.set_index('Fecha')"
   ]
  },
  {
   "cell_type": "code",
   "execution_count": 4,
   "metadata": {
    "executionInfo": {
     "elapsed": 115817,
     "status": "ok",
     "timestamp": 1612488040503,
     "user": {
      "displayName": "JUAN SEBASTIÁN PELÁEZ VILLA",
      "photoUrl": "https://lh3.googleusercontent.com/a-/AOh14Ggc0MTZ3-jRn-hXLUMWcVhRE_vR6k4WbZPA-x_ne3WxNiTD7tmqcVflHIE6x1jWHszFQZgkHRh7-E9wZmocsEmKuvx3IKna9h8ptMamEVSfwh_7Anotab7VnBN1TylZCkmrxAGMffvLQuzNikW7of0LOdIxNcqyXIaD8HOZz3VLuryFYeB44jhXeXJbCxiZeBbEkaiLmIIRJj-3t0yBobLNCJzjXCbzsSr1beuQ_oDzcMqKXynZq4zw7LmjxW9H_QtrpHFDBYEtRtrLn9AOnjwHLDOQebFdXWKcGk4J7eq9g2rml0IcX16payM4VZ2wVtmoySJYfi_PiUnN7mmOqHqxa78PQb2eTXdJUoR9u18l8ANEt0bDQIpb3qSvesyzQAfdIp9sue0g27p2lsfjno39dQVBj1orn6NdSiNGUt1LHwfasD1z3evTeskojIZ77NWmB1nt2uOPdnydvEA02363Pk4eUWw58x8fljz5jUYAtNjsE5Lo34ZKMFM6VS8KtGOF6o42sWAapXYPBHa3jYZhuV8DjGCeQfhD12fuxXRu5Y3HpjzqYBiEFNP2gg8NcyCLCzrjmig_gyoeDeDjFy7H7A0sCrbY0ttvk18JBiiD4pf0DNfzITldXo_OpLeSKXbRowkjcCWInjqPcZKcXvZy8MMntmnruxf-jV1zRhZJ0kJc0epOhnCTtpabE8S0e2C9FP4K2pnpakA2TnMnWCUs-yD9R-6febeZcTW4Uz4s6FoNqs4aoo-zhtOmRu6yHyDhQk0=s64",
      "userId": "00260520649597601100"
     },
     "user_tz": 300
    },
    "id": "SKmXmkRSuCom"
   },
   "outputs": [],
   "source": [
    "data_horaria_path = os.path.join('..','..','..','dataset','Series','Sabanas','Original','Sabana_Datos_Horaria.xlsx')\n",
    "data_horaria = pd.read_excel(data_horaria_path)\n",
    "data_horaria = data_horaria.set_index('Fecha')"
   ]
  },
  {
   "cell_type": "code",
   "execution_count": 5,
   "metadata": {
    "executionInfo": {
     "elapsed": 548,
     "status": "ok",
     "timestamp": 1612488041064,
     "user": {
      "displayName": "JUAN SEBASTIÁN PELÁEZ VILLA",
      "photoUrl": "https://lh3.googleusercontent.com/a-/AOh14Ggc0MTZ3-jRn-hXLUMWcVhRE_vR6k4WbZPA-x_ne3WxNiTD7tmqcVflHIE6x1jWHszFQZgkHRh7-E9wZmocsEmKuvx3IKna9h8ptMamEVSfwh_7Anotab7VnBN1TylZCkmrxAGMffvLQuzNikW7of0LOdIxNcqyXIaD8HOZz3VLuryFYeB44jhXeXJbCxiZeBbEkaiLmIIRJj-3t0yBobLNCJzjXCbzsSr1beuQ_oDzcMqKXynZq4zw7LmjxW9H_QtrpHFDBYEtRtrLn9AOnjwHLDOQebFdXWKcGk4J7eq9g2rml0IcX16payM4VZ2wVtmoySJYfi_PiUnN7mmOqHqxa78PQb2eTXdJUoR9u18l8ANEt0bDQIpb3qSvesyzQAfdIp9sue0g27p2lsfjno39dQVBj1orn6NdSiNGUt1LHwfasD1z3evTeskojIZ77NWmB1nt2uOPdnydvEA02363Pk4eUWw58x8fljz5jUYAtNjsE5Lo34ZKMFM6VS8KtGOF6o42sWAapXYPBHa3jYZhuV8DjGCeQfhD12fuxXRu5Y3HpjzqYBiEFNP2gg8NcyCLCzrjmig_gyoeDeDjFy7H7A0sCrbY0ttvk18JBiiD4pf0DNfzITldXo_OpLeSKXbRowkjcCWInjqPcZKcXvZy8MMntmnruxf-jV1zRhZJ0kJc0epOhnCTtpabE8S0e2C9FP4K2pnpakA2TnMnWCUs-yD9R-6febeZcTW4Uz4s6FoNqs4aoo-zhtOmRu6yHyDhQk0=s64",
      "userId": "00260520649597601100"
     },
     "user_tz": 300
    },
    "id": "0KRLEAcztSP2"
   },
   "outputs": [],
   "source": [
    "climatic_images_prcp_dir = os.path.join('..','..','..','dataset','Climatic Images','PRCP')\n",
    "climatic_images_tavg_dir = os.path.join('..','..','..','dataset','Climatic Images','TAVG')"
   ]
  },
  {
   "cell_type": "code",
   "execution_count": 6,
   "metadata": {
    "executionInfo": {
     "elapsed": 7038,
     "status": "ok",
     "timestamp": 1612488047557,
     "user": {
      "displayName": "JUAN SEBASTIÁN PELÁEZ VILLA",
      "photoUrl": "https://lh3.googleusercontent.com/a-/AOh14Ggc0MTZ3-jRn-hXLUMWcVhRE_vR6k4WbZPA-x_ne3WxNiTD7tmqcVflHIE6x1jWHszFQZgkHRh7-E9wZmocsEmKuvx3IKna9h8ptMamEVSfwh_7Anotab7VnBN1TylZCkmrxAGMffvLQuzNikW7of0LOdIxNcqyXIaD8HOZz3VLuryFYeB44jhXeXJbCxiZeBbEkaiLmIIRJj-3t0yBobLNCJzjXCbzsSr1beuQ_oDzcMqKXynZq4zw7LmjxW9H_QtrpHFDBYEtRtrLn9AOnjwHLDOQebFdXWKcGk4J7eq9g2rml0IcX16payM4VZ2wVtmoySJYfi_PiUnN7mmOqHqxa78PQb2eTXdJUoR9u18l8ANEt0bDQIpb3qSvesyzQAfdIp9sue0g27p2lsfjno39dQVBj1orn6NdSiNGUt1LHwfasD1z3evTeskojIZ77NWmB1nt2uOPdnydvEA02363Pk4eUWw58x8fljz5jUYAtNjsE5Lo34ZKMFM6VS8KtGOF6o42sWAapXYPBHa3jYZhuV8DjGCeQfhD12fuxXRu5Y3HpjzqYBiEFNP2gg8NcyCLCzrjmig_gyoeDeDjFy7H7A0sCrbY0ttvk18JBiiD4pf0DNfzITldXo_OpLeSKXbRowkjcCWInjqPcZKcXvZy8MMntmnruxf-jV1zRhZJ0kJc0epOhnCTtpabE8S0e2C9FP4K2pnpakA2TnMnWCUs-yD9R-6febeZcTW4Uz4s6FoNqs4aoo-zhtOmRu6yHyDhQk0=s64",
      "userId": "00260520649597601100"
     },
     "user_tz": 300
    },
    "id": "0z61ew3KuCon"
   },
   "outputs": [],
   "source": [
    "precio_bolsa_path = os.path.join('..','..','..','dataset','Series','Sabanas','Original','Sabana_Datos_Precio_Bolsa.xlsx')\n",
    "precio_bolsa = pd.read_excel(precio_bolsa_path)\n",
    "precio_bolsa = precio_bolsa.set_index('Fecha')"
   ]
  },
  {
   "cell_type": "code",
   "execution_count": 7,
   "metadata": {
    "executionInfo": {
     "elapsed": 7037,
     "status": "ok",
     "timestamp": 1612488047559,
     "user": {
      "displayName": "JUAN SEBASTIÁN PELÁEZ VILLA",
      "photoUrl": "https://lh3.googleusercontent.com/a-/AOh14Ggc0MTZ3-jRn-hXLUMWcVhRE_vR6k4WbZPA-x_ne3WxNiTD7tmqcVflHIE6x1jWHszFQZgkHRh7-E9wZmocsEmKuvx3IKna9h8ptMamEVSfwh_7Anotab7VnBN1TylZCkmrxAGMffvLQuzNikW7of0LOdIxNcqyXIaD8HOZz3VLuryFYeB44jhXeXJbCxiZeBbEkaiLmIIRJj-3t0yBobLNCJzjXCbzsSr1beuQ_oDzcMqKXynZq4zw7LmjxW9H_QtrpHFDBYEtRtrLn9AOnjwHLDOQebFdXWKcGk4J7eq9g2rml0IcX16payM4VZ2wVtmoySJYfi_PiUnN7mmOqHqxa78PQb2eTXdJUoR9u18l8ANEt0bDQIpb3qSvesyzQAfdIp9sue0g27p2lsfjno39dQVBj1orn6NdSiNGUt1LHwfasD1z3evTeskojIZ77NWmB1nt2uOPdnydvEA02363Pk4eUWw58x8fljz5jUYAtNjsE5Lo34ZKMFM6VS8KtGOF6o42sWAapXYPBHa3jYZhuV8DjGCeQfhD12fuxXRu5Y3HpjzqYBiEFNP2gg8NcyCLCzrjmig_gyoeDeDjFy7H7A0sCrbY0ttvk18JBiiD4pf0DNfzITldXo_OpLeSKXbRowkjcCWInjqPcZKcXvZy8MMntmnruxf-jV1zRhZJ0kJc0epOhnCTtpabE8S0e2C9FP4K2pnpakA2TnMnWCUs-yD9R-6febeZcTW4Uz4s6FoNqs4aoo-zhtOmRu6yHyDhQk0=s64",
      "userId": "00260520649597601100"
     },
     "user_tz": 300
    },
    "id": "gGlv9rK_uCon"
   },
   "outputs": [],
   "source": [
    "nombre_series_diaria = data_diaria.columns.values\n",
    "nombre_series_horaria = data_horaria.columns.values"
   ]
  },
  {
   "cell_type": "code",
   "execution_count": 8,
   "metadata": {
    "executionInfo": {
     "elapsed": 7036,
     "status": "ok",
     "timestamp": 1612488047560,
     "user": {
      "displayName": "JUAN SEBASTIÁN PELÁEZ VILLA",
      "photoUrl": "https://lh3.googleusercontent.com/a-/AOh14Ggc0MTZ3-jRn-hXLUMWcVhRE_vR6k4WbZPA-x_ne3WxNiTD7tmqcVflHIE6x1jWHszFQZgkHRh7-E9wZmocsEmKuvx3IKna9h8ptMamEVSfwh_7Anotab7VnBN1TylZCkmrxAGMffvLQuzNikW7of0LOdIxNcqyXIaD8HOZz3VLuryFYeB44jhXeXJbCxiZeBbEkaiLmIIRJj-3t0yBobLNCJzjXCbzsSr1beuQ_oDzcMqKXynZq4zw7LmjxW9H_QtrpHFDBYEtRtrLn9AOnjwHLDOQebFdXWKcGk4J7eq9g2rml0IcX16payM4VZ2wVtmoySJYfi_PiUnN7mmOqHqxa78PQb2eTXdJUoR9u18l8ANEt0bDQIpb3qSvesyzQAfdIp9sue0g27p2lsfjno39dQVBj1orn6NdSiNGUt1LHwfasD1z3evTeskojIZ77NWmB1nt2uOPdnydvEA02363Pk4eUWw58x8fljz5jUYAtNjsE5Lo34ZKMFM6VS8KtGOF6o42sWAapXYPBHa3jYZhuV8DjGCeQfhD12fuxXRu5Y3HpjzqYBiEFNP2gg8NcyCLCzrjmig_gyoeDeDjFy7H7A0sCrbY0ttvk18JBiiD4pf0DNfzITldXo_OpLeSKXbRowkjcCWInjqPcZKcXvZy8MMntmnruxf-jV1zRhZJ0kJc0epOhnCTtpabE8S0e2C9FP4K2pnpakA2TnMnWCUs-yD9R-6febeZcTW4Uz4s6FoNqs4aoo-zhtOmRu6yHyDhQk0=s64",
      "userId": "00260520649597601100"
     },
     "user_tz": 300
    },
    "id": "u0sc-yTeuCon"
   },
   "outputs": [],
   "source": [
    "data_horaria_full = pd.concat([data_horaria,precio_bolsa],axis=1)"
   ]
  },
  {
   "cell_type": "code",
   "execution_count": 9,
   "metadata": {
    "colab": {
     "base_uri": "https://localhost:8080/"
    },
    "executionInfo": {
     "elapsed": 7035,
     "status": "ok",
     "timestamp": 1612488047561,
     "user": {
      "displayName": "JUAN SEBASTIÁN PELÁEZ VILLA",
      "photoUrl": "https://lh3.googleusercontent.com/a-/AOh14Ggc0MTZ3-jRn-hXLUMWcVhRE_vR6k4WbZPA-x_ne3WxNiTD7tmqcVflHIE6x1jWHszFQZgkHRh7-E9wZmocsEmKuvx3IKna9h8ptMamEVSfwh_7Anotab7VnBN1TylZCkmrxAGMffvLQuzNikW7of0LOdIxNcqyXIaD8HOZz3VLuryFYeB44jhXeXJbCxiZeBbEkaiLmIIRJj-3t0yBobLNCJzjXCbzsSr1beuQ_oDzcMqKXynZq4zw7LmjxW9H_QtrpHFDBYEtRtrLn9AOnjwHLDOQebFdXWKcGk4J7eq9g2rml0IcX16payM4VZ2wVtmoySJYfi_PiUnN7mmOqHqxa78PQb2eTXdJUoR9u18l8ANEt0bDQIpb3qSvesyzQAfdIp9sue0g27p2lsfjno39dQVBj1orn6NdSiNGUt1LHwfasD1z3evTeskojIZ77NWmB1nt2uOPdnydvEA02363Pk4eUWw58x8fljz5jUYAtNjsE5Lo34ZKMFM6VS8KtGOF6o42sWAapXYPBHa3jYZhuV8DjGCeQfhD12fuxXRu5Y3HpjzqYBiEFNP2gg8NcyCLCzrjmig_gyoeDeDjFy7H7A0sCrbY0ttvk18JBiiD4pf0DNfzITldXo_OpLeSKXbRowkjcCWInjqPcZKcXvZy8MMntmnruxf-jV1zRhZJ0kJc0epOhnCTtpabE8S0e2C9FP4K2pnpakA2TnMnWCUs-yD9R-6febeZcTW4Uz4s6FoNqs4aoo-zhtOmRu6yHyDhQk0=s64",
      "userId": "00260520649597601100"
     },
     "user_tz": 300
    },
    "id": "SUYQYcffuCop",
    "outputId": "7e4bbe2d-aa54-4436-85e9-7889ffca7215"
   },
   "outputs": [
    {
     "data": {
      "text/plain": [
       "((177480, 85), (7395, 119), (177480, 1))"
      ]
     },
     "execution_count": 9,
     "metadata": {},
     "output_type": "execute_result"
    }
   ],
   "source": [
    "data_horaria.shape,data_diaria.shape, precio_bolsa.shape"
   ]
  },
  {
   "cell_type": "markdown",
   "metadata": {
    "id": "gcag57CwuCoq"
   },
   "source": [
    "## Build Window"
   ]
  },
  {
   "cell_type": "code",
   "execution_count": 10,
   "metadata": {
    "executionInfo": {
     "elapsed": 628,
     "status": "ok",
     "timestamp": 1612488093871,
     "user": {
      "displayName": "JUAN SEBASTIÁN PELÁEZ VILLA",
      "photoUrl": "https://lh3.googleusercontent.com/a-/AOh14Ggc0MTZ3-jRn-hXLUMWcVhRE_vR6k4WbZPA-x_ne3WxNiTD7tmqcVflHIE6x1jWHszFQZgkHRh7-E9wZmocsEmKuvx3IKna9h8ptMamEVSfwh_7Anotab7VnBN1TylZCkmrxAGMffvLQuzNikW7of0LOdIxNcqyXIaD8HOZz3VLuryFYeB44jhXeXJbCxiZeBbEkaiLmIIRJj-3t0yBobLNCJzjXCbzsSr1beuQ_oDzcMqKXynZq4zw7LmjxW9H_QtrpHFDBYEtRtrLn9AOnjwHLDOQebFdXWKcGk4J7eq9g2rml0IcX16payM4VZ2wVtmoySJYfi_PiUnN7mmOqHqxa78PQb2eTXdJUoR9u18l8ANEt0bDQIpb3qSvesyzQAfdIp9sue0g27p2lsfjno39dQVBj1orn6NdSiNGUt1LHwfasD1z3evTeskojIZ77NWmB1nt2uOPdnydvEA02363Pk4eUWw58x8fljz5jUYAtNjsE5Lo34ZKMFM6VS8KtGOF6o42sWAapXYPBHa3jYZhuV8DjGCeQfhD12fuxXRu5Y3HpjzqYBiEFNP2gg8NcyCLCzrjmig_gyoeDeDjFy7H7A0sCrbY0ttvk18JBiiD4pf0DNfzITldXo_OpLeSKXbRowkjcCWInjqPcZKcXvZy8MMntmnruxf-jV1zRhZJ0kJc0epOhnCTtpabE8S0e2C9FP4K2pnpakA2TnMnWCUs-yD9R-6febeZcTW4Uz4s6FoNqs4aoo-zhtOmRu6yHyDhQk0=s64",
      "userId": "00260520649597601100"
     },
     "user_tz": 300
    },
    "id": "GeWGyXzkx6Nu"
   },
   "outputs": [],
   "source": [
    "lista_fechas = list()\n",
    "lista_rutas = list()\n",
    "for prcp_file,tavg_file in zip(os.listdir(climatic_images_prcp_dir),os.listdir(climatic_images_tavg_dir)):\n",
    "    fecha = prcp_file.split('.')[0]\n",
    "    ruta_prcp = os.path.join(climatic_images_prcp_dir,prcp_file)\n",
    "    ruta_tavg = os.path.join(climatic_images_tavg_dir,tavg_file)\n",
    "    lista_fechas.append(fecha)\n",
    "    lista_rutas.append([ruta_prcp,ruta_tavg])"
   ]
  },
  {
   "cell_type": "code",
   "execution_count": 11,
   "metadata": {},
   "outputs": [],
   "source": [
    "d = 'All'\n",
    "start_date_train = '2000-02-01'\n",
    "start_date_val = '2020-01-01'\n",
    "start_date_test = '2020-04-01'\n",
    "end_date_test = '2020-05-01'\n",
    "n_steps_out=24\n",
    "output_columns = ['$kWh']"
   ]
  },
  {
   "cell_type": "code",
   "execution_count": 12,
   "metadata": {
    "id": "AYMJWw1atqDY"
   },
   "outputs": [],
   "source": [
    "dataset_df = pd.DataFrame(lista_rutas,index=lista_fechas,columns=['Precipitacion','Temperatura'])\n",
    " \n",
    "n_steps_in  = 2\n",
    "overlap = 1\n",
    "len_output_features = len(output_columns)\n",
    "\n",
    "IMG_HEIGHT,IMG_WIDTH = 128,128\n",
    "\n",
    "results = Ep.SplitTimeseriesMultipleTimesBackAhead_DifferentTimes_Images(df_x=dataset_df,df_y=precio_bolsa,\n",
    "                                                                         start_date_train=start_date_train,\n",
    "                                                                         start_date_val=start_date_val,\n",
    "                                                                         start_date_test=start_date_test,\n",
    "                                                                         end_date_test=end_date_test,n_steps_out=n_steps_out,\n",
    "                                                                         n_steps_in=n_steps_in,overlap=overlap,\n",
    "                                                                         output_features=output_columns,\n",
    "                                                                         IMG_HEIGHT=IMG_HEIGHT,IMG_WIDTH=IMG_WIDTH)\n",
    "\n",
    "trainX_I,trainY_I,valX_I,valY_I,testX_I,testY_I,scaler_y_I,dataset_x_I,dataset_y_I = results"
   ]
  },
  {
   "cell_type": "code",
   "execution_count": 13,
   "metadata": {
    "id": "8JGtKs2auCor"
   },
   "outputs": [],
   "source": [
    "n_steps_in = 2\n",
    "overlap = 1\n",
    "inputs_columns = nombre_series_diaria\n",
    "\n",
    "len_input_features = len(inputs_columns)\n",
    "len_output_features = len(output_columns)\n",
    "\n",
    "results = Ep.SplitTimeseriesMultipleTimesBackAhead_differentTimes(df_x=data_diaria,\n",
    "                                                                  df_y=precio_bolsa,\n",
    "                                                                  day=d,\n",
    "                                                                  start_date_train=start_date_train,start_date_val=start_date_val,\n",
    "                                                                  start_date_test=start_date_test,end_date_test=end_date_test,\n",
    "                                                                  n_steps_out=n_steps_out,n_steps_in=n_steps_in,\n",
    "                                                                  overlap=overlap,input_features=inputs_columns,\n",
    "                                                                  output_features=output_columns)\n",
    "\n",
    "trainX_D,trainY_D,valX_D,valY_D,testX_D,testY_D,scaler_D_x,scaler_D_y,dataset_x_D, dataset_y_D = results"
   ]
  },
  {
   "cell_type": "code",
   "execution_count": 14,
   "metadata": {
    "id": "XxEA_yW2uCos"
   },
   "outputs": [],
   "source": [
    "n_steps_in = 48\n",
    "overlap = 24\n",
    "inputs_columns = nombre_series_horaria\n",
    "\n",
    "len_input_features = len(inputs_columns)\n",
    "len_output_features = len(output_columns)\n",
    "\n",
    "results = Ep.SplitTimeseriesMultipleTimesBackAhead(df=data_horaria_full,\n",
    "                                                   day=d,\n",
    "                                                   start_date_train=start_date_train,start_date_val=start_date_val,\n",
    "                                                   start_date_test=start_date_test,end_date_test=end_date_test,\n",
    "                                                   n_steps_out=n_steps_out,n_steps_in=n_steps_in,overlap=overlap,\n",
    "                                                   input_features=inputs_columns,output_features=output_columns)\n",
    "\n",
    "trainX_H,trainY_H,valX_H,valY_H,testX_H,testY_H,scaler_H_x,scaler_H_y,df2_H,dataset_H = results"
   ]
  },
  {
   "cell_type": "markdown",
   "metadata": {},
   "source": [
    "### Train"
   ]
  },
  {
   "cell_type": "code",
   "execution_count": 15,
   "metadata": {},
   "outputs": [
    {
     "data": {
      "text/plain": [
       "('Diaria:',\n",
       " (7272, 2, 119),\n",
       " (7272, 24, 1),\n",
       " 'Horaria:',\n",
       " (7272, 48, 85),\n",
       " (7272, 24, 1),\n",
       " 'Imagenes:',\n",
       " (7272, 2, 128, 128, 6),\n",
       " (7272, 24, 1))"
      ]
     },
     "execution_count": 15,
     "metadata": {},
     "output_type": "execute_result"
    }
   ],
   "source": [
    "'Diaria:',trainX_D.shape,trainY_D.shape,'Horaria:',trainX_H.shape, trainY_H.shape,'Imagenes:',trainX_I.shape, trainY_I.shape"
   ]
  },
  {
   "cell_type": "markdown",
   "metadata": {},
   "source": [
    "### Val"
   ]
  },
  {
   "cell_type": "code",
   "execution_count": 16,
   "metadata": {},
   "outputs": [
    {
     "data": {
      "text/plain": [
       "('Diaria:',\n",
       " (91, 2, 119),\n",
       " (91, 24, 1),\n",
       " 'Horaria:',\n",
       " (91, 48, 85),\n",
       " (91, 24, 1),\n",
       " 'Imagenes:',\n",
       " (91, 2, 128, 128, 6),\n",
       " (91, 24, 1))"
      ]
     },
     "execution_count": 16,
     "metadata": {},
     "output_type": "execute_result"
    }
   ],
   "source": [
    "'Diaria:',valX_D.shape,valY_D.shape,'Horaria:',valX_H.shape,valY_H.shape,'Imagenes:',valX_I.shape,valY_I.shape"
   ]
  },
  {
   "cell_type": "markdown",
   "metadata": {},
   "source": [
    "### Test"
   ]
  },
  {
   "cell_type": "code",
   "execution_count": 17,
   "metadata": {},
   "outputs": [
    {
     "data": {
      "text/plain": [
       "('Diaria:',\n",
       " (30, 2, 119),\n",
       " (30, 24, 1),\n",
       " 'Horaria:',\n",
       " (30, 48, 85),\n",
       " (30, 24, 1),\n",
       " 'Imagenes:',\n",
       " (30, 2, 128, 128, 6),\n",
       " (30, 24, 1))"
      ]
     },
     "execution_count": 17,
     "metadata": {},
     "output_type": "execute_result"
    }
   ],
   "source": [
    "'Diaria:',testX_D.shape, testY_D.shape,'Horaria:',testX_H.shape, testY_H.shape,'Imagenes:',testX_I.shape, testY_I.shape"
   ]
  },
  {
   "cell_type": "markdown",
   "metadata": {
    "id": "Gnb8WjkxuCot"
   },
   "source": [
    "## Model"
   ]
  },
  {
   "cell_type": "code",
   "execution_count": 18,
   "metadata": {
    "id": "VPrRp1DiuCou"
   },
   "outputs": [],
   "source": [
    "callback_reduce_lr = tf.keras.callbacks.ReduceLROnPlateau(monitor='val_loss',\n",
    "                                                          factor=0.1,\n",
    "                                                          min_lr=1e-5,\n",
    "                                                          patience=0,\n",
    "                                                          verbose=1)\n",
    "\n",
    "early_stopping = tf.keras.callbacks.EarlyStopping(monitor='val_loss',\n",
    "                                                  patience=5,\n",
    "                                                  mode='min')\n",
    "\n",
    "callbacks = [callback_reduce_lr,early_stopping]"
   ]
  },
  {
   "cell_type": "code",
   "execution_count": 19,
   "metadata": {},
   "outputs": [],
   "source": [
    "hourly_input_shape = (trainX_H.shape[1],trainX_H.shape[2])\n",
    "daily_input_shape = (trainX_D.shape[1],trainX_D.shape[2])\n",
    "images_input_shape = trainX_I[0].shape\n",
    "\n",
    "ModeloCompletoI_Concat_Version5 = CustomHyperModelCompletos.ModeloCompletoI_Concat_Version5(hourly_input_shape=hourly_input_shape,\n",
    "                                                                                            daily_input_shape=daily_input_shape,\n",
    "                                                                                            image_input_shape=images_input_shape,\n",
    "                                                                                            n_steps_out=n_steps_out)\n",
    "\n",
    "ModeloCompletoI_Suma_Version5 = CustomHyperModelCompletos.ModeloCompletoI_Suma_Version5(hourly_input_shape=hourly_input_shape,\n",
    "                                                                                            daily_input_shape=daily_input_shape,\n",
    "                                                                                            image_input_shape=images_input_shape,\n",
    "                                                                                            n_steps_out=n_steps_out)\n",
    "\n",
    "ModeloCompletoI_Concat_Version6 = CustomHyperModelCompletos.ModeloCompletoI_Concat_Version6(hourly_input_shape=hourly_input_shape,\n",
    "                                                                                            daily_input_shape=daily_input_shape,\n",
    "                                                                                            image_input_shape=images_input_shape,\n",
    "                                                                                            n_steps_out=n_steps_out)\n",
    "\n",
    "ModeloCompletoI_Suma_Version6 = CustomHyperModelCompletos.ModeloCompletoI_Suma_Version6(hourly_input_shape=hourly_input_shape,\n",
    "                                                                                            daily_input_shape=daily_input_shape,\n",
    "                                                                                            image_input_shape=images_input_shape,\n",
    "                                                                                            n_steps_out=n_steps_out)\n",
    "\n",
    "ModeloCompletoII_Concat_Version6 = CustomHyperModelCompletos.ModeloCompletoII_Concat_Version6(hourly_input_shape=hourly_input_shape,\n",
    "                                                                                            daily_input_shape=daily_input_shape,\n",
    "                                                                                            image_input_shape=images_input_shape,\n",
    "                                                                                            n_steps_out=n_steps_out)\n",
    "\n",
    "ModeloCompletoII_Suma_Version6 = CustomHyperModelCompletos.ModeloCompletoII_Suma_Version6(hourly_input_shape=hourly_input_shape,\n",
    "                                                                                            daily_input_shape=daily_input_shape,\n",
    "                                                                                            image_input_shape=images_input_shape,\n",
    "                                                                                            n_steps_out=n_steps_out)"
   ]
  },
  {
   "cell_type": "code",
   "execution_count": 20,
   "metadata": {
    "id": "nLww4iEkuCov"
   },
   "outputs": [
    {
     "name": "stdout",
     "output_type": "stream",
     "text": [
      "Trial 3 Complete [00h 05m 00s]\n",
      "val_mean_absolute_percentage_error: 22.792190551757812\n",
      "\n",
      "Best val_mean_absolute_percentage_error So Far: 22.792190551757812\n",
      "Total elapsed time: 00h 16m 07s\n",
      "\n",
      "Search: Running Trial #4\n",
      "\n",
      "Hyperparameter    |Value             |Best Value So Far \n",
      "learning_rate     |0.0002649         |0.00022032        \n",
      "\n",
      "Epoch 1/200\n",
      "228/228 [==============================] - 18s 77ms/step - loss: 208.1752 - mean_absolute_error: 0.0754 - mean_absolute_percentage_error: 7084.8828 - symmetric_mean_absolute_percentage_error: 2747.5452 - val_loss: 8.9123 - val_mean_absolute_error: 0.0609 - val_mean_absolute_percentage_error: 49.4426 - val_symmetric_mean_absolute_percentage_error: 1638.8409\n",
      "Epoch 2/200\n",
      "228/228 [==============================] - 16s 68ms/step - loss: 1.3486 - mean_absolute_error: 0.0280 - mean_absolute_percentage_error: 4058.4048 - symmetric_mean_absolute_percentage_error: 1951.6035 - val_loss: 0.6033 - val_mean_absolute_error: 0.0456 - val_mean_absolute_percentage_error: 36.8727 - val_symmetric_mean_absolute_percentage_error: 1083.5231\n",
      "Epoch 3/200\n",
      "228/228 [==============================] - 16s 69ms/step - loss: 0.6017 - mean_absolute_error: 0.0238 - mean_absolute_percentage_error: 3684.8831 - symmetric_mean_absolute_percentage_error: 1755.2000 - val_loss: 0.6026 - val_mean_absolute_error: 0.0390 - val_mean_absolute_percentage_error: 31.1596 - val_symmetric_mean_absolute_percentage_error: 865.1897error: 0.0246 - mean_absolute_percentage_error: 5880.1958 - symmetric_mean_absolute_percenta - ETA: 6s - loss: 0.6018 - mean_absolute_error: 0.0245 - mean_absolute_percentage_error: 4944.7900 - symmetric_mean_absolute_p - ETA: 5s - loss: 0.6018 - mean_absolute_error: 0.0244 - mean_absol\n",
      "Epoch 4/200\n",
      "228/228 [==============================] - 16s 69ms/step - loss: 0.6014 - mean_absolute_error: 0.0210 - mean_absolute_percentage_error: 4010.4546 - symmetric_mean_absolute_percentage_error: 1610.8618 - val_loss: 0.6015 - val_mean_absolute_error: 0.0322 - val_mean_absolute_percentage_error: 26.5738 - val_symmetric_mean_absolute_percentage_error: 673.3843\n",
      "Epoch 5/200\n",
      "228/228 [==============================] - 15s 67ms/step - loss: 0.6012 - mean_absolute_error: 0.0193 - mean_absolute_percentage_error: 3220.0078 - symmetric_mean_absolute_percentage_error: 1489.4734 - val_loss: 0.6014 - val_mean_absolute_error: 0.0313 - val_mean_absolute_percentage_error: 25.4081 - val_symmetric_mean_absolute_percentage_error: 649.2468ean_absolute_error: 0.0194 - mean_absolute_percentage_error: 3414.0081 - symmetric_mean_absolute_percentage_er\n",
      "Epoch 6/200\n",
      "228/228 [==============================] - 16s 69ms/step - loss: 0.6010 - mean_absolute_error: 0.0179 - mean_absolute_percentage_error: 2960.8059 - symmetric_mean_absolute_percentage_error: 1388.5714 - val_loss: 0.6005 - val_mean_absolute_error: 0.0301 - val_mean_absolute_percentage_error: 24.6532 - val_symmetric_mean_absolute_percentage_error: 620.6628\n",
      "Epoch 7/200\n",
      "227/228 [============================>.] - ETA: 0s - loss: 0.6009 - mean_absolute_error: 0.0172 - mean_absolute_percentage_error: 2909.7478 - symmetric_mean_absolute_percentage_error: 1331.8459- ETA: 10s - loss: 0.6009 - mean_absolute_error: 0.0178 - mean_absolute_percentage_error: 570.6039 - symmetric_mean_absolute_percentage_ - ETA: 9s - loss: 0.6009 - mean_absolute_error: 0.0174 - mean_absolute_percentage_error: 505.6741 - symmetric_mean_abs - ETA: 8s - loss: 0.6008 - mean_absolute_error - ETA: 2s - loss: 0.6010 - mean_absolute_error: 0.0175 - mean_absolute_percentage_error: 3375.1724 - symmetric_mean_abso\n",
      "Epoch 00007: ReduceLROnPlateau reducing learning rate to 2.6489890296943488e-05.\n",
      "228/228 [==============================] - 15s 68ms/step - loss: 0.6009 - mean_absolute_error: 0.0172 - mean_absolute_percentage_error: 2906.6438 - symmetric_mean_absolute_percentage_error: 1330.9786 - val_loss: 0.6008 - val_mean_absolute_error: 0.0292 - val_mean_absolute_percentage_error: 23.9200 - val_symmetric_mean_absolute_percentage_error: 598.9293\n",
      "Epoch 8/200\n",
      "228/228 [==============================] - 16s 69ms/step - loss: 0.0823 - mean_absolute_error: 0.0165 - mean_absolute_percentage_error: 3071.9810 - symmetric_mean_absolute_percentage_error: 1251.6610 - val_loss: 0.0591 - val_mean_absolute_error: 0.0288 - val_mean_absolute_percentage_error: 23.8286 - val_symmetric_mean_absolute_percentage_error: 586.7464\n",
      "Epoch 9/200\n",
      "228/228 [==============================] - 16s 69ms/step - loss: 0.0590 - mean_absolute_error: 0.0165 - mean_absolute_percentage_error: 2913.9758 - symmetric_mean_absolute_percentage_error: 1257.8617 - val_loss: 0.0588 - val_mean_absolute_error: 0.0289 - val_mean_absolute_percentage_error: 23.8126 - val_symmetric_mean_absolute_percentage_error: 589.8351\n",
      "Epoch 10/200\n",
      "227/228 [============================>.] - ETA: 0s - loss: 0.0589 - mean_absolute_error: 0.0164 - mean_absolute_percentage_error: 2690.7520 - symmetric_mean_absolute_percentage_error: 1255.5732- ETA: 4s - loss: 0.0588 - mean_absolute_error: 0.0161 - mean_absolute_percentage_e\n",
      "Epoch 00010: ReduceLROnPlateau reducing learning rate to 1e-05.\n",
      "228/228 [==============================] - 15s 67ms/step - loss: 0.0589 - mean_absolute_error: 0.0164 - mean_absolute_percentage_error: 2687.8557 - symmetric_mean_absolute_percentage_error: 1255.6180 - val_loss: 0.0597 - val_mean_absolute_error: 0.0285 - val_mean_absolute_percentage_error: 23.7087 - val_symmetric_mean_absolute_percentage_error: 579.0672\n",
      "Epoch 11/200\n",
      "228/228 [==============================] - 15s 68ms/step - loss: 0.0240 - mean_absolute_error: 0.0164 - mean_absolute_percentage_error: 2659.2542 - symmetric_mean_absolute_percentage_error: 1253.4779 - val_loss: 0.0229 - val_mean_absolute_error: 0.0286 - val_mean_absolute_percentage_error: 23.6969 - val_symmetric_mean_absolute_percentage_error: 580.9578error: 0.0165 - mean_absolute_percentage_error: 7839.461 - ETA: 9s - loss: 0.0269 - mean_absolute_error: 0.0165 - mean_absolute_percentage_error: 4937.9561 - ETA: 5s - loss: 0.0252 - mean_absolute_error: 0.0166 - mean_absolute_percentage_error: 3197.9851 - symmetric_mean_absol - ETA: 4s - loss: 0.0247 - mean_absolute_error: 0.0164 - mean_absolute_percentage_er\n",
      "Epoch 12/200\n",
      "228/228 [==============================] - 15s 67ms/step - loss: 0.0227 - mean_absolute_error: 0.0164 - mean_absolute_percentage_error: 2511.6218 - symmetric_mean_absolute_percentage_error: 1252.3325 - val_loss: 0.0232 - val_mean_absolute_error: 0.0285 - val_mean_absolute_percentage_error: 23.6793 - val_symmetric_mean_absolute_percentage_error: 580.1548\n",
      "Epoch 13/200\n",
      "228/228 [==============================] - 16s 70ms/step - loss: 0.0227 - mean_absolute_error: 0.0163 - mean_absolute_percentage_error: 2693.4756 - symmetric_mean_absolute_percentage_error: 1248.3296 - val_loss: 0.0238 - val_mean_absolute_error: 0.0283 - val_mean_absolute_percentage_error: 23.6386 - val_symmetric_mean_absolute_percentage_error: 574.6409\n",
      "Epoch 14/200\n",
      "228/228 [==============================] - 14s 61ms/step - loss: 0.0227 - mean_absolute_error: 0.0162 - mean_absolute_percentage_error: 2780.2964 - symmetric_mean_absolute_percentage_error: 1247.4224 - val_loss: 0.0234 - val_mean_absolute_error: 0.0283 - val_mean_absolute_percentage_error: 23.6489 - val_symmetric_mean_absolute_percentage_error: 574.2971\n",
      "Epoch 15/200\n",
      "228/228 [==============================] - 15s 68ms/step - loss: 0.0227 - mean_absolute_error: 0.0162 - mean_absolute_percentage_error: 2749.4233 - symmetric_mean_absolute_percentage_error: 1242.0275 - val_loss: 0.0242 - val_mean_absolute_error: 0.0283 - val_mean_absolute_percentage_error: 23.6120 - val_symmetric_mean_absolute_percentage_error: 572.8650\n",
      "Epoch 16/200\n",
      "228/228 [==============================] - 15s 68ms/step - loss: 0.0227 - mean_absolute_error: 0.0162 - mean_absolute_percentage_error: 2837.3369 - symmetric_mean_absolute_percentage_error: 1241.0022 - val_loss: 0.0227 - val_mean_absolute_error: 0.0283 - val_mean_absolute_percentage_error: 23.5870 - val_symmetric_mean_absolute_percentage_error: 573.8613\n",
      "Epoch 17/200\n"
     ]
    },
    {
     "name": "stdout",
     "output_type": "stream",
     "text": [
      "228/228 [==============================] - 16s 68ms/step - loss: 0.0227 - mean_absolute_error: 0.0162 - mean_absolute_percentage_error: 2738.7678 - symmetric_mean_absolute_percentage_error: 1237.7574 - val_loss: 0.0235 - val_mean_absolute_error: 0.0283 - val_mean_absolute_percentage_error: 23.5569 - val_symmetric_mean_absolute_percentage_error: 574.9954\n",
      "Epoch 18/200\n",
      "228/228 [==============================] - 14s 62ms/step - loss: 0.0227 - mean_absolute_error: 0.0161 - mean_absolute_percentage_error: 3037.3672 - symmetric_mean_absolute_percentage_error: 1232.4272 - val_loss: 0.0234 - val_mean_absolute_error: 0.0281 - val_mean_absolute_percentage_error: 23.5941 - val_symmetric_mean_absolute_percentage_error: 567.3477\n",
      "Epoch 19/200\n",
      " 29/228 [==>...........................] - ETA: 11s - loss: 0.0227 - mean_absolute_error: 0.0161 - mean_absolute_percentage_error: 12633.7432 - symmetric_mean_absolute_percentage_error: 1237.7286"
     ]
    },
    {
     "ename": "InternalError",
     "evalue": "   Failed to call ThenRnnBackward with model config: [rnn_mode, rnn_input_mode, rnn_direction_mode]: 3, 0, 0 , [num_layers, input_size, num_units, dir_count, max_seq_length, batch_size, cell_num_units]: [1, 85, 320, 1, 48, 32, 0] \n\t [[{{node gradients/CudnnRNN_grad/CudnnRNNBackprop}}]]\n\t [[PartitionedCall_3]] [Op:__inference_train_function_122670]\n\nFunction call stack:\ntrain_function -> train_function -> train_function\n",
     "output_type": "error",
     "traceback": [
      "\u001b[1;31m---------------------------------------------------------------------------\u001b[0m",
      "\u001b[1;31mInternalError\u001b[0m                             Traceback (most recent call last)",
      "\u001b[1;32m<ipython-input-20-5f18d4ff2e2e>\u001b[0m in \u001b[0;36m<module>\u001b[1;34m\u001b[0m\n\u001b[0;32m     15\u001b[0m \u001b[1;31m# Performs the hyperparameter tuning\u001b[0m\u001b[1;33m\u001b[0m\u001b[1;33m\u001b[0m\u001b[1;33m\u001b[0m\u001b[0m\n\u001b[0;32m     16\u001b[0m \u001b[0msearch_start\u001b[0m \u001b[1;33m=\u001b[0m \u001b[0mtime\u001b[0m\u001b[1;33m.\u001b[0m\u001b[0mtime\u001b[0m\u001b[1;33m(\u001b[0m\u001b[1;33m)\u001b[0m\u001b[1;33m\u001b[0m\u001b[1;33m\u001b[0m\u001b[0m\n\u001b[1;32m---> 17\u001b[1;33m bayesian_tuner.search(x=[trainX_H,trainX_D,trainX_I], y=trainY_D,\n\u001b[0m\u001b[0;32m     18\u001b[0m                   \u001b[0mepochs\u001b[0m\u001b[1;33m=\u001b[0m\u001b[1;36m200\u001b[0m\u001b[1;33m,\u001b[0m\u001b[1;33m\u001b[0m\u001b[1;33m\u001b[0m\u001b[0m\n\u001b[0;32m     19\u001b[0m                   \u001b[0mvalidation_data\u001b[0m\u001b[1;33m=\u001b[0m\u001b[1;33m(\u001b[0m\u001b[1;33m[\u001b[0m\u001b[0mvalX_H\u001b[0m\u001b[1;33m,\u001b[0m\u001b[0mvalX_D\u001b[0m\u001b[1;33m,\u001b[0m\u001b[0mvalX_I\u001b[0m\u001b[1;33m]\u001b[0m\u001b[1;33m,\u001b[0m\u001b[0mvalY_D\u001b[0m\u001b[1;33m)\u001b[0m\u001b[1;33m,\u001b[0m\u001b[1;33m\u001b[0m\u001b[1;33m\u001b[0m\u001b[0m\n",
      "\u001b[1;32m~\\anaconda3\\envs\\proyecto-grados\\lib\\site-packages\\kerastuner\\engine\\base_tuner.py\u001b[0m in \u001b[0;36msearch\u001b[1;34m(self, *fit_args, **fit_kwargs)\u001b[0m\n\u001b[0;32m    129\u001b[0m \u001b[1;33m\u001b[0m\u001b[0m\n\u001b[0;32m    130\u001b[0m             \u001b[0mself\u001b[0m\u001b[1;33m.\u001b[0m\u001b[0mon_trial_begin\u001b[0m\u001b[1;33m(\u001b[0m\u001b[0mtrial\u001b[0m\u001b[1;33m)\u001b[0m\u001b[1;33m\u001b[0m\u001b[1;33m\u001b[0m\u001b[0m\n\u001b[1;32m--> 131\u001b[1;33m             \u001b[0mself\u001b[0m\u001b[1;33m.\u001b[0m\u001b[0mrun_trial\u001b[0m\u001b[1;33m(\u001b[0m\u001b[0mtrial\u001b[0m\u001b[1;33m,\u001b[0m \u001b[1;33m*\u001b[0m\u001b[0mfit_args\u001b[0m\u001b[1;33m,\u001b[0m \u001b[1;33m**\u001b[0m\u001b[0mfit_kwargs\u001b[0m\u001b[1;33m)\u001b[0m\u001b[1;33m\u001b[0m\u001b[1;33m\u001b[0m\u001b[0m\n\u001b[0m\u001b[0;32m    132\u001b[0m             \u001b[0mself\u001b[0m\u001b[1;33m.\u001b[0m\u001b[0mon_trial_end\u001b[0m\u001b[1;33m(\u001b[0m\u001b[0mtrial\u001b[0m\u001b[1;33m)\u001b[0m\u001b[1;33m\u001b[0m\u001b[1;33m\u001b[0m\u001b[0m\n\u001b[0;32m    133\u001b[0m         \u001b[0mself\u001b[0m\u001b[1;33m.\u001b[0m\u001b[0mon_search_end\u001b[0m\u001b[1;33m(\u001b[0m\u001b[1;33m)\u001b[0m\u001b[1;33m\u001b[0m\u001b[1;33m\u001b[0m\u001b[0m\n",
      "\u001b[1;32m~\\anaconda3\\envs\\proyecto-grados\\lib\\site-packages\\kerastuner\\engine\\multi_execution_tuner.py\u001b[0m in \u001b[0;36mrun_trial\u001b[1;34m(self, trial, *fit_args, **fit_kwargs)\u001b[0m\n\u001b[0;32m     94\u001b[0m             \u001b[0mcopied_fit_kwargs\u001b[0m\u001b[1;33m[\u001b[0m\u001b[1;34m'callbacks'\u001b[0m\u001b[1;33m]\u001b[0m \u001b[1;33m=\u001b[0m \u001b[0mcallbacks\u001b[0m\u001b[1;33m\u001b[0m\u001b[1;33m\u001b[0m\u001b[0m\n\u001b[0;32m     95\u001b[0m \u001b[1;33m\u001b[0m\u001b[0m\n\u001b[1;32m---> 96\u001b[1;33m             \u001b[0mhistory\u001b[0m \u001b[1;33m=\u001b[0m \u001b[0mself\u001b[0m\u001b[1;33m.\u001b[0m\u001b[0m_build_and_fit_model\u001b[0m\u001b[1;33m(\u001b[0m\u001b[0mtrial\u001b[0m\u001b[1;33m,\u001b[0m \u001b[0mfit_args\u001b[0m\u001b[1;33m,\u001b[0m \u001b[0mcopied_fit_kwargs\u001b[0m\u001b[1;33m)\u001b[0m\u001b[1;33m\u001b[0m\u001b[1;33m\u001b[0m\u001b[0m\n\u001b[0m\u001b[0;32m     97\u001b[0m             \u001b[1;32mfor\u001b[0m \u001b[0mmetric\u001b[0m\u001b[1;33m,\u001b[0m \u001b[0mepoch_values\u001b[0m \u001b[1;32min\u001b[0m \u001b[0mhistory\u001b[0m\u001b[1;33m.\u001b[0m\u001b[0mhistory\u001b[0m\u001b[1;33m.\u001b[0m\u001b[0mitems\u001b[0m\u001b[1;33m(\u001b[0m\u001b[1;33m)\u001b[0m\u001b[1;33m:\u001b[0m\u001b[1;33m\u001b[0m\u001b[1;33m\u001b[0m\u001b[0m\n\u001b[0;32m     98\u001b[0m                 \u001b[1;32mif\u001b[0m \u001b[0mself\u001b[0m\u001b[1;33m.\u001b[0m\u001b[0moracle\u001b[0m\u001b[1;33m.\u001b[0m\u001b[0mobjective\u001b[0m\u001b[1;33m.\u001b[0m\u001b[0mdirection\u001b[0m \u001b[1;33m==\u001b[0m \u001b[1;34m'min'\u001b[0m\u001b[1;33m:\u001b[0m\u001b[1;33m\u001b[0m\u001b[1;33m\u001b[0m\u001b[0m\n",
      "\u001b[1;32m~\\anaconda3\\envs\\proyecto-grados\\lib\\site-packages\\kerastuner\\engine\\tuner.py\u001b[0m in \u001b[0;36m_build_and_fit_model\u001b[1;34m(self, trial, fit_args, fit_kwargs)\u001b[0m\n\u001b[0;32m    139\u001b[0m         \"\"\"\n\u001b[0;32m    140\u001b[0m         \u001b[0mmodel\u001b[0m \u001b[1;33m=\u001b[0m \u001b[0mself\u001b[0m\u001b[1;33m.\u001b[0m\u001b[0mhypermodel\u001b[0m\u001b[1;33m.\u001b[0m\u001b[0mbuild\u001b[0m\u001b[1;33m(\u001b[0m\u001b[0mtrial\u001b[0m\u001b[1;33m.\u001b[0m\u001b[0mhyperparameters\u001b[0m\u001b[1;33m)\u001b[0m\u001b[1;33m\u001b[0m\u001b[1;33m\u001b[0m\u001b[0m\n\u001b[1;32m--> 141\u001b[1;33m         \u001b[1;32mreturn\u001b[0m \u001b[0mmodel\u001b[0m\u001b[1;33m.\u001b[0m\u001b[0mfit\u001b[0m\u001b[1;33m(\u001b[0m\u001b[1;33m*\u001b[0m\u001b[0mfit_args\u001b[0m\u001b[1;33m,\u001b[0m \u001b[1;33m**\u001b[0m\u001b[0mfit_kwargs\u001b[0m\u001b[1;33m)\u001b[0m\u001b[1;33m\u001b[0m\u001b[1;33m\u001b[0m\u001b[0m\n\u001b[0m\u001b[0;32m    142\u001b[0m \u001b[1;33m\u001b[0m\u001b[0m\n\u001b[0;32m    143\u001b[0m     \u001b[1;32mdef\u001b[0m \u001b[0mrun_trial\u001b[0m\u001b[1;33m(\u001b[0m\u001b[0mself\u001b[0m\u001b[1;33m,\u001b[0m \u001b[0mtrial\u001b[0m\u001b[1;33m,\u001b[0m \u001b[1;33m*\u001b[0m\u001b[0mfit_args\u001b[0m\u001b[1;33m,\u001b[0m \u001b[1;33m**\u001b[0m\u001b[0mfit_kwargs\u001b[0m\u001b[1;33m)\u001b[0m\u001b[1;33m:\u001b[0m\u001b[1;33m\u001b[0m\u001b[1;33m\u001b[0m\u001b[0m\n",
      "\u001b[1;32m~\\anaconda3\\envs\\proyecto-grados\\lib\\site-packages\\tensorflow\\python\\keras\\engine\\training.py\u001b[0m in \u001b[0;36m_method_wrapper\u001b[1;34m(self, *args, **kwargs)\u001b[0m\n\u001b[0;32m    106\u001b[0m   \u001b[1;32mdef\u001b[0m \u001b[0m_method_wrapper\u001b[0m\u001b[1;33m(\u001b[0m\u001b[0mself\u001b[0m\u001b[1;33m,\u001b[0m \u001b[1;33m*\u001b[0m\u001b[0margs\u001b[0m\u001b[1;33m,\u001b[0m \u001b[1;33m**\u001b[0m\u001b[0mkwargs\u001b[0m\u001b[1;33m)\u001b[0m\u001b[1;33m:\u001b[0m\u001b[1;33m\u001b[0m\u001b[1;33m\u001b[0m\u001b[0m\n\u001b[0;32m    107\u001b[0m     \u001b[1;32mif\u001b[0m \u001b[1;32mnot\u001b[0m \u001b[0mself\u001b[0m\u001b[1;33m.\u001b[0m\u001b[0m_in_multi_worker_mode\u001b[0m\u001b[1;33m(\u001b[0m\u001b[1;33m)\u001b[0m\u001b[1;33m:\u001b[0m  \u001b[1;31m# pylint: disable=protected-access\u001b[0m\u001b[1;33m\u001b[0m\u001b[1;33m\u001b[0m\u001b[0m\n\u001b[1;32m--> 108\u001b[1;33m       \u001b[1;32mreturn\u001b[0m \u001b[0mmethod\u001b[0m\u001b[1;33m(\u001b[0m\u001b[0mself\u001b[0m\u001b[1;33m,\u001b[0m \u001b[1;33m*\u001b[0m\u001b[0margs\u001b[0m\u001b[1;33m,\u001b[0m \u001b[1;33m**\u001b[0m\u001b[0mkwargs\u001b[0m\u001b[1;33m)\u001b[0m\u001b[1;33m\u001b[0m\u001b[1;33m\u001b[0m\u001b[0m\n\u001b[0m\u001b[0;32m    109\u001b[0m \u001b[1;33m\u001b[0m\u001b[0m\n\u001b[0;32m    110\u001b[0m     \u001b[1;31m# Running inside `run_distribute_coordinator` already.\u001b[0m\u001b[1;33m\u001b[0m\u001b[1;33m\u001b[0m\u001b[1;33m\u001b[0m\u001b[0m\n",
      "\u001b[1;32m~\\anaconda3\\envs\\proyecto-grados\\lib\\site-packages\\tensorflow\\python\\keras\\engine\\training.py\u001b[0m in \u001b[0;36mfit\u001b[1;34m(self, x, y, batch_size, epochs, verbose, callbacks, validation_split, validation_data, shuffle, class_weight, sample_weight, initial_epoch, steps_per_epoch, validation_steps, validation_batch_size, validation_freq, max_queue_size, workers, use_multiprocessing)\u001b[0m\n\u001b[0;32m   1096\u001b[0m                 batch_size=batch_size):\n\u001b[0;32m   1097\u001b[0m               \u001b[0mcallbacks\u001b[0m\u001b[1;33m.\u001b[0m\u001b[0mon_train_batch_begin\u001b[0m\u001b[1;33m(\u001b[0m\u001b[0mstep\u001b[0m\u001b[1;33m)\u001b[0m\u001b[1;33m\u001b[0m\u001b[1;33m\u001b[0m\u001b[0m\n\u001b[1;32m-> 1098\u001b[1;33m               \u001b[0mtmp_logs\u001b[0m \u001b[1;33m=\u001b[0m \u001b[0mtrain_function\u001b[0m\u001b[1;33m(\u001b[0m\u001b[0miterator\u001b[0m\u001b[1;33m)\u001b[0m\u001b[1;33m\u001b[0m\u001b[1;33m\u001b[0m\u001b[0m\n\u001b[0m\u001b[0;32m   1099\u001b[0m               \u001b[1;32mif\u001b[0m \u001b[0mdata_handler\u001b[0m\u001b[1;33m.\u001b[0m\u001b[0mshould_sync\u001b[0m\u001b[1;33m:\u001b[0m\u001b[1;33m\u001b[0m\u001b[1;33m\u001b[0m\u001b[0m\n\u001b[0;32m   1100\u001b[0m                 \u001b[0mcontext\u001b[0m\u001b[1;33m.\u001b[0m\u001b[0masync_wait\u001b[0m\u001b[1;33m(\u001b[0m\u001b[1;33m)\u001b[0m\u001b[1;33m\u001b[0m\u001b[1;33m\u001b[0m\u001b[0m\n",
      "\u001b[1;32m~\\anaconda3\\envs\\proyecto-grados\\lib\\site-packages\\tensorflow\\python\\eager\\def_function.py\u001b[0m in \u001b[0;36m__call__\u001b[1;34m(self, *args, **kwds)\u001b[0m\n\u001b[0;32m    778\u001b[0m       \u001b[1;32melse\u001b[0m\u001b[1;33m:\u001b[0m\u001b[1;33m\u001b[0m\u001b[1;33m\u001b[0m\u001b[0m\n\u001b[0;32m    779\u001b[0m         \u001b[0mcompiler\u001b[0m \u001b[1;33m=\u001b[0m \u001b[1;34m\"nonXla\"\u001b[0m\u001b[1;33m\u001b[0m\u001b[1;33m\u001b[0m\u001b[0m\n\u001b[1;32m--> 780\u001b[1;33m         \u001b[0mresult\u001b[0m \u001b[1;33m=\u001b[0m \u001b[0mself\u001b[0m\u001b[1;33m.\u001b[0m\u001b[0m_call\u001b[0m\u001b[1;33m(\u001b[0m\u001b[1;33m*\u001b[0m\u001b[0margs\u001b[0m\u001b[1;33m,\u001b[0m \u001b[1;33m**\u001b[0m\u001b[0mkwds\u001b[0m\u001b[1;33m)\u001b[0m\u001b[1;33m\u001b[0m\u001b[1;33m\u001b[0m\u001b[0m\n\u001b[0m\u001b[0;32m    781\u001b[0m \u001b[1;33m\u001b[0m\u001b[0m\n\u001b[0;32m    782\u001b[0m       \u001b[0mnew_tracing_count\u001b[0m \u001b[1;33m=\u001b[0m \u001b[0mself\u001b[0m\u001b[1;33m.\u001b[0m\u001b[0m_get_tracing_count\u001b[0m\u001b[1;33m(\u001b[0m\u001b[1;33m)\u001b[0m\u001b[1;33m\u001b[0m\u001b[1;33m\u001b[0m\u001b[0m\n",
      "\u001b[1;32m~\\anaconda3\\envs\\proyecto-grados\\lib\\site-packages\\tensorflow\\python\\eager\\def_function.py\u001b[0m in \u001b[0;36m_call\u001b[1;34m(self, *args, **kwds)\u001b[0m\n\u001b[0;32m    805\u001b[0m       \u001b[1;31m# In this case we have created variables on the first call, so we run the\u001b[0m\u001b[1;33m\u001b[0m\u001b[1;33m\u001b[0m\u001b[1;33m\u001b[0m\u001b[0m\n\u001b[0;32m    806\u001b[0m       \u001b[1;31m# defunned version which is guaranteed to never create variables.\u001b[0m\u001b[1;33m\u001b[0m\u001b[1;33m\u001b[0m\u001b[1;33m\u001b[0m\u001b[0m\n\u001b[1;32m--> 807\u001b[1;33m       \u001b[1;32mreturn\u001b[0m \u001b[0mself\u001b[0m\u001b[1;33m.\u001b[0m\u001b[0m_stateless_fn\u001b[0m\u001b[1;33m(\u001b[0m\u001b[1;33m*\u001b[0m\u001b[0margs\u001b[0m\u001b[1;33m,\u001b[0m \u001b[1;33m**\u001b[0m\u001b[0mkwds\u001b[0m\u001b[1;33m)\u001b[0m  \u001b[1;31m# pylint: disable=not-callable\u001b[0m\u001b[1;33m\u001b[0m\u001b[1;33m\u001b[0m\u001b[0m\n\u001b[0m\u001b[0;32m    808\u001b[0m     \u001b[1;32melif\u001b[0m \u001b[0mself\u001b[0m\u001b[1;33m.\u001b[0m\u001b[0m_stateful_fn\u001b[0m \u001b[1;32mis\u001b[0m \u001b[1;32mnot\u001b[0m \u001b[1;32mNone\u001b[0m\u001b[1;33m:\u001b[0m\u001b[1;33m\u001b[0m\u001b[1;33m\u001b[0m\u001b[0m\n\u001b[0;32m    809\u001b[0m       \u001b[1;31m# Release the lock early so that multiple threads can perform the call\u001b[0m\u001b[1;33m\u001b[0m\u001b[1;33m\u001b[0m\u001b[1;33m\u001b[0m\u001b[0m\n",
      "\u001b[1;32m~\\anaconda3\\envs\\proyecto-grados\\lib\\site-packages\\tensorflow\\python\\eager\\function.py\u001b[0m in \u001b[0;36m__call__\u001b[1;34m(self, *args, **kwargs)\u001b[0m\n\u001b[0;32m   2827\u001b[0m     \u001b[1;32mwith\u001b[0m \u001b[0mself\u001b[0m\u001b[1;33m.\u001b[0m\u001b[0m_lock\u001b[0m\u001b[1;33m:\u001b[0m\u001b[1;33m\u001b[0m\u001b[1;33m\u001b[0m\u001b[0m\n\u001b[0;32m   2828\u001b[0m       \u001b[0mgraph_function\u001b[0m\u001b[1;33m,\u001b[0m \u001b[0margs\u001b[0m\u001b[1;33m,\u001b[0m \u001b[0mkwargs\u001b[0m \u001b[1;33m=\u001b[0m \u001b[0mself\u001b[0m\u001b[1;33m.\u001b[0m\u001b[0m_maybe_define_function\u001b[0m\u001b[1;33m(\u001b[0m\u001b[0margs\u001b[0m\u001b[1;33m,\u001b[0m \u001b[0mkwargs\u001b[0m\u001b[1;33m)\u001b[0m\u001b[1;33m\u001b[0m\u001b[1;33m\u001b[0m\u001b[0m\n\u001b[1;32m-> 2829\u001b[1;33m     \u001b[1;32mreturn\u001b[0m \u001b[0mgraph_function\u001b[0m\u001b[1;33m.\u001b[0m\u001b[0m_filtered_call\u001b[0m\u001b[1;33m(\u001b[0m\u001b[0margs\u001b[0m\u001b[1;33m,\u001b[0m \u001b[0mkwargs\u001b[0m\u001b[1;33m)\u001b[0m  \u001b[1;31m# pylint: disable=protected-access\u001b[0m\u001b[1;33m\u001b[0m\u001b[1;33m\u001b[0m\u001b[0m\n\u001b[0m\u001b[0;32m   2830\u001b[0m \u001b[1;33m\u001b[0m\u001b[0m\n\u001b[0;32m   2831\u001b[0m   \u001b[1;33m@\u001b[0m\u001b[0mproperty\u001b[0m\u001b[1;33m\u001b[0m\u001b[1;33m\u001b[0m\u001b[0m\n",
      "\u001b[1;32m~\\anaconda3\\envs\\proyecto-grados\\lib\\site-packages\\tensorflow\\python\\eager\\function.py\u001b[0m in \u001b[0;36m_filtered_call\u001b[1;34m(self, args, kwargs, cancellation_manager)\u001b[0m\n\u001b[0;32m   1841\u001b[0m       \u001b[0;31m`\u001b[0m\u001b[0margs\u001b[0m\u001b[0;31m`\u001b[0m \u001b[1;32mand\u001b[0m\u001b[0;31m \u001b[0m\u001b[0;31m`\u001b[0m\u001b[0mkwargs\u001b[0m\u001b[0;31m`\u001b[0m\u001b[1;33m.\u001b[0m\u001b[1;33m\u001b[0m\u001b[1;33m\u001b[0m\u001b[0m\n\u001b[0;32m   1842\u001b[0m     \"\"\"\n\u001b[1;32m-> 1843\u001b[1;33m     return self._call_flat(\n\u001b[0m\u001b[0;32m   1844\u001b[0m         [t for t in nest.flatten((args, kwargs), expand_composites=True)\n\u001b[0;32m   1845\u001b[0m          if isinstance(t, (ops.Tensor,\n",
      "\u001b[1;32m~\\anaconda3\\envs\\proyecto-grados\\lib\\site-packages\\tensorflow\\python\\eager\\function.py\u001b[0m in \u001b[0;36m_call_flat\u001b[1;34m(self, args, captured_inputs, cancellation_manager)\u001b[0m\n\u001b[0;32m   1921\u001b[0m         and executing_eagerly):\n\u001b[0;32m   1922\u001b[0m       \u001b[1;31m# No tape is watching; skip to running the function.\u001b[0m\u001b[1;33m\u001b[0m\u001b[1;33m\u001b[0m\u001b[1;33m\u001b[0m\u001b[0m\n\u001b[1;32m-> 1923\u001b[1;33m       return self._build_call_outputs(self._inference_function.call(\n\u001b[0m\u001b[0;32m   1924\u001b[0m           ctx, args, cancellation_manager=cancellation_manager))\n\u001b[0;32m   1925\u001b[0m     forward_backward = self._select_forward_and_backward_functions(\n",
      "\u001b[1;32m~\\anaconda3\\envs\\proyecto-grados\\lib\\site-packages\\tensorflow\\python\\eager\\function.py\u001b[0m in \u001b[0;36mcall\u001b[1;34m(self, ctx, args, cancellation_manager)\u001b[0m\n\u001b[0;32m    543\u001b[0m       \u001b[1;32mwith\u001b[0m \u001b[0m_InterpolateFunctionError\u001b[0m\u001b[1;33m(\u001b[0m\u001b[0mself\u001b[0m\u001b[1;33m)\u001b[0m\u001b[1;33m:\u001b[0m\u001b[1;33m\u001b[0m\u001b[1;33m\u001b[0m\u001b[0m\n\u001b[0;32m    544\u001b[0m         \u001b[1;32mif\u001b[0m \u001b[0mcancellation_manager\u001b[0m \u001b[1;32mis\u001b[0m \u001b[1;32mNone\u001b[0m\u001b[1;33m:\u001b[0m\u001b[1;33m\u001b[0m\u001b[1;33m\u001b[0m\u001b[0m\n\u001b[1;32m--> 545\u001b[1;33m           outputs = execute.execute(\n\u001b[0m\u001b[0;32m    546\u001b[0m               \u001b[0mstr\u001b[0m\u001b[1;33m(\u001b[0m\u001b[0mself\u001b[0m\u001b[1;33m.\u001b[0m\u001b[0msignature\u001b[0m\u001b[1;33m.\u001b[0m\u001b[0mname\u001b[0m\u001b[1;33m)\u001b[0m\u001b[1;33m,\u001b[0m\u001b[1;33m\u001b[0m\u001b[1;33m\u001b[0m\u001b[0m\n\u001b[0;32m    547\u001b[0m               \u001b[0mnum_outputs\u001b[0m\u001b[1;33m=\u001b[0m\u001b[0mself\u001b[0m\u001b[1;33m.\u001b[0m\u001b[0m_num_outputs\u001b[0m\u001b[1;33m,\u001b[0m\u001b[1;33m\u001b[0m\u001b[1;33m\u001b[0m\u001b[0m\n",
      "\u001b[1;32m~\\anaconda3\\envs\\proyecto-grados\\lib\\site-packages\\tensorflow\\python\\eager\\execute.py\u001b[0m in \u001b[0;36mquick_execute\u001b[1;34m(op_name, num_outputs, inputs, attrs, ctx, name)\u001b[0m\n\u001b[0;32m     57\u001b[0m   \u001b[1;32mtry\u001b[0m\u001b[1;33m:\u001b[0m\u001b[1;33m\u001b[0m\u001b[1;33m\u001b[0m\u001b[0m\n\u001b[0;32m     58\u001b[0m     \u001b[0mctx\u001b[0m\u001b[1;33m.\u001b[0m\u001b[0mensure_initialized\u001b[0m\u001b[1;33m(\u001b[0m\u001b[1;33m)\u001b[0m\u001b[1;33m\u001b[0m\u001b[1;33m\u001b[0m\u001b[0m\n\u001b[1;32m---> 59\u001b[1;33m     tensors = pywrap_tfe.TFE_Py_Execute(ctx._handle, device_name, op_name,\n\u001b[0m\u001b[0;32m     60\u001b[0m                                         inputs, attrs, num_outputs)\n\u001b[0;32m     61\u001b[0m   \u001b[1;32mexcept\u001b[0m \u001b[0mcore\u001b[0m\u001b[1;33m.\u001b[0m\u001b[0m_NotOkStatusException\u001b[0m \u001b[1;32mas\u001b[0m \u001b[0me\u001b[0m\u001b[1;33m:\u001b[0m\u001b[1;33m\u001b[0m\u001b[1;33m\u001b[0m\u001b[0m\n",
      "\u001b[1;31mInternalError\u001b[0m:    Failed to call ThenRnnBackward with model config: [rnn_mode, rnn_input_mode, rnn_direction_mode]: 3, 0, 0 , [num_layers, input_size, num_units, dir_count, max_seq_length, batch_size, cell_num_units]: [1, 85, 320, 1, 48, 32, 0] \n\t [[{{node gradients/CudnnRNN_grad/CudnnRNNBackprop}}]]\n\t [[PartitionedCall_3]] [Op:__inference_train_function_122670]\n\nFunction call stack:\ntrain_function -> train_function -> train_function\n"
     ]
    }
   ],
   "source": [
    "arq_best_models = dict()\n",
    "    \n",
    "bayesian_tuner = BayesianOptimization(\n",
    "    ModeloCompletoII_Suma_Version6,\n",
    "    objective='val_mean_absolute_percentage_error',\n",
    "    num_initial_points=1,\n",
    "    max_trials=10,\n",
    "    directory=os.path.normpath('C:/my_dir'),\n",
    "    project_name='tuning'\n",
    ")\n",
    "\n",
    "# Overview of the task\n",
    "bayesian_tuner.search_space_summary()\n",
    "\n",
    "# Performs the hyperparameter tuning\n",
    "search_start = time.time()\n",
    "bayesian_tuner.search(x=[trainX_H,trainX_D,trainX_I], y=trainY_D,\n",
    "                  epochs=200,\n",
    "                  validation_data=([valX_H,valX_D,valX_I],valY_D),\n",
    "                  callbacks=callbacks)\n",
    "search_end = time.time()\n",
    "elapsed_time = search_end - search_start\n",
    "\n",
    "print('Tiempo Total Transcurrido {}'.format(elapsed_time))\n",
    "\n",
    "dict_key = 'Arquitectura'\n",
    "\n",
    "arq_best_models[dict_key] = dict()\n",
    "bs_model = bayesian_tuner.oracle.get_best_trials(1)[0]\n",
    "\n",
    "model = bayesian_tuner.get_best_models(num_models=1)[0]\n",
    "\n",
    "trainPredict,trainY,valPredict,valY = make_predictions(model,scaler_D_x,scaler_D_y,scaler_H_x,scaler_H_y,\n",
    "                                                     trainX_D, trainY_D, valX_D, valY_D,\n",
    "                                                     trainX_H, trainY_H, valX_H, valY_H,\n",
    "                                                     trainX_I, trainY_I, valX_I, valY_I,\n",
    "                                                     n_steps_out,len_output_features)\n",
    "\n",
    "trainScore,trainMAPE,valScore,valMAPE = get_metrics(trainY,trainPredict,valY,valPredict)\n",
    "\n",
    "arq_best_models[dict_key]['Score'] = bs_model.score\n",
    "arq_best_models[dict_key]['Tiempo Scaneo'] = elapsed_time\n",
    "arq_best_models[dict_key]['Mape Train'] = trainMAPE\n",
    "arq_best_models[dict_key]['Mape Test'] = valMAPE\n",
    "\n",
    "if bs_model.hyperparameters.values:\n",
    "    for hp, value in bs_model.hyperparameters.values.items():\n",
    "        arq_best_models[dict_key][hp] = value"
   ]
  },
  {
   "cell_type": "code",
   "execution_count": null,
   "metadata": {},
   "outputs": [],
   "source": [
    "arq_best_models"
   ]
  }
 ],
 "metadata": {
  "accelerator": "GPU",
  "colab": {
   "collapsed_sections": [],
   "name": "Modelo Completo - Data Diaria y Horaria Con Imagenes.ipynb",
   "provenance": []
  },
  "kernelspec": {
   "display_name": "Python 3",
   "language": "python",
   "name": "python3"
  },
  "language_info": {
   "codemirror_mode": {
    "name": "ipython",
    "version": 3
   },
   "file_extension": ".py",
   "mimetype": "text/x-python",
   "name": "python",
   "nbconvert_exporter": "python",
   "pygments_lexer": "ipython3",
   "version": "3.8.3"
  }
 },
 "nbformat": 4,
 "nbformat_minor": 1
}
