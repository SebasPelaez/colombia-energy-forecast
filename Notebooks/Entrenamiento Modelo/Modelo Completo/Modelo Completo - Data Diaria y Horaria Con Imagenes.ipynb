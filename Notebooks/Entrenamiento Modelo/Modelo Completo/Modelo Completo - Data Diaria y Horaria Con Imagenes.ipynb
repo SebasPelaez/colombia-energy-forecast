{
 "cells": [
  {
   "cell_type": "code",
   "execution_count": null,
   "metadata": {
    "executionInfo": {
     "elapsed": 3242,
     "status": "ok",
     "timestamp": 1612487914726,
     "user": {
      "displayName": "JUAN SEBASTIÁN PELÁEZ VILLA",
      "photoUrl": "https://lh3.googleusercontent.com/a-/AOh14Ggc0MTZ3-jRn-hXLUMWcVhRE_vR6k4WbZPA-x_ne3WxNiTD7tmqcVflHIE6x1jWHszFQZgkHRh7-E9wZmocsEmKuvx3IKna9h8ptMamEVSfwh_7Anotab7VnBN1TylZCkmrxAGMffvLQuzNikW7of0LOdIxNcqyXIaD8HOZz3VLuryFYeB44jhXeXJbCxiZeBbEkaiLmIIRJj-3t0yBobLNCJzjXCbzsSr1beuQ_oDzcMqKXynZq4zw7LmjxW9H_QtrpHFDBYEtRtrLn9AOnjwHLDOQebFdXWKcGk4J7eq9g2rml0IcX16payM4VZ2wVtmoySJYfi_PiUnN7mmOqHqxa78PQb2eTXdJUoR9u18l8ANEt0bDQIpb3qSvesyzQAfdIp9sue0g27p2lsfjno39dQVBj1orn6NdSiNGUt1LHwfasD1z3evTeskojIZ77NWmB1nt2uOPdnydvEA02363Pk4eUWw58x8fljz5jUYAtNjsE5Lo34ZKMFM6VS8KtGOF6o42sWAapXYPBHa3jYZhuV8DjGCeQfhD12fuxXRu5Y3HpjzqYBiEFNP2gg8NcyCLCzrjmig_gyoeDeDjFy7H7A0sCrbY0ttvk18JBiiD4pf0DNfzITldXo_OpLeSKXbRowkjcCWInjqPcZKcXvZy8MMntmnruxf-jV1zRhZJ0kJc0epOhnCTtpabE8S0e2C9FP4K2pnpakA2TnMnWCUs-yD9R-6febeZcTW4Uz4s6FoNqs4aoo-zhtOmRu6yHyDhQk0=s64",
      "userId": "00260520649597601100"
     },
     "user_tz": 300
    },
    "id": "K-YpRzhNuCoe"
   },
   "outputs": [],
   "source": [
    "import os\n",
    "import numpy as np\n",
    "import pandas as pd\n",
    "import tensorflow as tf\n",
    "import time\n",
    "import math\n",
    "import sys\n",
    "import matplotlib.pyplot as plt\n",
    "\n",
    "sys.path.append('..')\n",
    "import EnergyPricesLibrary as Ep\n",
    "import CustomMetrics\n",
    "\n",
    "from kerastuner.tuners import BayesianOptimization\n",
    "from sklearn.metrics import mean_squared_error\n",
    "\n",
    "%load_ext autoreload\n",
    "%autoreload 2"
   ]
  },
  {
   "cell_type": "code",
   "execution_count": null,
   "metadata": {
    "executionInfo": {
     "elapsed": 580,
     "status": "ok",
     "timestamp": 1612487922449,
     "user": {
      "displayName": "JUAN SEBASTIÁN PELÁEZ VILLA",
      "photoUrl": "https://lh3.googleusercontent.com/a-/AOh14Ggc0MTZ3-jRn-hXLUMWcVhRE_vR6k4WbZPA-x_ne3WxNiTD7tmqcVflHIE6x1jWHszFQZgkHRh7-E9wZmocsEmKuvx3IKna9h8ptMamEVSfwh_7Anotab7VnBN1TylZCkmrxAGMffvLQuzNikW7of0LOdIxNcqyXIaD8HOZz3VLuryFYeB44jhXeXJbCxiZeBbEkaiLmIIRJj-3t0yBobLNCJzjXCbzsSr1beuQ_oDzcMqKXynZq4zw7LmjxW9H_QtrpHFDBYEtRtrLn9AOnjwHLDOQebFdXWKcGk4J7eq9g2rml0IcX16payM4VZ2wVtmoySJYfi_PiUnN7mmOqHqxa78PQb2eTXdJUoR9u18l8ANEt0bDQIpb3qSvesyzQAfdIp9sue0g27p2lsfjno39dQVBj1orn6NdSiNGUt1LHwfasD1z3evTeskojIZ77NWmB1nt2uOPdnydvEA02363Pk4eUWw58x8fljz5jUYAtNjsE5Lo34ZKMFM6VS8KtGOF6o42sWAapXYPBHa3jYZhuV8DjGCeQfhD12fuxXRu5Y3HpjzqYBiEFNP2gg8NcyCLCzrjmig_gyoeDeDjFy7H7A0sCrbY0ttvk18JBiiD4pf0DNfzITldXo_OpLeSKXbRowkjcCWInjqPcZKcXvZy8MMntmnruxf-jV1zRhZJ0kJc0epOhnCTtpabE8S0e2C9FP4K2pnpakA2TnMnWCUs-yD9R-6febeZcTW4Uz4s6FoNqs4aoo-zhtOmRu6yHyDhQk0=s64",
      "userId": "00260520649597601100"
     },
     "user_tz": 300
    },
    "id": "TMVspJgwuCol"
   },
   "outputs": [],
   "source": [
    "def build_model(hourly_input_shape,daily_input_shape,image_input_shape):\n",
    "    \n",
    "    input_1 = tf.keras.layers.Input(shape=hourly_input_shape)\n",
    "    input_2 = tf.keras.layers.Input(shape=daily_input_shape)\n",
    "    input_3 = tf.keras.layers.Input(shape=image_input_shape)\n",
    "    \n",
    "    model_1_1 = tf.keras.layers.LSTM(\n",
    "        units=512,\n",
    "        activation='tanh',\n",
    "        kernel_regularizer=tf.keras.regularizers.L1(l1=0),\n",
    "        dropout=0,\n",
    "        return_sequences=True\n",
    "    )(input_1)\n",
    "    model_1_1 = tf.keras.layers.LSTM(\n",
    "        units=64,\n",
    "        activation='tanh',\n",
    "        kernel_regularizer=tf.keras.regularizers.L1(l1=0.105),\n",
    "        dropout=0.99,\n",
    "        return_sequences=True\n",
    "    )(model_1_1)\n",
    "    model_1_1 = tf.keras.layers.TimeDistributed(\n",
    "        tf.keras.layers.Dense(units=120,activation='relu')\n",
    "    )(model_1_1)\n",
    "    model_1_1 = tf.keras.layers.Dropout(rate=0)(model_1_1)\n",
    "    model_1_1 = tf.keras.layers.Flatten()(model_1_1)\n",
    "    model_1_1 = tf.keras.layers.Dense(units=24,activation=None)(model_1_1)\n",
    "\n",
    "    model_2_2 = tf.keras.layers.LSTM(\n",
    "            units=512,\n",
    "            activation='tanh',\n",
    "            kernel_regularizer=tf.keras.regularizers.L1(l1=0),\n",
    "            dropout=0.54,\n",
    "            return_sequences=False\n",
    "    )(input_2)\n",
    "    model_2_2 = tf.keras.layers.Dense(units=24,activation=None)(model_2_2)\n",
    "\n",
    "    model_3 = tf.keras.layers.TimeDistributed(\n",
    "        tf.keras.layers.Conv2D(\n",
    "            filters=44,\n",
    "            kernel_size=3,\n",
    "            activation='relu',\n",
    "            padding='valid'\n",
    "        )\n",
    "    )(input_3)\n",
    "\n",
    "    model_3 = tf.keras.layers.TimeDistributed(tf.keras.layers.AveragePooling2D(pool_size=3))(model_3)\n",
    "    model_3 = tf.keras.layers.TimeDistributed(\n",
    "        tf.keras.layers.Conv2D(\n",
    "            filters=20,\n",
    "            kernel_size=7,\n",
    "            activation='relu',\n",
    "            padding='valid'\n",
    "        )\n",
    "    )(model_3)\n",
    "    model_3 = tf.keras.layers.TimeDistributed(tf.keras.layers.AveragePooling2D(pool_size=3))(model_3)\n",
    "    model_3 = tf.keras.layers.TimeDistributed(tf.keras.layers.Flatten())(model_3)\n",
    "    model_3 = tf.keras.layers.LSTM(\n",
    "            units=64,\n",
    "            activation='tanh',\n",
    "            kernel_regularizer=tf.keras.regularizers.L1(l1=0.0075),\n",
    "            dropout=0.09,\n",
    "            return_sequences=False,\n",
    "            stateful=False\n",
    "    )(model_3)\n",
    "    model_3 = tf.keras.layers.Dense(units=24,activation=None)(model_3)\n",
    "\n",
    "    output = tf.keras.layers.Add()([model_1_1, model_2_2, model_3])\n",
    "    output = tf.keras.layers.Dense(units=24,activation=None)(output)\n",
    "    \n",
    "    full_model = tf.keras.Model(inputs=[input_1, input_2, input_3], outputs=[output])\n",
    "    \n",
    "    return full_model\n",
    "\n",
    "def make_predictions(model,scaler_D_x,scaler_D_y,scaler_H_x,scaler_H_y,\n",
    "                     trainX_D, trainY_D, testX_D, testY_D,\n",
    "                     trainX_H, trainY_H, testX_H, testY_H,\n",
    "                     trainX_I, trainY_I, testX_I, testY_I,\n",
    "                     n_steps_out,len_output_features):\n",
    "    \n",
    "    # make predictions\n",
    "    trainPredict = model.predict([trainX_H,trainX_D,trainX_I])\n",
    "    trainPredict = trainPredict.reshape(trainPredict.shape[0]*n_steps_out,len_output_features)\n",
    "    testPredict  = model.predict([testX_H,testX_D,testX_I])\n",
    "    testPredict  = testPredict.reshape(testPredict.shape[0]*n_steps_out,len_output_features)\n",
    "    \n",
    "    # invert predictions\n",
    "    trainPredict = scaler_D_y.inverse_transform(trainPredict)\n",
    "    trainY = scaler_D_y.inverse_transform(trainY_D.reshape(trainY_D.shape[0]*n_steps_out,len_output_features))\n",
    "    \n",
    "    testPredict = scaler_D_y.inverse_transform(testPredict)\n",
    "    testY = scaler_D_y.inverse_transform(testY_D.reshape(testY_D.shape[0]*n_steps_out,len_output_features))\n",
    "        \n",
    "    return trainPredict,trainY,testPredict,testY\n",
    "\n",
    "def get_metrics(trainY,trainPredict,testY,testPredict):\n",
    "    \n",
    "    trainScore = math.sqrt(mean_squared_error(trainY, trainPredict))\n",
    "    trainMAPE  = Ep.MAPE(trainPredict,trainY)\n",
    "    print('Train Score: %.2f RMSE' % trainScore)\n",
    "    print('Train Score: %.2f MAPE' % trainMAPE)\n",
    "\n",
    "    testScore = math.sqrt(mean_squared_error(testY, testPredict))\n",
    "    testMAPE  = Ep.MAPE(testPredict,testY)\n",
    "    print('Test Score: %.2f RMSE' % testScore)\n",
    "    print('Test Score: %.2f MAPE' % testMAPE)\n",
    "    \n",
    "    return trainScore,trainMAPE,testScore,testMAPE"
   ]
  },
  {
   "cell_type": "code",
   "execution_count": null,
   "metadata": {
    "executionInfo": {
     "elapsed": 8664,
     "status": "ok",
     "timestamp": 1612487932775,
     "user": {
      "displayName": "JUAN SEBASTIÁN PELÁEZ VILLA",
      "photoUrl": "https://lh3.googleusercontent.com/a-/AOh14Ggc0MTZ3-jRn-hXLUMWcVhRE_vR6k4WbZPA-x_ne3WxNiTD7tmqcVflHIE6x1jWHszFQZgkHRh7-E9wZmocsEmKuvx3IKna9h8ptMamEVSfwh_7Anotab7VnBN1TylZCkmrxAGMffvLQuzNikW7of0LOdIxNcqyXIaD8HOZz3VLuryFYeB44jhXeXJbCxiZeBbEkaiLmIIRJj-3t0yBobLNCJzjXCbzsSr1beuQ_oDzcMqKXynZq4zw7LmjxW9H_QtrpHFDBYEtRtrLn9AOnjwHLDOQebFdXWKcGk4J7eq9g2rml0IcX16payM4VZ2wVtmoySJYfi_PiUnN7mmOqHqxa78PQb2eTXdJUoR9u18l8ANEt0bDQIpb3qSvesyzQAfdIp9sue0g27p2lsfjno39dQVBj1orn6NdSiNGUt1LHwfasD1z3evTeskojIZ77NWmB1nt2uOPdnydvEA02363Pk4eUWw58x8fljz5jUYAtNjsE5Lo34ZKMFM6VS8KtGOF6o42sWAapXYPBHa3jYZhuV8DjGCeQfhD12fuxXRu5Y3HpjzqYBiEFNP2gg8NcyCLCzrjmig_gyoeDeDjFy7H7A0sCrbY0ttvk18JBiiD4pf0DNfzITldXo_OpLeSKXbRowkjcCWInjqPcZKcXvZy8MMntmnruxf-jV1zRhZJ0kJc0epOhnCTtpabE8S0e2C9FP4K2pnpakA2TnMnWCUs-yD9R-6febeZcTW4Uz4s6FoNqs4aoo-zhtOmRu6yHyDhQk0=s64",
      "userId": "00260520649597601100"
     },
     "user_tz": 300
    },
    "id": "sYyA90oJuCom"
   },
   "outputs": [],
   "source": [
    "data_diaria_path = os.path.join('..','Tuned Modelo Imagenes','dataset','Series','Sabanas','Original','Sabana_Datos_Diaria.xlsx')\n",
    "data_diaria = pd.read_excel(data_diaria_path)\n",
    "data_diaria = data_diaria.set_index('Fecha')"
   ]
  },
  {
   "cell_type": "code",
   "execution_count": null,
   "metadata": {
    "executionInfo": {
     "elapsed": 115817,
     "status": "ok",
     "timestamp": 1612488040503,
     "user": {
      "displayName": "JUAN SEBASTIÁN PELÁEZ VILLA",
      "photoUrl": "https://lh3.googleusercontent.com/a-/AOh14Ggc0MTZ3-jRn-hXLUMWcVhRE_vR6k4WbZPA-x_ne3WxNiTD7tmqcVflHIE6x1jWHszFQZgkHRh7-E9wZmocsEmKuvx3IKna9h8ptMamEVSfwh_7Anotab7VnBN1TylZCkmrxAGMffvLQuzNikW7of0LOdIxNcqyXIaD8HOZz3VLuryFYeB44jhXeXJbCxiZeBbEkaiLmIIRJj-3t0yBobLNCJzjXCbzsSr1beuQ_oDzcMqKXynZq4zw7LmjxW9H_QtrpHFDBYEtRtrLn9AOnjwHLDOQebFdXWKcGk4J7eq9g2rml0IcX16payM4VZ2wVtmoySJYfi_PiUnN7mmOqHqxa78PQb2eTXdJUoR9u18l8ANEt0bDQIpb3qSvesyzQAfdIp9sue0g27p2lsfjno39dQVBj1orn6NdSiNGUt1LHwfasD1z3evTeskojIZ77NWmB1nt2uOPdnydvEA02363Pk4eUWw58x8fljz5jUYAtNjsE5Lo34ZKMFM6VS8KtGOF6o42sWAapXYPBHa3jYZhuV8DjGCeQfhD12fuxXRu5Y3HpjzqYBiEFNP2gg8NcyCLCzrjmig_gyoeDeDjFy7H7A0sCrbY0ttvk18JBiiD4pf0DNfzITldXo_OpLeSKXbRowkjcCWInjqPcZKcXvZy8MMntmnruxf-jV1zRhZJ0kJc0epOhnCTtpabE8S0e2C9FP4K2pnpakA2TnMnWCUs-yD9R-6febeZcTW4Uz4s6FoNqs4aoo-zhtOmRu6yHyDhQk0=s64",
      "userId": "00260520649597601100"
     },
     "user_tz": 300
    },
    "id": "SKmXmkRSuCom"
   },
   "outputs": [],
   "source": [
    "data_horaria_path = os.path.join('..','Tuned Modelo Imagenes','dataset','Series','Sabanas','Original','Sabana_Datos_Horaria.xlsx')\n",
    "data_horaria = pd.read_excel(data_horaria_path)\n",
    "data_horaria = data_horaria.set_index('Fecha')"
   ]
  },
  {
   "cell_type": "code",
   "execution_count": null,
   "metadata": {
    "executionInfo": {
     "elapsed": 548,
     "status": "ok",
     "timestamp": 1612488041064,
     "user": {
      "displayName": "JUAN SEBASTIÁN PELÁEZ VILLA",
      "photoUrl": "https://lh3.googleusercontent.com/a-/AOh14Ggc0MTZ3-jRn-hXLUMWcVhRE_vR6k4WbZPA-x_ne3WxNiTD7tmqcVflHIE6x1jWHszFQZgkHRh7-E9wZmocsEmKuvx3IKna9h8ptMamEVSfwh_7Anotab7VnBN1TylZCkmrxAGMffvLQuzNikW7of0LOdIxNcqyXIaD8HOZz3VLuryFYeB44jhXeXJbCxiZeBbEkaiLmIIRJj-3t0yBobLNCJzjXCbzsSr1beuQ_oDzcMqKXynZq4zw7LmjxW9H_QtrpHFDBYEtRtrLn9AOnjwHLDOQebFdXWKcGk4J7eq9g2rml0IcX16payM4VZ2wVtmoySJYfi_PiUnN7mmOqHqxa78PQb2eTXdJUoR9u18l8ANEt0bDQIpb3qSvesyzQAfdIp9sue0g27p2lsfjno39dQVBj1orn6NdSiNGUt1LHwfasD1z3evTeskojIZ77NWmB1nt2uOPdnydvEA02363Pk4eUWw58x8fljz5jUYAtNjsE5Lo34ZKMFM6VS8KtGOF6o42sWAapXYPBHa3jYZhuV8DjGCeQfhD12fuxXRu5Y3HpjzqYBiEFNP2gg8NcyCLCzrjmig_gyoeDeDjFy7H7A0sCrbY0ttvk18JBiiD4pf0DNfzITldXo_OpLeSKXbRowkjcCWInjqPcZKcXvZy8MMntmnruxf-jV1zRhZJ0kJc0epOhnCTtpabE8S0e2C9FP4K2pnpakA2TnMnWCUs-yD9R-6febeZcTW4Uz4s6FoNqs4aoo-zhtOmRu6yHyDhQk0=s64",
      "userId": "00260520649597601100"
     },
     "user_tz": 300
    },
    "id": "0KRLEAcztSP2"
   },
   "outputs": [],
   "source": [
    "climatic_images_prcp_dir = os.path.join('..','Tuned Modelo Imagenes','dataset','Climatic Images','PRCP')\n",
    "climatic_images_tavg_dir = os.path.join('..','Tuned Modelo Imagenes','dataset','Climatic Images','TAVG')"
   ]
  },
  {
   "cell_type": "code",
   "execution_count": null,
   "metadata": {
    "executionInfo": {
     "elapsed": 7038,
     "status": "ok",
     "timestamp": 1612488047557,
     "user": {
      "displayName": "JUAN SEBASTIÁN PELÁEZ VILLA",
      "photoUrl": "https://lh3.googleusercontent.com/a-/AOh14Ggc0MTZ3-jRn-hXLUMWcVhRE_vR6k4WbZPA-x_ne3WxNiTD7tmqcVflHIE6x1jWHszFQZgkHRh7-E9wZmocsEmKuvx3IKna9h8ptMamEVSfwh_7Anotab7VnBN1TylZCkmrxAGMffvLQuzNikW7of0LOdIxNcqyXIaD8HOZz3VLuryFYeB44jhXeXJbCxiZeBbEkaiLmIIRJj-3t0yBobLNCJzjXCbzsSr1beuQ_oDzcMqKXynZq4zw7LmjxW9H_QtrpHFDBYEtRtrLn9AOnjwHLDOQebFdXWKcGk4J7eq9g2rml0IcX16payM4VZ2wVtmoySJYfi_PiUnN7mmOqHqxa78PQb2eTXdJUoR9u18l8ANEt0bDQIpb3qSvesyzQAfdIp9sue0g27p2lsfjno39dQVBj1orn6NdSiNGUt1LHwfasD1z3evTeskojIZ77NWmB1nt2uOPdnydvEA02363Pk4eUWw58x8fljz5jUYAtNjsE5Lo34ZKMFM6VS8KtGOF6o42sWAapXYPBHa3jYZhuV8DjGCeQfhD12fuxXRu5Y3HpjzqYBiEFNP2gg8NcyCLCzrjmig_gyoeDeDjFy7H7A0sCrbY0ttvk18JBiiD4pf0DNfzITldXo_OpLeSKXbRowkjcCWInjqPcZKcXvZy8MMntmnruxf-jV1zRhZJ0kJc0epOhnCTtpabE8S0e2C9FP4K2pnpakA2TnMnWCUs-yD9R-6febeZcTW4Uz4s6FoNqs4aoo-zhtOmRu6yHyDhQk0=s64",
      "userId": "00260520649597601100"
     },
     "user_tz": 300
    },
    "id": "0z61ew3KuCon"
   },
   "outputs": [],
   "source": [
    "precio_bolsa_path = os.path.join('..','Tuned Modelo Imagenes','dataset','Series','Sabanas','Original','Sabana_Datos_Precio_Bolsa.xlsx')\n",
    "precio_bolsa = pd.read_excel(precio_bolsa_path)\n",
    "precio_bolsa = precio_bolsa.set_index('Fecha')"
   ]
  },
  {
   "cell_type": "code",
   "execution_count": null,
   "metadata": {
    "executionInfo": {
     "elapsed": 7037,
     "status": "ok",
     "timestamp": 1612488047559,
     "user": {
      "displayName": "JUAN SEBASTIÁN PELÁEZ VILLA",
      "photoUrl": "https://lh3.googleusercontent.com/a-/AOh14Ggc0MTZ3-jRn-hXLUMWcVhRE_vR6k4WbZPA-x_ne3WxNiTD7tmqcVflHIE6x1jWHszFQZgkHRh7-E9wZmocsEmKuvx3IKna9h8ptMamEVSfwh_7Anotab7VnBN1TylZCkmrxAGMffvLQuzNikW7of0LOdIxNcqyXIaD8HOZz3VLuryFYeB44jhXeXJbCxiZeBbEkaiLmIIRJj-3t0yBobLNCJzjXCbzsSr1beuQ_oDzcMqKXynZq4zw7LmjxW9H_QtrpHFDBYEtRtrLn9AOnjwHLDOQebFdXWKcGk4J7eq9g2rml0IcX16payM4VZ2wVtmoySJYfi_PiUnN7mmOqHqxa78PQb2eTXdJUoR9u18l8ANEt0bDQIpb3qSvesyzQAfdIp9sue0g27p2lsfjno39dQVBj1orn6NdSiNGUt1LHwfasD1z3evTeskojIZ77NWmB1nt2uOPdnydvEA02363Pk4eUWw58x8fljz5jUYAtNjsE5Lo34ZKMFM6VS8KtGOF6o42sWAapXYPBHa3jYZhuV8DjGCeQfhD12fuxXRu5Y3HpjzqYBiEFNP2gg8NcyCLCzrjmig_gyoeDeDjFy7H7A0sCrbY0ttvk18JBiiD4pf0DNfzITldXo_OpLeSKXbRowkjcCWInjqPcZKcXvZy8MMntmnruxf-jV1zRhZJ0kJc0epOhnCTtpabE8S0e2C9FP4K2pnpakA2TnMnWCUs-yD9R-6febeZcTW4Uz4s6FoNqs4aoo-zhtOmRu6yHyDhQk0=s64",
      "userId": "00260520649597601100"
     },
     "user_tz": 300
    },
    "id": "gGlv9rK_uCon"
   },
   "outputs": [],
   "source": [
    "nombre_series_diaria = data_diaria.columns.values\n",
    "nombre_series_horaria = data_horaria.columns.values"
   ]
  },
  {
   "cell_type": "code",
   "execution_count": null,
   "metadata": {
    "executionInfo": {
     "elapsed": 7036,
     "status": "ok",
     "timestamp": 1612488047560,
     "user": {
      "displayName": "JUAN SEBASTIÁN PELÁEZ VILLA",
      "photoUrl": "https://lh3.googleusercontent.com/a-/AOh14Ggc0MTZ3-jRn-hXLUMWcVhRE_vR6k4WbZPA-x_ne3WxNiTD7tmqcVflHIE6x1jWHszFQZgkHRh7-E9wZmocsEmKuvx3IKna9h8ptMamEVSfwh_7Anotab7VnBN1TylZCkmrxAGMffvLQuzNikW7of0LOdIxNcqyXIaD8HOZz3VLuryFYeB44jhXeXJbCxiZeBbEkaiLmIIRJj-3t0yBobLNCJzjXCbzsSr1beuQ_oDzcMqKXynZq4zw7LmjxW9H_QtrpHFDBYEtRtrLn9AOnjwHLDOQebFdXWKcGk4J7eq9g2rml0IcX16payM4VZ2wVtmoySJYfi_PiUnN7mmOqHqxa78PQb2eTXdJUoR9u18l8ANEt0bDQIpb3qSvesyzQAfdIp9sue0g27p2lsfjno39dQVBj1orn6NdSiNGUt1LHwfasD1z3evTeskojIZ77NWmB1nt2uOPdnydvEA02363Pk4eUWw58x8fljz5jUYAtNjsE5Lo34ZKMFM6VS8KtGOF6o42sWAapXYPBHa3jYZhuV8DjGCeQfhD12fuxXRu5Y3HpjzqYBiEFNP2gg8NcyCLCzrjmig_gyoeDeDjFy7H7A0sCrbY0ttvk18JBiiD4pf0DNfzITldXo_OpLeSKXbRowkjcCWInjqPcZKcXvZy8MMntmnruxf-jV1zRhZJ0kJc0epOhnCTtpabE8S0e2C9FP4K2pnpakA2TnMnWCUs-yD9R-6febeZcTW4Uz4s6FoNqs4aoo-zhtOmRu6yHyDhQk0=s64",
      "userId": "00260520649597601100"
     },
     "user_tz": 300
    },
    "id": "u0sc-yTeuCon"
   },
   "outputs": [],
   "source": [
    "data_horaria_full = pd.concat([data_horaria,precio_bolsa],axis=1)"
   ]
  },
  {
   "cell_type": "code",
   "execution_count": null,
   "metadata": {
    "colab": {
     "base_uri": "https://localhost:8080/"
    },
    "executionInfo": {
     "elapsed": 7035,
     "status": "ok",
     "timestamp": 1612488047561,
     "user": {
      "displayName": "JUAN SEBASTIÁN PELÁEZ VILLA",
      "photoUrl": "https://lh3.googleusercontent.com/a-/AOh14Ggc0MTZ3-jRn-hXLUMWcVhRE_vR6k4WbZPA-x_ne3WxNiTD7tmqcVflHIE6x1jWHszFQZgkHRh7-E9wZmocsEmKuvx3IKna9h8ptMamEVSfwh_7Anotab7VnBN1TylZCkmrxAGMffvLQuzNikW7of0LOdIxNcqyXIaD8HOZz3VLuryFYeB44jhXeXJbCxiZeBbEkaiLmIIRJj-3t0yBobLNCJzjXCbzsSr1beuQ_oDzcMqKXynZq4zw7LmjxW9H_QtrpHFDBYEtRtrLn9AOnjwHLDOQebFdXWKcGk4J7eq9g2rml0IcX16payM4VZ2wVtmoySJYfi_PiUnN7mmOqHqxa78PQb2eTXdJUoR9u18l8ANEt0bDQIpb3qSvesyzQAfdIp9sue0g27p2lsfjno39dQVBj1orn6NdSiNGUt1LHwfasD1z3evTeskojIZ77NWmB1nt2uOPdnydvEA02363Pk4eUWw58x8fljz5jUYAtNjsE5Lo34ZKMFM6VS8KtGOF6o42sWAapXYPBHa3jYZhuV8DjGCeQfhD12fuxXRu5Y3HpjzqYBiEFNP2gg8NcyCLCzrjmig_gyoeDeDjFy7H7A0sCrbY0ttvk18JBiiD4pf0DNfzITldXo_OpLeSKXbRowkjcCWInjqPcZKcXvZy8MMntmnruxf-jV1zRhZJ0kJc0epOhnCTtpabE8S0e2C9FP4K2pnpakA2TnMnWCUs-yD9R-6febeZcTW4Uz4s6FoNqs4aoo-zhtOmRu6yHyDhQk0=s64",
      "userId": "00260520649597601100"
     },
     "user_tz": 300
    },
    "id": "SUYQYcffuCop",
    "outputId": "7e4bbe2d-aa54-4436-85e9-7889ffca7215"
   },
   "outputs": [],
   "source": [
    "data_horaria.shape,data_diaria.shape, precio_bolsa.shape"
   ]
  },
  {
   "cell_type": "markdown",
   "metadata": {
    "id": "gcag57CwuCoq"
   },
   "source": [
    "## Build Window"
   ]
  },
  {
   "cell_type": "code",
   "execution_count": null,
   "metadata": {
    "executionInfo": {
     "elapsed": 628,
     "status": "ok",
     "timestamp": 1612488093871,
     "user": {
      "displayName": "JUAN SEBASTIÁN PELÁEZ VILLA",
      "photoUrl": "https://lh3.googleusercontent.com/a-/AOh14Ggc0MTZ3-jRn-hXLUMWcVhRE_vR6k4WbZPA-x_ne3WxNiTD7tmqcVflHIE6x1jWHszFQZgkHRh7-E9wZmocsEmKuvx3IKna9h8ptMamEVSfwh_7Anotab7VnBN1TylZCkmrxAGMffvLQuzNikW7of0LOdIxNcqyXIaD8HOZz3VLuryFYeB44jhXeXJbCxiZeBbEkaiLmIIRJj-3t0yBobLNCJzjXCbzsSr1beuQ_oDzcMqKXynZq4zw7LmjxW9H_QtrpHFDBYEtRtrLn9AOnjwHLDOQebFdXWKcGk4J7eq9g2rml0IcX16payM4VZ2wVtmoySJYfi_PiUnN7mmOqHqxa78PQb2eTXdJUoR9u18l8ANEt0bDQIpb3qSvesyzQAfdIp9sue0g27p2lsfjno39dQVBj1orn6NdSiNGUt1LHwfasD1z3evTeskojIZ77NWmB1nt2uOPdnydvEA02363Pk4eUWw58x8fljz5jUYAtNjsE5Lo34ZKMFM6VS8KtGOF6o42sWAapXYPBHa3jYZhuV8DjGCeQfhD12fuxXRu5Y3HpjzqYBiEFNP2gg8NcyCLCzrjmig_gyoeDeDjFy7H7A0sCrbY0ttvk18JBiiD4pf0DNfzITldXo_OpLeSKXbRowkjcCWInjqPcZKcXvZy8MMntmnruxf-jV1zRhZJ0kJc0epOhnCTtpabE8S0e2C9FP4K2pnpakA2TnMnWCUs-yD9R-6febeZcTW4Uz4s6FoNqs4aoo-zhtOmRu6yHyDhQk0=s64",
      "userId": "00260520649597601100"
     },
     "user_tz": 300
    },
    "id": "GeWGyXzkx6Nu"
   },
   "outputs": [],
   "source": [
    "lista_fechas = list()\n",
    "lista_rutas = list()\n",
    "for prcp_file,tavg_file in zip(os.listdir(climatic_images_prcp_dir),os.listdir(climatic_images_tavg_dir)):\n",
    "    fecha = prcp_file.split('.')[0]\n",
    "    ruta_prcp = os.path.join(climatic_images_prcp_dir,prcp_file)\n",
    "    ruta_tavg = os.path.join(climatic_images_tavg_dir,tavg_file)\n",
    "    lista_fechas.append(fecha)\n",
    "    lista_rutas.append([ruta_prcp,ruta_tavg])"
   ]
  },
  {
   "cell_type": "code",
   "execution_count": null,
   "metadata": {
    "executionInfo": {
     "elapsed": 436,
     "status": "ok",
     "timestamp": 1612488112694,
     "user": {
      "displayName": "JUAN SEBASTIÁN PELÁEZ VILLA",
      "photoUrl": "https://lh3.googleusercontent.com/a-/AOh14Ggc0MTZ3-jRn-hXLUMWcVhRE_vR6k4WbZPA-x_ne3WxNiTD7tmqcVflHIE6x1jWHszFQZgkHRh7-E9wZmocsEmKuvx3IKna9h8ptMamEVSfwh_7Anotab7VnBN1TylZCkmrxAGMffvLQuzNikW7of0LOdIxNcqyXIaD8HOZz3VLuryFYeB44jhXeXJbCxiZeBbEkaiLmIIRJj-3t0yBobLNCJzjXCbzsSr1beuQ_oDzcMqKXynZq4zw7LmjxW9H_QtrpHFDBYEtRtrLn9AOnjwHLDOQebFdXWKcGk4J7eq9g2rml0IcX16payM4VZ2wVtmoySJYfi_PiUnN7mmOqHqxa78PQb2eTXdJUoR9u18l8ANEt0bDQIpb3qSvesyzQAfdIp9sue0g27p2lsfjno39dQVBj1orn6NdSiNGUt1LHwfasD1z3evTeskojIZ77NWmB1nt2uOPdnydvEA02363Pk4eUWw58x8fljz5jUYAtNjsE5Lo34ZKMFM6VS8KtGOF6o42sWAapXYPBHa3jYZhuV8DjGCeQfhD12fuxXRu5Y3HpjzqYBiEFNP2gg8NcyCLCzrjmig_gyoeDeDjFy7H7A0sCrbY0ttvk18JBiiD4pf0DNfzITldXo_OpLeSKXbRowkjcCWInjqPcZKcXvZy8MMntmnruxf-jV1zRhZJ0kJc0epOhnCTtpabE8S0e2C9FP4K2pnpakA2TnMnWCUs-yD9R-6febeZcTW4Uz4s6FoNqs4aoo-zhtOmRu6yHyDhQk0=s64",
      "userId": "00260520649597601100"
     },
     "user_tz": 300
    },
    "id": "Z9j3ZnqHx86C"
   },
   "outputs": [],
   "source": [
    "dataset_df = pd.DataFrame(lista_rutas,index=lista_fechas,columns=['Precipitacion','Temperatura'])\n",
    "\n",
    "TimeSplit_down = '2000-02-01'\n",
    "TimeSplit_middle = '2020-01-01'\n",
    "TimeSplit_top = '2020-03-31'\n",
    "n_steps_out = 24 \n",
    "n_steps_in  = 3\n",
    "overlap = 1"
   ]
  },
  {
   "cell_type": "code",
   "execution_count": null,
   "metadata": {
    "id": "AYMJWw1atqDY"
   },
   "outputs": [],
   "source": [
    "output_features = ['$kWh']\n",
    "len_output_features = len(output_features)\n",
    "\n",
    "IMG_HEIGHT,IMG_WIDTH = 128,128\n",
    "\n",
    "trainX_I, trainY_I, testX_I, testY_I, scaler_y_I, dataset_x_I, dataset_y_I = Ep.SplitTimeseriesMultipleTimesBackAhead_DifferentTimes_Images(\n",
    "    df_x=dataset_df,\n",
    "    df_y=precio_bolsa,\n",
    "    TimeSplit_down=TimeSplit_down,\n",
    "    TimeSplit_middle=TimeSplit_middle,\n",
    "    TimeSplit_top=TimeSplit_top,\n",
    "    n_steps_out=n_steps_out,\n",
    "    n_steps_in=n_steps_in,\n",
    "    overlap=overlap,\n",
    "    output_features=output_features,\n",
    "    IMG_HEIGHT=IMG_HEIGHT,\n",
    "    IMG_WIDTH=IMG_WIDTH)\n",
    "\n",
    "trainX_I.shape, trainY_I.shape, testX_I.shape, testY_I.shape"
   ]
  },
  {
   "cell_type": "code",
   "execution_count": null,
   "metadata": {
    "id": "h5xqgWD3uCor"
   },
   "outputs": [],
   "source": [
    "d = 'All'\n",
    "time_split = '2020-01-01'\n",
    "n_steps_out=24\n",
    "output_columns = ['$kWh']"
   ]
  },
  {
   "cell_type": "code",
   "execution_count": null,
   "metadata": {
    "id": "8JGtKs2auCor"
   },
   "outputs": [],
   "source": [
    "n_steps_in = 3\n",
    "overlap = 1\n",
    "inputs_columns = nombre_series_diaria\n",
    "\n",
    "len_input_features = len(inputs_columns)\n",
    "len_output_features = len(output_columns)\n",
    "\n",
    "trainX_D, trainY_D, testX_D, testY_D, scaler_D_x,scaler_D_y, dataset_x_D, dataset_y_D = Ep.SplitTimeseriesMultipleTimesBackAhead_differentTimes(\n",
    "    df_x=data_diaria,\n",
    "    df_y=precio_bolsa,\n",
    "    day = d, \n",
    "    TimeSplit = time_split,\n",
    "    n_steps_out=n_steps_out,\n",
    "    n_steps_in =n_steps_in, \n",
    "    overlap = overlap,\n",
    "    input_features=inputs_columns,\n",
    "    output_features=output_columns)"
   ]
  },
  {
   "cell_type": "code",
   "execution_count": null,
   "metadata": {
    "id": "XxEA_yW2uCos"
   },
   "outputs": [],
   "source": [
    "n_steps_in = 72\n",
    "overlap = 24\n",
    "inputs_columns = nombre_series_horaria\n",
    "\n",
    "len_input_features = len(inputs_columns)\n",
    "len_output_features = len(output_columns)\n",
    "\n",
    "trainX_H, trainY_H, testX_H, testY_H, scaler_H_x,scaler_H_y, df2_H, dataset_H = Ep.SplitTimeseriesMultipleTimesBackAhead(data_horaria_full,\n",
    "                                                                                              day = d, \n",
    "                                                                                              ValData = 'index', \n",
    "                                                                                              TimeAhead = time_split, \n",
    "                                                                                              n_steps_out= n_steps_out, \n",
    "                                                                                              n_steps_in = n_steps_in, \n",
    "                                                                                              overlap = overlap,\n",
    "                                                                                              input_features=inputs_columns,\n",
    "                                                                                              output_features=output_columns)"
   ]
  },
  {
   "cell_type": "code",
   "execution_count": null,
   "metadata": {
    "id": "4NBsTH89uCor"
   },
   "outputs": [],
   "source": [
    "print('Data Diaria')\n",
    "trainX_D.shape, trainY_D.shape, testX_D.shape, testY_D.shape"
   ]
  },
  {
   "cell_type": "code",
   "execution_count": null,
   "metadata": {
    "id": "JBruhJibuCos"
   },
   "outputs": [],
   "source": [
    "print('Data Horaria')\n",
    "trainX_H.shape, trainY_H.shape, testX_H.shape, testY_H.shape"
   ]
  },
  {
   "cell_type": "code",
   "execution_count": null,
   "metadata": {},
   "outputs": [],
   "source": [
    "print('Data Imagenes')\n",
    "trainX_I.shape, trainY_I.shape, testX_I.shape, testY_I.shape"
   ]
  },
  {
   "cell_type": "markdown",
   "metadata": {
    "id": "Gnb8WjkxuCot"
   },
   "source": [
    "## Model"
   ]
  },
  {
   "cell_type": "code",
   "execution_count": null,
   "metadata": {
    "id": "VPrRp1DiuCou"
   },
   "outputs": [],
   "source": [
    "callback_reduce_lr = tf.keras.callbacks.ReduceLROnPlateau(monitor='val_loss',\n",
    "                                                          factor=0.1,\n",
    "                                                          min_lr=1e-5,\n",
    "                                                          patience=0,\n",
    "                                                          verbose=1)\n",
    "\n",
    "early_stopping = tf.keras.callbacks.EarlyStopping(monitor='val_loss',\n",
    "                                                  patience=5,\n",
    "                                                  mode='min')\n",
    "\n",
    "callbacks = [callback_reduce_lr,early_stopping]"
   ]
  },
  {
   "cell_type": "code",
   "execution_count": null,
   "metadata": {
    "id": "DpM03gDYuCou"
   },
   "outputs": [],
   "source": [
    "hourly_input_shape = (trainX_H.shape[1],trainX_H.shape[2])\n",
    "daily_input_shape = (trainX_D.shape[1],trainX_D.shape[2])\n",
    "images_input_shape = trainX_I[0].shape\n",
    "\n",
    "model = build_model(hourly_input_shape,daily_input_shape,images_input_shape)\n",
    "\n",
    "model.summary()"
   ]
  },
  {
   "cell_type": "code",
   "execution_count": null,
   "metadata": {
    "id": "nLww4iEkuCov"
   },
   "outputs": [],
   "source": [
    "model.compile(optimizer=tf.optimizers.Adam(learning_rate=0.0001),\n",
    "              loss=tf.losses.MeanSquaredError(),\n",
    "              metrics=[tf.metrics.MeanAbsoluteError(),\n",
    "                       tf.keras.metrics.MeanAbsolutePercentageError()])"
   ]
  },
  {
   "cell_type": "code",
   "execution_count": null,
   "metadata": {
    "id": "HHqrLNa-khFc"
   },
   "outputs": [],
   "source": [
    "import json\n",
    "\n",
    "model_json = model.to_json()\n",
    "with open(\"Model_Full.json\", \"w\") as json_file:\n",
    "    json_file.write(model_json)"
   ]
  },
  {
   "cell_type": "code",
   "execution_count": null,
   "metadata": {
    "id": "SVdzo-wMuCov",
    "scrolled": true
   },
   "outputs": [],
   "source": [
    "model.fit([trainX_H,trainX_D,trainX_I], trainY_D, validation_data=([testX_H,testX_D,testX_I],testY_D),\n",
    "               epochs=200,callbacks=callbacks,verbose=1)"
   ]
  },
  {
   "cell_type": "markdown",
   "metadata": {},
   "source": [
    "### Validación"
   ]
  },
  {
   "cell_type": "code",
   "execution_count": null,
   "metadata": {
    "id": "K350MWwuuCov"
   },
   "outputs": [],
   "source": [
    "model.evaluate(x=[testX_H,testX_D,testX_I], y=testY_D)"
   ]
  },
  {
   "cell_type": "code",
   "execution_count": null,
   "metadata": {
    "id": "6ktCmumpuCow"
   },
   "outputs": [],
   "source": [
    "trainPredict,trainY,testPredict,testY = make_predictions(model,scaler_D_x,scaler_D_y,scaler_H_x,scaler_H_y,\n",
    "                                                         trainX_D, trainY_D, testX_D, testY_D,\n",
    "                                                         trainX_H, trainY_H, testX_H, testY_H,\n",
    "                                                         trainX_I, trainY_I, testX_I, testY_I,\n",
    "                                                         n_steps_out,len_output_features)"
   ]
  },
  {
   "cell_type": "code",
   "execution_count": null,
   "metadata": {
    "id": "XPNmfpavuCow"
   },
   "outputs": [],
   "source": [
    "trainPredict.shape,trainY.shape,testPredict.shape,testY.shape"
   ]
  },
  {
   "cell_type": "code",
   "execution_count": null,
   "metadata": {
    "id": "Mo4ReT-SuCow"
   },
   "outputs": [],
   "source": [
    "trainScore,trainMAPE,testScore,testMAPE = get_metrics(trainY,trainPredict,testY,testPredict)"
   ]
  },
  {
   "cell_type": "code",
   "execution_count": null,
   "metadata": {
    "id": "1TN1kvGSuCow"
   },
   "outputs": [],
   "source": [
    "Nt = trainPredict.shape[0] + testPredict.shape[0]\n",
    "trainPredictPlot = np.zeros((Nt,1))\n",
    "trainPredictPlot[:,:] = np.nan\n",
    "trainPredictPlot[:len(trainPredict), :] = np.concatenate((dataset_y_D[0].reshape(1,1),trainPredict[:-1]))\n",
    "\n",
    "# shift test predictions for plotting\n",
    "testPredictPlot = np.zeros((Nt,1))\n",
    "testPredictPlot[:, :] = np.nan\n",
    "testPredictPlot[len(trainPredict):Nt, :] = testPredict\n",
    "\n",
    "plt.figure(figsize=(15,7))\n",
    "plt.plot(np.concatenate((trainY,testY)),label='Original data')\n",
    "plt.plot(trainPredictPlot,label='Training predictions')\n",
    "plt.plot(testPredictPlot,label='Test prediction')\n",
    "plt.legend()\n",
    "plt.show()"
   ]
  },
  {
   "cell_type": "code",
   "execution_count": null,
   "metadata": {
    "id": "h8apbS4lXsPm"
   },
   "outputs": [],
   "source": [
    "# shift test predictions for plotting\n",
    "testOriginalPlot = np.zeros((Nt,1))\n",
    "testOriginalPlot[:, :] = np.nan\n",
    "testOriginalPlot[len(trainPredict):Nt, :] = testY\n",
    "\n",
    "# shift test predictions for plotting\n",
    "testPredictPlot = np.zeros((Nt,1))\n",
    "testPredictPlot[:, :] = np.nan\n",
    "testPredictPlot[len(trainPredict):Nt, :] = testPredict\n",
    "\n",
    "plt.figure(figsize=(15,7))\n",
    "plt.plot(testOriginalPlot,label='Original data')\n",
    "plt.plot(testPredictPlot,label='Test prediction')\n",
    "plt.legend()\n",
    "plt.show()"
   ]
  },
  {
   "cell_type": "markdown",
   "metadata": {},
   "source": [
    "### Test"
   ]
  },
  {
   "cell_type": "code",
   "execution_count": null,
   "metadata": {},
   "outputs": [],
   "source": [
    "model.evaluate(x=[testX_H,testX_D,testX_I], y=testY_D)"
   ]
  },
  {
   "cell_type": "code",
   "execution_count": null,
   "metadata": {},
   "outputs": [],
   "source": [
    "trainPredict,trainY,testPredict,testY = make_predictions(model,scaler_D_x,scaler_D_y,scaler_H_x,scaler_H_y,\n",
    "                                                         trainX_D, trainY_D, testX_D, testY_D,\n",
    "                                                         trainX_H, trainY_H, testX_H, testY_H,\n",
    "                                                         trainX_I, trainY_I, testX_I, testY_I,\n",
    "                                                         n_steps_out,len_output_features)"
   ]
  },
  {
   "cell_type": "code",
   "execution_count": null,
   "metadata": {},
   "outputs": [],
   "source": [
    "trainScore,trainMAPE,testScore,testMAPE = get_metrics(trainY,trainPredict,testY,testPredict)"
   ]
  },
  {
   "cell_type": "code",
   "execution_count": null,
   "metadata": {},
   "outputs": [],
   "source": [
    "Nt = trainPredict.shape[0] + testPredict.shape[0]\n",
    "trainPredictPlot = np.zeros((Nt,1))\n",
    "trainPredictPlot[:,:] = np.nan\n",
    "trainPredictPlot[:len(trainPredict), :] = np.concatenate((dataset_y_D[0].reshape(1,1),trainPredict[:-1]))\n",
    "\n",
    "# shift test predictions for plotting\n",
    "testPredictPlot = np.zeros((Nt,1))\n",
    "testPredictPlot[:, :] = np.nan\n",
    "testPredictPlot[len(trainPredict):Nt, :] = testPredict\n",
    "\n",
    "plt.figure(figsize=(15,7))\n",
    "plt.plot(np.concatenate((trainY,testY)),label='Original data')\n",
    "plt.plot(trainPredictPlot,label='Training predictions')\n",
    "plt.plot(testPredictPlot,label='Test prediction')\n",
    "plt.legend()\n",
    "plt.show()"
   ]
  },
  {
   "cell_type": "code",
   "execution_count": null,
   "metadata": {},
   "outputs": [],
   "source": [
    "# shift test predictions for plotting\n",
    "testOriginalPlot = np.zeros((Nt,1))\n",
    "testOriginalPlot[:, :] = np.nan\n",
    "testOriginalPlot[len(trainPredict):Nt, :] = testY\n",
    "\n",
    "# shift test predictions for plotting\n",
    "testPredictPlot = np.zeros((Nt,1))\n",
    "testPredictPlot[:, :] = np.nan\n",
    "testPredictPlot[len(trainPredict):Nt, :] = testPredict\n",
    "\n",
    "plt.figure(figsize=(15,7))\n",
    "plt.plot(testOriginalPlot,label='Original data')\n",
    "plt.plot(testPredictPlot,label='Test prediction')\n",
    "plt.legend()\n",
    "plt.show()"
   ]
  },
  {
   "cell_type": "code",
   "execution_count": null,
   "metadata": {},
   "outputs": [],
   "source": []
  },
  {
   "cell_type": "code",
   "execution_count": null,
   "metadata": {},
   "outputs": [],
   "source": []
  },
  {
   "cell_type": "markdown",
   "metadata": {},
   "source": [
    "#### Formato Modelo Probar"
   ]
  },
  {
   "cell_type": "code",
   "execution_count": null,
   "metadata": {},
   "outputs": [],
   "source": [
    "class CustomFullModel(tf.keras.models.Model):\n",
    "    def __init__(self,output_units):\n",
    "        super(CustomFullModel, self).__init__()\n",
    "        self.output_units = output_units\n",
    "\n",
    "    def build(self, input_shape):\n",
    "\n",
    "        self.hourly_LSTM_layer_1 = tf.keras.layers.LSTM(units=512,activation='tanh',\n",
    "                                               kernel_regularizer=tf.keras.regularizers.L1(l1=0),\n",
    "                                               dropout=0,return_sequences=True)\n",
    "        self.hourly_LSTM_layer_2 = tf.keras.layers.LSTM(units=64,activation='tanh',\n",
    "                                                        kernel_regularizer=tf.keras.regularizers.L1(l1=0.105),\n",
    "                                                        dropout=0.99,return_sequences=True)\n",
    "        \n",
    "        self.hourly_TD_Dense_layer_3 = tf.keras.layers.TimeDistributed(tf.keras.layers.Dense(units=120,activation='relu'))\n",
    "        self.hourly_Dropout_layer_4 = tf.keras.layers.Dropout(rate=0)\n",
    "        self.hourly_Flatten_layer_5 = tf.keras.layers.Flatten()\n",
    "        self.hourly_Dense_layer_6 = tf.keras.layers.Dense(units=self.output_units,activation=None)\n",
    "        \n",
    "        self.daily_LSTM_layer_1 =  tf.keras.layers.LSTM(units=512,activation='tanh',\n",
    "                                                        kernel_regularizer=tf.keras.regularizers.L1(l1=0),\n",
    "                                                        dropout=0.54,return_sequences=False)\n",
    "        \n",
    "        self.daily_Dense_layer_2 = tf.keras.layers.Dense(units=self.output_units,activation=None)\n",
    "        \n",
    "        self.images_TD_Conv2D_layer_1 = tf.keras.layers.TimeDistributed(tf.keras.layers.Conv2D(filters=44,\n",
    "                                                                                       kernel_size=3,\n",
    "                                                                                       activation='relu',\n",
    "                                                                                       padding='valid'))\n",
    "        \n",
    "        self.images_TD_AvgPool_layer_2 = tf.keras.layers.TimeDistributed(tf.keras.layers.AveragePooling2D(pool_size=3))\n",
    "        \n",
    "        self.images_TD_Conv2D_layer_3 = tf.keras.layers.TimeDistributed(tf.keras.layers.Conv2D(filters=20,\n",
    "                                                                                               kernel_size=7,\n",
    "                                                                                               activation='relu',\n",
    "                                                                                               padding='valid'))\n",
    "        \n",
    "        self.images_TD_AvgPool_layer_4 = tf.keras.layers.TimeDistributed(tf.keras.layers.AveragePooling2D(pool_size=3))\n",
    "        self.images_TD_Flatten_layer_5 = tf.keras.layers.TimeDistributed(tf.keras.layers.Flatten())\n",
    "        self.images_LSTM_layer_6 = tf.keras.layers.LSTM(units=64,activation='tanh',\n",
    "                                                        kernel_regularizer=tf.keras.regularizers.L1(l1=0.0075),\n",
    "                                                        dropout=0.09,\n",
    "                                                        return_sequences=False,\n",
    "                                                        stateful=False)\n",
    "        self.images_Dense_layer_7 = tf.keras.layers.Dense(units=self.output_units,activation=None)\n",
    "        \n",
    "        self.Add_Layer = tf.keras.layers.Add()\n",
    "        self.output_layer = tf.keras.layers.Dense(units=self.output_units,activation=None)\n",
    "        \n",
    "\n",
    "    def call(self, inputs, training=None):\n",
    "\n",
    "        input_1,input_2,input_3 = inputs\n",
    "        \n",
    "        hourly_block = self.hourly_LSTM_layer_1(input_1)\n",
    "        hourly_block = self.hourly_LSTM_layer_2(hourly_block)\n",
    "        hourly_block = self.hourly_TD_Dense_layer_3(hourly_block)\n",
    "        hourly_block = self.hourly_Dropout_layer_4(hourly_block, training=training)\n",
    "        hourly_block = self.hourly_Flatten_layer_5(hourly_block)\n",
    "        hourly_block = self.hourly_Dense_layer_6(hourly_block)\n",
    "        \n",
    "        daily_block = self.daily_LSTM_layer_1(input_2)\n",
    "        daily_block = self.daily_Dense_layer_2(daily_block)\n",
    "        \n",
    "        images_block = self.images_TD_Conv2D_layer_1(input_3)\n",
    "        images_block = self.images_TD_AvgPool_layer_2(images_block)\n",
    "        images_block = self.images_TD_Conv2D_layer_3(images_block)\n",
    "        images_block = self.images_TD_AvgPool_layer_4(images_block)\n",
    "        images_block = self.images_TD_Flatten_layer_5(images_block)\n",
    "        images_block = self.images_LSTM_layer_6(images_block)\n",
    "        images_block = self.images_Dense_layer_7(images_block)\n",
    "        \n",
    "        add = self.Add_Layer([hourly_block, daily_block, images_block])\n",
    "        output = self.output_layer(add)\n",
    "\n",
    "        return output\n",
    "    \n",
    "hourly_input_shape = (72,84)\n",
    "daily_input_shape = (3,119)\n",
    "images_input_shape = (3,128,128,6)\n",
    "\n",
    "input_1 = tf.keras.layers.Input(shape=hourly_input_shape)\n",
    "input_2 = tf.keras.layers.Input(shape=daily_input_shape)\n",
    "input_3 = tf.keras.layers.Input(shape=images_input_shape)\n",
    "\n",
    "m = CustomFullModel(output_units=24)\n",
    "\n",
    "m([input_1,input_2,input_3],training=False)\n",
    "\n",
    "m.summary()"
   ]
  },
  {
   "cell_type": "code",
   "execution_count": null,
   "metadata": {},
   "outputs": [],
   "source": [
    "tf.keras.utils.plot_model(m, \"mini_resnet.png\", show_shapes=True)"
   ]
  }
 ],
 "metadata": {
  "accelerator": "GPU",
  "colab": {
   "collapsed_sections": [],
   "name": "Modelo Completo - Data Diaria y Horaria Con Imagenes.ipynb",
   "provenance": []
  },
  "kernelspec": {
   "display_name": "Python 3",
   "language": "python",
   "name": "python3"
  },
  "language_info": {
   "codemirror_mode": {
    "name": "ipython",
    "version": 3
   },
   "file_extension": ".py",
   "mimetype": "text/x-python",
   "name": "python",
   "nbconvert_exporter": "python",
   "pygments_lexer": "ipython3",
   "version": "3.8.3"
  }
 },
 "nbformat": 4,
 "nbformat_minor": 1
}
