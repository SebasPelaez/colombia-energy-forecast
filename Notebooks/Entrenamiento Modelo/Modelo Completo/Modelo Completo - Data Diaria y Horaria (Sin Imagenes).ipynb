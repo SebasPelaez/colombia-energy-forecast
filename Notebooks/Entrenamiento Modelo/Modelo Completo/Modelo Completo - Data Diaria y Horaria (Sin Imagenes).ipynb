{
 "cells": [
  {
   "cell_type": "code",
   "execution_count": 1,
   "metadata": {
    "executionInfo": {
     "elapsed": 5644,
     "status": "ok",
     "timestamp": 1612483976907,
     "user": {
      "displayName": "JUAN SEBASTIÁN PELÁEZ VILLA",
      "photoUrl": "https://lh3.googleusercontent.com/a-/AOh14GiSB4NpaPk5Safre8Mb9Q-nN-GcJxpXFSj-lOuyquGH72Z8EVJDqGJe5JF7uVwnq1w3l3mqHU7K-QCfYMM1HGl4YdNYol6B1nWvT_nTOgUpSzfK0Xu78oViS6NtAJQc_QsopyVeqoS-1USWo0uUtwV-A8_rLxouHn-loO3bdF86xbENlLlF6EBSFJN6OhBKLc_C_taeBThr8e4N0p7ThwyjJ6qCJfWPVbtuVLqUI484m33CGh7dKSFp7rKTt0oPSFS0eWQgidc3t2VSRcA8lN540KhdgSBLnYXGLIzT49onsdPGYIAUnBg1oL5jbjrfppnyySlig-6pXqIb0ginng7F31Og36iOf-2G9FYphOBbdhH_J2bH6iBxYuXPlNS_cgjtK0HvSLAyRUvtzlssBaPcWdENSHR2tn7vawjjB2WF6F3r50Yc9o4izKkeAFP3Mxer2XUBOzPdhN7yLicIpi77z46yLsHfXSHOhTCgILYwmxmCDIe3PiU9mAcROnUN5yCDYI1EgbHzg-LoryGMIfe6El3NHWyiy9boQQLaeyRkkWRzNCfl2OzIAECY5zgJsWvAvKCCVOgUi0gzVMQHdnEF1lorv33h-zG5bi25E_8WhBCIY2vpicisMglK2XtYOra1Gz9A2mJjr7LMPB6Fyo6XXMx470L3yZ-iT13-ESNogKm0JLRHKdCepFtgpLJz5W6X0J7o3pteYNoV1AWwdo1ofohA4S7kec4euZxriDvKCcunxmmVL6dxnN7bPbXrGvby9vw=s64",
      "userId": "00260520649597601100"
     },
     "user_tz": 300
    },
    "id": "K-YpRzhNuCoe"
   },
   "outputs": [],
   "source": [
    "import os\n",
    "import numpy as np\n",
    "import pandas as pd\n",
    "import sys\n",
    "import tensorflow as tf\n",
    "import time\n",
    "import math\n",
    "import matplotlib.pyplot as plt\n",
    "\n",
    "from sklearn.metrics import mean_squared_error\n",
    "\n",
    "%load_ext autoreload\n",
    "%autoreload 2"
   ]
  },
  {
   "cell_type": "code",
   "execution_count": 2,
   "metadata": {},
   "outputs": [],
   "source": [
    "# we need to append the root directory to the path to import data.py\\n\",\n",
    "sys.path.append('..')\n",
    "import EnergyPricesLibrary as Ep"
   ]
  },
  {
   "cell_type": "code",
   "execution_count": 3,
   "metadata": {
    "executionInfo": {
     "elapsed": 412,
     "status": "ok",
     "timestamp": 1612484203248,
     "user": {
      "displayName": "JUAN SEBASTIÁN PELÁEZ VILLA",
      "photoUrl": "https://lh3.googleusercontent.com/a-/AOh14GiSB4NpaPk5Safre8Mb9Q-nN-GcJxpXFSj-lOuyquGH72Z8EVJDqGJe5JF7uVwnq1w3l3mqHU7K-QCfYMM1HGl4YdNYol6B1nWvT_nTOgUpSzfK0Xu78oViS6NtAJQc_QsopyVeqoS-1USWo0uUtwV-A8_rLxouHn-loO3bdF86xbENlLlF6EBSFJN6OhBKLc_C_taeBThr8e4N0p7ThwyjJ6qCJfWPVbtuVLqUI484m33CGh7dKSFp7rKTt0oPSFS0eWQgidc3t2VSRcA8lN540KhdgSBLnYXGLIzT49onsdPGYIAUnBg1oL5jbjrfppnyySlig-6pXqIb0ginng7F31Og36iOf-2G9FYphOBbdhH_J2bH6iBxYuXPlNS_cgjtK0HvSLAyRUvtzlssBaPcWdENSHR2tn7vawjjB2WF6F3r50Yc9o4izKkeAFP3Mxer2XUBOzPdhN7yLicIpi77z46yLsHfXSHOhTCgILYwmxmCDIe3PiU9mAcROnUN5yCDYI1EgbHzg-LoryGMIfe6El3NHWyiy9boQQLaeyRkkWRzNCfl2OzIAECY5zgJsWvAvKCCVOgUi0gzVMQHdnEF1lorv33h-zG5bi25E_8WhBCIY2vpicisMglK2XtYOra1Gz9A2mJjr7LMPB6Fyo6XXMx470L3yZ-iT13-ESNogKm0JLRHKdCepFtgpLJz5W6X0J7o3pteYNoV1AWwdo1ofohA4S7kec4euZxriDvKCcunxmmVL6dxnN7bPbXrGvby9vw=s64",
      "userId": "00260520649597601100"
     },
     "user_tz": 300
    },
    "id": "TMVspJgwuCol"
   },
   "outputs": [],
   "source": [
    "def build_model(hourly_input_shape,daily_input_shape):\n",
    "    \n",
    "    input_1 = tf.keras.layers.Input(shape=hourly_input_shape)\n",
    "    input_2 = tf.keras.layers.Input(shape=daily_input_shape)\n",
    "    \n",
    "    model_1_1 = tf.keras.layers.LSTM(\n",
    "        units=64,\n",
    "        activation='tanh',\n",
    "        kernel_regularizer=tf.keras.regularizers.L1(l1=0),\n",
    "        dropout=0,\n",
    "        return_sequences=False\n",
    "    )(input_1)\n",
    "    model_1_1 = tf.keras.layers.Dense(units=24,activation=None)(model_1_1)\n",
    "\n",
    "    model_2_2 = tf.keras.layers.GRU(\n",
    "            units=320,\n",
    "            activation='tanh',\n",
    "            kernel_regularizer=tf.keras.regularizers.L1(l1=0),\n",
    "            dropout=0,\n",
    "            return_sequences=True\n",
    "    )(input_2)\n",
    "    model_2_2 = tf.keras.layers.GRU(\n",
    "            units=448,\n",
    "            activation='tanh',\n",
    "            kernel_regularizer=tf.keras.regularizers.L1(l1=0),\n",
    "            dropout=0,\n",
    "            return_sequences=True\n",
    "    )(model_2_2)\n",
    "    model_2_2 = tf.keras.layers.Flatten()(model_2_2)\n",
    "    model_2_2 = tf.keras.layers.Dense(units=24,activation=None)(model_2_2)\n",
    "    \n",
    "    output = tf.keras.layers.Add()([model_1_1, model_2_2])\n",
    "    output = tf.keras.layers.Dense(units=24,activation=None)(output)\n",
    "    full_model = tf.keras.Model(inputs=[input_1, input_2], outputs=[output])\n",
    "    \n",
    "    return full_model\n",
    "\n",
    "def make_predictions(model,scaler_D_x,scaler_D_y,scaler_H_x,scaler_H_y,\n",
    "                     trainX_D, trainY_D, testX_D, testY_D,\n",
    "                     trainX_H, trainY_H, testX_H, testY_H,\n",
    "                     n_steps_out,len_output_features):\n",
    "    \n",
    "    # make predictions\n",
    "    trainPredict = model.predict([trainX_H,trainX_D])\n",
    "    trainPredict = trainPredict.reshape(trainPredict.shape[0]*n_steps_out,len_output_features)\n",
    "    testPredict  = model.predict([testX_H,testX_D])\n",
    "    testPredict  = testPredict.reshape(testPredict.shape[0]*n_steps_out,len_output_features)\n",
    "    \n",
    "    # invert predictions\n",
    "    trainPredict = scaler_D_y.inverse_transform(trainPredict)\n",
    "    trainY = scaler_D_y.inverse_transform(trainY_D.reshape(trainY_D.shape[0]*n_steps_out,len_output_features))\n",
    "    \n",
    "    testPredict = scaler_D_y.inverse_transform(testPredict)\n",
    "    testY = scaler_D_y.inverse_transform(testY_D.reshape(testY_D.shape[0]*n_steps_out,len_output_features))\n",
    "        \n",
    "    return trainPredict,trainY,testPredict,testY\n",
    "\n",
    "def get_metrics(trainY,trainPredict,testY,testPredict):\n",
    "    \n",
    "    trainScore = math.sqrt(mean_squared_error(trainY, trainPredict))\n",
    "    trainMAPE  = Ep.MAPE(trainPredict,trainY)\n",
    "    print('Train Score: %.2f RMSE' % trainScore)\n",
    "    print('Train Score: %.2f MAPE' % trainMAPE)\n",
    "\n",
    "    testScore = math.sqrt(mean_squared_error(testY, testPredict))\n",
    "    testMAPE  = Ep.MAPE(testPredict,testY)\n",
    "    print('Test Score: %.2f RMSE' % testScore)\n",
    "    print('Test Score: %.2f MAPE' % testMAPE)\n",
    "    \n",
    "    return trainScore,trainMAPE,testScore,testMAPE"
   ]
  },
  {
   "cell_type": "code",
   "execution_count": 4,
   "metadata": {
    "executionInfo": {
     "elapsed": 7573,
     "status": "ok",
     "timestamp": 1612484211765,
     "user": {
      "displayName": "JUAN SEBASTIÁN PELÁEZ VILLA",
      "photoUrl": "https://lh3.googleusercontent.com/a-/AOh14GiSB4NpaPk5Safre8Mb9Q-nN-GcJxpXFSj-lOuyquGH72Z8EVJDqGJe5JF7uVwnq1w3l3mqHU7K-QCfYMM1HGl4YdNYol6B1nWvT_nTOgUpSzfK0Xu78oViS6NtAJQc_QsopyVeqoS-1USWo0uUtwV-A8_rLxouHn-loO3bdF86xbENlLlF6EBSFJN6OhBKLc_C_taeBThr8e4N0p7ThwyjJ6qCJfWPVbtuVLqUI484m33CGh7dKSFp7rKTt0oPSFS0eWQgidc3t2VSRcA8lN540KhdgSBLnYXGLIzT49onsdPGYIAUnBg1oL5jbjrfppnyySlig-6pXqIb0ginng7F31Og36iOf-2G9FYphOBbdhH_J2bH6iBxYuXPlNS_cgjtK0HvSLAyRUvtzlssBaPcWdENSHR2tn7vawjjB2WF6F3r50Yc9o4izKkeAFP3Mxer2XUBOzPdhN7yLicIpi77z46yLsHfXSHOhTCgILYwmxmCDIe3PiU9mAcROnUN5yCDYI1EgbHzg-LoryGMIfe6El3NHWyiy9boQQLaeyRkkWRzNCfl2OzIAECY5zgJsWvAvKCCVOgUi0gzVMQHdnEF1lorv33h-zG5bi25E_8WhBCIY2vpicisMglK2XtYOra1Gz9A2mJjr7LMPB6Fyo6XXMx470L3yZ-iT13-ESNogKm0JLRHKdCepFtgpLJz5W6X0J7o3pteYNoV1AWwdo1ofohA4S7kec4euZxriDvKCcunxmmVL6dxnN7bPbXrGvby9vw=s64",
      "userId": "00260520649597601100"
     },
     "user_tz": 300
    },
    "id": "sYyA90oJuCom"
   },
   "outputs": [],
   "source": [
    "data_diaria_path = os.path.join('..','..','..','dataset','Series','Sabanas','Original','Sabana_Datos_Diaria.xlsx')\n",
    "data_diaria = pd.read_excel(data_diaria_path)\n",
    "data_diaria = data_diaria.set_index('Fecha')"
   ]
  },
  {
   "cell_type": "code",
   "execution_count": 5,
   "metadata": {
    "executionInfo": {
     "elapsed": 101923,
     "status": "ok",
     "timestamp": 1612484306386,
     "user": {
      "displayName": "JUAN SEBASTIÁN PELÁEZ VILLA",
      "photoUrl": "https://lh3.googleusercontent.com/a-/AOh14GiSB4NpaPk5Safre8Mb9Q-nN-GcJxpXFSj-lOuyquGH72Z8EVJDqGJe5JF7uVwnq1w3l3mqHU7K-QCfYMM1HGl4YdNYol6B1nWvT_nTOgUpSzfK0Xu78oViS6NtAJQc_QsopyVeqoS-1USWo0uUtwV-A8_rLxouHn-loO3bdF86xbENlLlF6EBSFJN6OhBKLc_C_taeBThr8e4N0p7ThwyjJ6qCJfWPVbtuVLqUI484m33CGh7dKSFp7rKTt0oPSFS0eWQgidc3t2VSRcA8lN540KhdgSBLnYXGLIzT49onsdPGYIAUnBg1oL5jbjrfppnyySlig-6pXqIb0ginng7F31Og36iOf-2G9FYphOBbdhH_J2bH6iBxYuXPlNS_cgjtK0HvSLAyRUvtzlssBaPcWdENSHR2tn7vawjjB2WF6F3r50Yc9o4izKkeAFP3Mxer2XUBOzPdhN7yLicIpi77z46yLsHfXSHOhTCgILYwmxmCDIe3PiU9mAcROnUN5yCDYI1EgbHzg-LoryGMIfe6El3NHWyiy9boQQLaeyRkkWRzNCfl2OzIAECY5zgJsWvAvKCCVOgUi0gzVMQHdnEF1lorv33h-zG5bi25E_8WhBCIY2vpicisMglK2XtYOra1Gz9A2mJjr7LMPB6Fyo6XXMx470L3yZ-iT13-ESNogKm0JLRHKdCepFtgpLJz5W6X0J7o3pteYNoV1AWwdo1ofohA4S7kec4euZxriDvKCcunxmmVL6dxnN7bPbXrGvby9vw=s64",
      "userId": "00260520649597601100"
     },
     "user_tz": 300
    },
    "id": "SKmXmkRSuCom"
   },
   "outputs": [],
   "source": [
    "data_horaria_path = os.path.join('..','..','..','dataset','Series','Sabanas','Original','Sabana_Datos_Horaria.xlsx')\n",
    "data_horaria = pd.read_excel(data_horaria_path)\n",
    "data_horaria = data_horaria.set_index('Fecha')"
   ]
  },
  {
   "cell_type": "code",
   "execution_count": 6,
   "metadata": {
    "executionInfo": {
     "elapsed": 106993,
     "status": "ok",
     "timestamp": 1612484311699,
     "user": {
      "displayName": "JUAN SEBASTIÁN PELÁEZ VILLA",
      "photoUrl": "https://lh3.googleusercontent.com/a-/AOh14GiSB4NpaPk5Safre8Mb9Q-nN-GcJxpXFSj-lOuyquGH72Z8EVJDqGJe5JF7uVwnq1w3l3mqHU7K-QCfYMM1HGl4YdNYol6B1nWvT_nTOgUpSzfK0Xu78oViS6NtAJQc_QsopyVeqoS-1USWo0uUtwV-A8_rLxouHn-loO3bdF86xbENlLlF6EBSFJN6OhBKLc_C_taeBThr8e4N0p7ThwyjJ6qCJfWPVbtuVLqUI484m33CGh7dKSFp7rKTt0oPSFS0eWQgidc3t2VSRcA8lN540KhdgSBLnYXGLIzT49onsdPGYIAUnBg1oL5jbjrfppnyySlig-6pXqIb0ginng7F31Og36iOf-2G9FYphOBbdhH_J2bH6iBxYuXPlNS_cgjtK0HvSLAyRUvtzlssBaPcWdENSHR2tn7vawjjB2WF6F3r50Yc9o4izKkeAFP3Mxer2XUBOzPdhN7yLicIpi77z46yLsHfXSHOhTCgILYwmxmCDIe3PiU9mAcROnUN5yCDYI1EgbHzg-LoryGMIfe6El3NHWyiy9boQQLaeyRkkWRzNCfl2OzIAECY5zgJsWvAvKCCVOgUi0gzVMQHdnEF1lorv33h-zG5bi25E_8WhBCIY2vpicisMglK2XtYOra1Gz9A2mJjr7LMPB6Fyo6XXMx470L3yZ-iT13-ESNogKm0JLRHKdCepFtgpLJz5W6X0J7o3pteYNoV1AWwdo1ofohA4S7kec4euZxriDvKCcunxmmVL6dxnN7bPbXrGvby9vw=s64",
      "userId": "00260520649597601100"
     },
     "user_tz": 300
    },
    "id": "0z61ew3KuCon"
   },
   "outputs": [],
   "source": [
    "precio_bolsa_path = os.path.join('..','..','..','dataset','Series','Sabanas','Original','Sabana_Datos_Precio_Bolsa.xlsx')\n",
    "precio_bolsa = pd.read_excel(precio_bolsa_path)\n",
    "precio_bolsa = precio_bolsa.set_index('Fecha')"
   ]
  },
  {
   "cell_type": "code",
   "execution_count": 7,
   "metadata": {
    "executionInfo": {
     "elapsed": 105668,
     "status": "ok",
     "timestamp": 1612484311700,
     "user": {
      "displayName": "JUAN SEBASTIÁN PELÁEZ VILLA",
      "photoUrl": "https://lh3.googleusercontent.com/a-/AOh14GiSB4NpaPk5Safre8Mb9Q-nN-GcJxpXFSj-lOuyquGH72Z8EVJDqGJe5JF7uVwnq1w3l3mqHU7K-QCfYMM1HGl4YdNYol6B1nWvT_nTOgUpSzfK0Xu78oViS6NtAJQc_QsopyVeqoS-1USWo0uUtwV-A8_rLxouHn-loO3bdF86xbENlLlF6EBSFJN6OhBKLc_C_taeBThr8e4N0p7ThwyjJ6qCJfWPVbtuVLqUI484m33CGh7dKSFp7rKTt0oPSFS0eWQgidc3t2VSRcA8lN540KhdgSBLnYXGLIzT49onsdPGYIAUnBg1oL5jbjrfppnyySlig-6pXqIb0ginng7F31Og36iOf-2G9FYphOBbdhH_J2bH6iBxYuXPlNS_cgjtK0HvSLAyRUvtzlssBaPcWdENSHR2tn7vawjjB2WF6F3r50Yc9o4izKkeAFP3Mxer2XUBOzPdhN7yLicIpi77z46yLsHfXSHOhTCgILYwmxmCDIe3PiU9mAcROnUN5yCDYI1EgbHzg-LoryGMIfe6El3NHWyiy9boQQLaeyRkkWRzNCfl2OzIAECY5zgJsWvAvKCCVOgUi0gzVMQHdnEF1lorv33h-zG5bi25E_8WhBCIY2vpicisMglK2XtYOra1Gz9A2mJjr7LMPB6Fyo6XXMx470L3yZ-iT13-ESNogKm0JLRHKdCepFtgpLJz5W6X0J7o3pteYNoV1AWwdo1ofohA4S7kec4euZxriDvKCcunxmmVL6dxnN7bPbXrGvby9vw=s64",
      "userId": "00260520649597601100"
     },
     "user_tz": 300
    },
    "id": "gGlv9rK_uCon"
   },
   "outputs": [],
   "source": [
    "nombre_series_diaria = data_diaria.columns.values\n",
    "nombre_series_horaria = data_horaria.columns.values"
   ]
  },
  {
   "cell_type": "code",
   "execution_count": 8,
   "metadata": {
    "executionInfo": {
     "elapsed": 104750,
     "status": "ok",
     "timestamp": 1612484311701,
     "user": {
      "displayName": "JUAN SEBASTIÁN PELÁEZ VILLA",
      "photoUrl": "https://lh3.googleusercontent.com/a-/AOh14GiSB4NpaPk5Safre8Mb9Q-nN-GcJxpXFSj-lOuyquGH72Z8EVJDqGJe5JF7uVwnq1w3l3mqHU7K-QCfYMM1HGl4YdNYol6B1nWvT_nTOgUpSzfK0Xu78oViS6NtAJQc_QsopyVeqoS-1USWo0uUtwV-A8_rLxouHn-loO3bdF86xbENlLlF6EBSFJN6OhBKLc_C_taeBThr8e4N0p7ThwyjJ6qCJfWPVbtuVLqUI484m33CGh7dKSFp7rKTt0oPSFS0eWQgidc3t2VSRcA8lN540KhdgSBLnYXGLIzT49onsdPGYIAUnBg1oL5jbjrfppnyySlig-6pXqIb0ginng7F31Og36iOf-2G9FYphOBbdhH_J2bH6iBxYuXPlNS_cgjtK0HvSLAyRUvtzlssBaPcWdENSHR2tn7vawjjB2WF6F3r50Yc9o4izKkeAFP3Mxer2XUBOzPdhN7yLicIpi77z46yLsHfXSHOhTCgILYwmxmCDIe3PiU9mAcROnUN5yCDYI1EgbHzg-LoryGMIfe6El3NHWyiy9boQQLaeyRkkWRzNCfl2OzIAECY5zgJsWvAvKCCVOgUi0gzVMQHdnEF1lorv33h-zG5bi25E_8WhBCIY2vpicisMglK2XtYOra1Gz9A2mJjr7LMPB6Fyo6XXMx470L3yZ-iT13-ESNogKm0JLRHKdCepFtgpLJz5W6X0J7o3pteYNoV1AWwdo1ofohA4S7kec4euZxriDvKCcunxmmVL6dxnN7bPbXrGvby9vw=s64",
      "userId": "00260520649597601100"
     },
     "user_tz": 300
    },
    "id": "u0sc-yTeuCon"
   },
   "outputs": [],
   "source": [
    "data_horaria_full = pd.concat([data_horaria,precio_bolsa],axis=1)"
   ]
  },
  {
   "cell_type": "code",
   "execution_count": 9,
   "metadata": {
    "colab": {
     "base_uri": "https://localhost:8080/"
    },
    "executionInfo": {
     "elapsed": 104115,
     "status": "ok",
     "timestamp": 1612484311702,
     "user": {
      "displayName": "JUAN SEBASTIÁN PELÁEZ VILLA",
      "photoUrl": "https://lh3.googleusercontent.com/a-/AOh14GiSB4NpaPk5Safre8Mb9Q-nN-GcJxpXFSj-lOuyquGH72Z8EVJDqGJe5JF7uVwnq1w3l3mqHU7K-QCfYMM1HGl4YdNYol6B1nWvT_nTOgUpSzfK0Xu78oViS6NtAJQc_QsopyVeqoS-1USWo0uUtwV-A8_rLxouHn-loO3bdF86xbENlLlF6EBSFJN6OhBKLc_C_taeBThr8e4N0p7ThwyjJ6qCJfWPVbtuVLqUI484m33CGh7dKSFp7rKTt0oPSFS0eWQgidc3t2VSRcA8lN540KhdgSBLnYXGLIzT49onsdPGYIAUnBg1oL5jbjrfppnyySlig-6pXqIb0ginng7F31Og36iOf-2G9FYphOBbdhH_J2bH6iBxYuXPlNS_cgjtK0HvSLAyRUvtzlssBaPcWdENSHR2tn7vawjjB2WF6F3r50Yc9o4izKkeAFP3Mxer2XUBOzPdhN7yLicIpi77z46yLsHfXSHOhTCgILYwmxmCDIe3PiU9mAcROnUN5yCDYI1EgbHzg-LoryGMIfe6El3NHWyiy9boQQLaeyRkkWRzNCfl2OzIAECY5zgJsWvAvKCCVOgUi0gzVMQHdnEF1lorv33h-zG5bi25E_8WhBCIY2vpicisMglK2XtYOra1Gz9A2mJjr7LMPB6Fyo6XXMx470L3yZ-iT13-ESNogKm0JLRHKdCepFtgpLJz5W6X0J7o3pteYNoV1AWwdo1ofohA4S7kec4euZxriDvKCcunxmmVL6dxnN7bPbXrGvby9vw=s64",
      "userId": "00260520649597601100"
     },
     "user_tz": 300
    },
    "id": "SUYQYcffuCop",
    "outputId": "3ece0148-397c-4296-f075-559c06263698"
   },
   "outputs": [
    {
     "data": {
      "text/plain": [
       "((176760, 84), (7365, 119), (176760, 1))"
      ]
     },
     "execution_count": 9,
     "metadata": {},
     "output_type": "execute_result"
    }
   ],
   "source": [
    "data_horaria.shape,data_diaria.shape, precio_bolsa.shape"
   ]
  },
  {
   "cell_type": "markdown",
   "metadata": {
    "id": "gcag57CwuCoq"
   },
   "source": [
    "## Build Window"
   ]
  },
  {
   "cell_type": "code",
   "execution_count": 10,
   "metadata": {
    "executionInfo": {
     "elapsed": 102067,
     "status": "ok",
     "timestamp": 1612484311703,
     "user": {
      "displayName": "JUAN SEBASTIÁN PELÁEZ VILLA",
      "photoUrl": "https://lh3.googleusercontent.com/a-/AOh14GiSB4NpaPk5Safre8Mb9Q-nN-GcJxpXFSj-lOuyquGH72Z8EVJDqGJe5JF7uVwnq1w3l3mqHU7K-QCfYMM1HGl4YdNYol6B1nWvT_nTOgUpSzfK0Xu78oViS6NtAJQc_QsopyVeqoS-1USWo0uUtwV-A8_rLxouHn-loO3bdF86xbENlLlF6EBSFJN6OhBKLc_C_taeBThr8e4N0p7ThwyjJ6qCJfWPVbtuVLqUI484m33CGh7dKSFp7rKTt0oPSFS0eWQgidc3t2VSRcA8lN540KhdgSBLnYXGLIzT49onsdPGYIAUnBg1oL5jbjrfppnyySlig-6pXqIb0ginng7F31Og36iOf-2G9FYphOBbdhH_J2bH6iBxYuXPlNS_cgjtK0HvSLAyRUvtzlssBaPcWdENSHR2tn7vawjjB2WF6F3r50Yc9o4izKkeAFP3Mxer2XUBOzPdhN7yLicIpi77z46yLsHfXSHOhTCgILYwmxmCDIe3PiU9mAcROnUN5yCDYI1EgbHzg-LoryGMIfe6El3NHWyiy9boQQLaeyRkkWRzNCfl2OzIAECY5zgJsWvAvKCCVOgUi0gzVMQHdnEF1lorv33h-zG5bi25E_8WhBCIY2vpicisMglK2XtYOra1Gz9A2mJjr7LMPB6Fyo6XXMx470L3yZ-iT13-ESNogKm0JLRHKdCepFtgpLJz5W6X0J7o3pteYNoV1AWwdo1ofohA4S7kec4euZxriDvKCcunxmmVL6dxnN7bPbXrGvby9vw=s64",
      "userId": "00260520649597601100"
     },
     "user_tz": 300
    },
    "id": "h5xqgWD3uCor"
   },
   "outputs": [],
   "source": [
    "d = 'All'\n",
    "time_split = '2020-01-01'\n",
    "n_steps_out=24\n",
    "output_columns = ['$kWh']"
   ]
  },
  {
   "cell_type": "code",
   "execution_count": 11,
   "metadata": {
    "executionInfo": {
     "elapsed": 99431,
     "status": "ok",
     "timestamp": 1612484311909,
     "user": {
      "displayName": "JUAN SEBASTIÁN PELÁEZ VILLA",
      "photoUrl": "https://lh3.googleusercontent.com/a-/AOh14GiSB4NpaPk5Safre8Mb9Q-nN-GcJxpXFSj-lOuyquGH72Z8EVJDqGJe5JF7uVwnq1w3l3mqHU7K-QCfYMM1HGl4YdNYol6B1nWvT_nTOgUpSzfK0Xu78oViS6NtAJQc_QsopyVeqoS-1USWo0uUtwV-A8_rLxouHn-loO3bdF86xbENlLlF6EBSFJN6OhBKLc_C_taeBThr8e4N0p7ThwyjJ6qCJfWPVbtuVLqUI484m33CGh7dKSFp7rKTt0oPSFS0eWQgidc3t2VSRcA8lN540KhdgSBLnYXGLIzT49onsdPGYIAUnBg1oL5jbjrfppnyySlig-6pXqIb0ginng7F31Og36iOf-2G9FYphOBbdhH_J2bH6iBxYuXPlNS_cgjtK0HvSLAyRUvtzlssBaPcWdENSHR2tn7vawjjB2WF6F3r50Yc9o4izKkeAFP3Mxer2XUBOzPdhN7yLicIpi77z46yLsHfXSHOhTCgILYwmxmCDIe3PiU9mAcROnUN5yCDYI1EgbHzg-LoryGMIfe6El3NHWyiy9boQQLaeyRkkWRzNCfl2OzIAECY5zgJsWvAvKCCVOgUi0gzVMQHdnEF1lorv33h-zG5bi25E_8WhBCIY2vpicisMglK2XtYOra1Gz9A2mJjr7LMPB6Fyo6XXMx470L3yZ-iT13-ESNogKm0JLRHKdCepFtgpLJz5W6X0J7o3pteYNoV1AWwdo1ofohA4S7kec4euZxriDvKCcunxmmVL6dxnN7bPbXrGvby9vw=s64",
      "userId": "00260520649597601100"
     },
     "user_tz": 300
    },
    "id": "8JGtKs2auCor"
   },
   "outputs": [],
   "source": [
    "n_steps_in = 2\n",
    "overlap = 1\n",
    "inputs_columns = nombre_series_diaria\n",
    "\n",
    "len_input_features = len(inputs_columns)\n",
    "len_output_features = len(output_columns)\n",
    "\n",
    "trainX_D, trainY_D, testX_D, testY_D, scaler_D_x,scaler_D_y, dataset_x_D, dataset_y_D = Ep.SplitTimeseriesMultipleTimesBackAhead_differentTimes(\n",
    "    df_x=data_diaria,\n",
    "    df_y=precio_bolsa,\n",
    "    day = d, \n",
    "    TimeSplit = time_split,\n",
    "    n_steps_out=n_steps_out,\n",
    "    n_steps_in =n_steps_in, \n",
    "    overlap = overlap,\n",
    "    input_features=inputs_columns,\n",
    "    output_features=output_columns)"
   ]
  },
  {
   "cell_type": "code",
   "execution_count": 12,
   "metadata": {
    "executionInfo": {
     "elapsed": 99592,
     "status": "ok",
     "timestamp": 1612484312400,
     "user": {
      "displayName": "JUAN SEBASTIÁN PELÁEZ VILLA",
      "photoUrl": "https://lh3.googleusercontent.com/a-/AOh14GiSB4NpaPk5Safre8Mb9Q-nN-GcJxpXFSj-lOuyquGH72Z8EVJDqGJe5JF7uVwnq1w3l3mqHU7K-QCfYMM1HGl4YdNYol6B1nWvT_nTOgUpSzfK0Xu78oViS6NtAJQc_QsopyVeqoS-1USWo0uUtwV-A8_rLxouHn-loO3bdF86xbENlLlF6EBSFJN6OhBKLc_C_taeBThr8e4N0p7ThwyjJ6qCJfWPVbtuVLqUI484m33CGh7dKSFp7rKTt0oPSFS0eWQgidc3t2VSRcA8lN540KhdgSBLnYXGLIzT49onsdPGYIAUnBg1oL5jbjrfppnyySlig-6pXqIb0ginng7F31Og36iOf-2G9FYphOBbdhH_J2bH6iBxYuXPlNS_cgjtK0HvSLAyRUvtzlssBaPcWdENSHR2tn7vawjjB2WF6F3r50Yc9o4izKkeAFP3Mxer2XUBOzPdhN7yLicIpi77z46yLsHfXSHOhTCgILYwmxmCDIe3PiU9mAcROnUN5yCDYI1EgbHzg-LoryGMIfe6El3NHWyiy9boQQLaeyRkkWRzNCfl2OzIAECY5zgJsWvAvKCCVOgUi0gzVMQHdnEF1lorv33h-zG5bi25E_8WhBCIY2vpicisMglK2XtYOra1Gz9A2mJjr7LMPB6Fyo6XXMx470L3yZ-iT13-ESNogKm0JLRHKdCepFtgpLJz5W6X0J7o3pteYNoV1AWwdo1ofohA4S7kec4euZxriDvKCcunxmmVL6dxnN7bPbXrGvby9vw=s64",
      "userId": "00260520649597601100"
     },
     "user_tz": 300
    },
    "id": "XxEA_yW2uCos"
   },
   "outputs": [],
   "source": [
    "n_steps_in = 48\n",
    "overlap = 24\n",
    "inputs_columns = nombre_series_horaria\n",
    "\n",
    "len_input_features = len(inputs_columns)\n",
    "len_output_features = len(output_columns)\n",
    "\n",
    "trainX_H, trainY_H, testX_H, testY_H, scaler_H_x,scaler_H_y, df2_H, dataset_H = Ep.SplitTimeseriesMultipleTimesBackAhead(data_horaria_full,\n",
    "                                                                                              day = d, \n",
    "                                                                                              ValData = 'index', \n",
    "                                                                                              TimeAhead = time_split, \n",
    "                                                                                              n_steps_out= n_steps_out, \n",
    "                                                                                              n_steps_in = n_steps_in, \n",
    "                                                                                              overlap = overlap,\n",
    "                                                                                              input_features=inputs_columns,\n",
    "                                                                                              output_features=output_columns)"
   ]
  },
  {
   "cell_type": "code",
   "execution_count": 13,
   "metadata": {
    "colab": {
     "base_uri": "https://localhost:8080/"
    },
    "executionInfo": {
     "elapsed": 786,
     "status": "ok",
     "timestamp": 1612484313193,
     "user": {
      "displayName": "JUAN SEBASTIÁN PELÁEZ VILLA",
      "photoUrl": "https://lh3.googleusercontent.com/a-/AOh14GiSB4NpaPk5Safre8Mb9Q-nN-GcJxpXFSj-lOuyquGH72Z8EVJDqGJe5JF7uVwnq1w3l3mqHU7K-QCfYMM1HGl4YdNYol6B1nWvT_nTOgUpSzfK0Xu78oViS6NtAJQc_QsopyVeqoS-1USWo0uUtwV-A8_rLxouHn-loO3bdF86xbENlLlF6EBSFJN6OhBKLc_C_taeBThr8e4N0p7ThwyjJ6qCJfWPVbtuVLqUI484m33CGh7dKSFp7rKTt0oPSFS0eWQgidc3t2VSRcA8lN540KhdgSBLnYXGLIzT49onsdPGYIAUnBg1oL5jbjrfppnyySlig-6pXqIb0ginng7F31Og36iOf-2G9FYphOBbdhH_J2bH6iBxYuXPlNS_cgjtK0HvSLAyRUvtzlssBaPcWdENSHR2tn7vawjjB2WF6F3r50Yc9o4izKkeAFP3Mxer2XUBOzPdhN7yLicIpi77z46yLsHfXSHOhTCgILYwmxmCDIe3PiU9mAcROnUN5yCDYI1EgbHzg-LoryGMIfe6El3NHWyiy9boQQLaeyRkkWRzNCfl2OzIAECY5zgJsWvAvKCCVOgUi0gzVMQHdnEF1lorv33h-zG5bi25E_8WhBCIY2vpicisMglK2XtYOra1Gz9A2mJjr7LMPB6Fyo6XXMx470L3yZ-iT13-ESNogKm0JLRHKdCepFtgpLJz5W6X0J7o3pteYNoV1AWwdo1ofohA4S7kec4euZxriDvKCcunxmmVL6dxnN7bPbXrGvby9vw=s64",
      "userId": "00260520649597601100"
     },
     "user_tz": 300
    },
    "id": "4NBsTH89uCor",
    "outputId": "6e7f461e-7715-45c4-93f3-f87e1cb9e650"
   },
   "outputs": [
    {
     "name": "stdout",
     "output_type": "stream",
     "text": [
      "Data Diaria\n"
     ]
    },
    {
     "data": {
      "text/plain": [
       "((7272, 2, 119), (7272, 24, 1), (91, 2, 119), (91, 24, 1))"
      ]
     },
     "execution_count": 13,
     "metadata": {},
     "output_type": "execute_result"
    }
   ],
   "source": [
    "print('Data Diaria')\n",
    "trainX_D.shape, trainY_D.shape, testX_D.shape, testY_D.shape"
   ]
  },
  {
   "cell_type": "code",
   "execution_count": 14,
   "metadata": {
    "colab": {
     "base_uri": "https://localhost:8080/"
    },
    "executionInfo": {
     "elapsed": 780,
     "status": "ok",
     "timestamp": 1612484313194,
     "user": {
      "displayName": "JUAN SEBASTIÁN PELÁEZ VILLA",
      "photoUrl": "https://lh3.googleusercontent.com/a-/AOh14GiSB4NpaPk5Safre8Mb9Q-nN-GcJxpXFSj-lOuyquGH72Z8EVJDqGJe5JF7uVwnq1w3l3mqHU7K-QCfYMM1HGl4YdNYol6B1nWvT_nTOgUpSzfK0Xu78oViS6NtAJQc_QsopyVeqoS-1USWo0uUtwV-A8_rLxouHn-loO3bdF86xbENlLlF6EBSFJN6OhBKLc_C_taeBThr8e4N0p7ThwyjJ6qCJfWPVbtuVLqUI484m33CGh7dKSFp7rKTt0oPSFS0eWQgidc3t2VSRcA8lN540KhdgSBLnYXGLIzT49onsdPGYIAUnBg1oL5jbjrfppnyySlig-6pXqIb0ginng7F31Og36iOf-2G9FYphOBbdhH_J2bH6iBxYuXPlNS_cgjtK0HvSLAyRUvtzlssBaPcWdENSHR2tn7vawjjB2WF6F3r50Yc9o4izKkeAFP3Mxer2XUBOzPdhN7yLicIpi77z46yLsHfXSHOhTCgILYwmxmCDIe3PiU9mAcROnUN5yCDYI1EgbHzg-LoryGMIfe6El3NHWyiy9boQQLaeyRkkWRzNCfl2OzIAECY5zgJsWvAvKCCVOgUi0gzVMQHdnEF1lorv33h-zG5bi25E_8WhBCIY2vpicisMglK2XtYOra1Gz9A2mJjr7LMPB6Fyo6XXMx470L3yZ-iT13-ESNogKm0JLRHKdCepFtgpLJz5W6X0J7o3pteYNoV1AWwdo1ofohA4S7kec4euZxriDvKCcunxmmVL6dxnN7bPbXrGvby9vw=s64",
      "userId": "00260520649597601100"
     },
     "user_tz": 300
    },
    "id": "JBruhJibuCos",
    "outputId": "21e61cec-21ee-45c1-94b5-60fec472e588"
   },
   "outputs": [
    {
     "name": "stdout",
     "output_type": "stream",
     "text": [
      "Data Horaria\n"
     ]
    },
    {
     "data": {
      "text/plain": [
       "((7272, 48, 84), (7272, 24, 1), (91, 48, 84), (91, 24, 1))"
      ]
     },
     "execution_count": 14,
     "metadata": {},
     "output_type": "execute_result"
    }
   ],
   "source": [
    "print('Data Horaria')\n",
    "trainX_H.shape, trainY_H.shape, testX_H.shape, testY_H.shape"
   ]
  },
  {
   "cell_type": "markdown",
   "metadata": {
    "id": "Gnb8WjkxuCot"
   },
   "source": [
    "## Model"
   ]
  },
  {
   "cell_type": "code",
   "execution_count": 15,
   "metadata": {
    "executionInfo": {
     "elapsed": 809,
     "status": "ok",
     "timestamp": 1612485251290,
     "user": {
      "displayName": "JUAN SEBASTIÁN PELÁEZ VILLA",
      "photoUrl": "https://lh3.googleusercontent.com/a-/AOh14GiSB4NpaPk5Safre8Mb9Q-nN-GcJxpXFSj-lOuyquGH72Z8EVJDqGJe5JF7uVwnq1w3l3mqHU7K-QCfYMM1HGl4YdNYol6B1nWvT_nTOgUpSzfK0Xu78oViS6NtAJQc_QsopyVeqoS-1USWo0uUtwV-A8_rLxouHn-loO3bdF86xbENlLlF6EBSFJN6OhBKLc_C_taeBThr8e4N0p7ThwyjJ6qCJfWPVbtuVLqUI484m33CGh7dKSFp7rKTt0oPSFS0eWQgidc3t2VSRcA8lN540KhdgSBLnYXGLIzT49onsdPGYIAUnBg1oL5jbjrfppnyySlig-6pXqIb0ginng7F31Og36iOf-2G9FYphOBbdhH_J2bH6iBxYuXPlNS_cgjtK0HvSLAyRUvtzlssBaPcWdENSHR2tn7vawjjB2WF6F3r50Yc9o4izKkeAFP3Mxer2XUBOzPdhN7yLicIpi77z46yLsHfXSHOhTCgILYwmxmCDIe3PiU9mAcROnUN5yCDYI1EgbHzg-LoryGMIfe6El3NHWyiy9boQQLaeyRkkWRzNCfl2OzIAECY5zgJsWvAvKCCVOgUi0gzVMQHdnEF1lorv33h-zG5bi25E_8WhBCIY2vpicisMglK2XtYOra1Gz9A2mJjr7LMPB6Fyo6XXMx470L3yZ-iT13-ESNogKm0JLRHKdCepFtgpLJz5W6X0J7o3pteYNoV1AWwdo1ofohA4S7kec4euZxriDvKCcunxmmVL6dxnN7bPbXrGvby9vw=s64",
      "userId": "00260520649597601100"
     },
     "user_tz": 300
    },
    "id": "VPrRp1DiuCou"
   },
   "outputs": [],
   "source": [
    "callback_reduce_lr = tf.keras.callbacks.ReduceLROnPlateau(monitor='val_loss',\n",
    "                                                          factor=0.1,\n",
    "                                                          min_lr=1e-5,\n",
    "                                                          patience=0,\n",
    "                                                          verbose=1)\n",
    "\n",
    "early_stopping = tf.keras.callbacks.EarlyStopping(monitor='val_loss',\n",
    "                                                  patience=5,\n",
    "                                                  mode='min')\n",
    "\n",
    "callbacks = [callback_reduce_lr,early_stopping]"
   ]
  },
  {
   "cell_type": "code",
   "execution_count": 16,
   "metadata": {
    "colab": {
     "base_uri": "https://localhost:8080/"
    },
    "executionInfo": {
     "elapsed": 2123,
     "status": "ok",
     "timestamp": 1612485277017,
     "user": {
      "displayName": "JUAN SEBASTIÁN PELÁEZ VILLA",
      "photoUrl": "https://lh3.googleusercontent.com/a-/AOh14GiSB4NpaPk5Safre8Mb9Q-nN-GcJxpXFSj-lOuyquGH72Z8EVJDqGJe5JF7uVwnq1w3l3mqHU7K-QCfYMM1HGl4YdNYol6B1nWvT_nTOgUpSzfK0Xu78oViS6NtAJQc_QsopyVeqoS-1USWo0uUtwV-A8_rLxouHn-loO3bdF86xbENlLlF6EBSFJN6OhBKLc_C_taeBThr8e4N0p7ThwyjJ6qCJfWPVbtuVLqUI484m33CGh7dKSFp7rKTt0oPSFS0eWQgidc3t2VSRcA8lN540KhdgSBLnYXGLIzT49onsdPGYIAUnBg1oL5jbjrfppnyySlig-6pXqIb0ginng7F31Og36iOf-2G9FYphOBbdhH_J2bH6iBxYuXPlNS_cgjtK0HvSLAyRUvtzlssBaPcWdENSHR2tn7vawjjB2WF6F3r50Yc9o4izKkeAFP3Mxer2XUBOzPdhN7yLicIpi77z46yLsHfXSHOhTCgILYwmxmCDIe3PiU9mAcROnUN5yCDYI1EgbHzg-LoryGMIfe6El3NHWyiy9boQQLaeyRkkWRzNCfl2OzIAECY5zgJsWvAvKCCVOgUi0gzVMQHdnEF1lorv33h-zG5bi25E_8WhBCIY2vpicisMglK2XtYOra1Gz9A2mJjr7LMPB6Fyo6XXMx470L3yZ-iT13-ESNogKm0JLRHKdCepFtgpLJz5W6X0J7o3pteYNoV1AWwdo1ofohA4S7kec4euZxriDvKCcunxmmVL6dxnN7bPbXrGvby9vw=s64",
      "userId": "00260520649597601100"
     },
     "user_tz": 300
    },
    "id": "DpM03gDYuCou",
    "outputId": "853b0222-9d3b-473b-c5b7-c22273e85f51"
   },
   "outputs": [
    {
     "name": "stdout",
     "output_type": "stream",
     "text": [
      "Model: \"functional_1\"\n",
      "__________________________________________________________________________________________________\n",
      "Layer (type)                    Output Shape         Param #     Connected to                     \n",
      "==================================================================================================\n",
      "input_2 (InputLayer)            [(None, 2, 119)]     0                                            \n",
      "__________________________________________________________________________________________________\n",
      "gru (GRU)                       (None, 2, 320)       423360      input_2[0][0]                    \n",
      "__________________________________________________________________________________________________\n",
      "input_1 (InputLayer)            [(None, 48, 84)]     0                                            \n",
      "__________________________________________________________________________________________________\n",
      "gru_1 (GRU)                     (None, 2, 448)       1034880     gru[0][0]                        \n",
      "__________________________________________________________________________________________________\n",
      "lstm (LSTM)                     (None, 64)           38144       input_1[0][0]                    \n",
      "__________________________________________________________________________________________________\n",
      "flatten (Flatten)               (None, 896)          0           gru_1[0][0]                      \n",
      "__________________________________________________________________________________________________\n",
      "dense (Dense)                   (None, 24)           1560        lstm[0][0]                       \n",
      "__________________________________________________________________________________________________\n",
      "dense_1 (Dense)                 (None, 24)           21528       flatten[0][0]                    \n",
      "__________________________________________________________________________________________________\n",
      "add (Add)                       (None, 24)           0           dense[0][0]                      \n",
      "                                                                 dense_1[0][0]                    \n",
      "__________________________________________________________________________________________________\n",
      "dense_2 (Dense)                 (None, 24)           600         add[0][0]                        \n",
      "==================================================================================================\n",
      "Total params: 1,520,072\n",
      "Trainable params: 1,520,072\n",
      "Non-trainable params: 0\n",
      "__________________________________________________________________________________________________\n"
     ]
    }
   ],
   "source": [
    "hourly_input_shape = (trainX_H.shape[1],trainX_H.shape[2])\n",
    "daily_input_shape = (trainX_D.shape[1],trainX_D.shape[2])\n",
    "\n",
    "model = build_model(hourly_input_shape,daily_input_shape)\n",
    "\n",
    "model.summary()"
   ]
  },
  {
   "cell_type": "code",
   "execution_count": 17,
   "metadata": {
    "executionInfo": {
     "elapsed": 496,
     "status": "ok",
     "timestamp": 1612485286102,
     "user": {
      "displayName": "JUAN SEBASTIÁN PELÁEZ VILLA",
      "photoUrl": "https://lh3.googleusercontent.com/a-/AOh14GiSB4NpaPk5Safre8Mb9Q-nN-GcJxpXFSj-lOuyquGH72Z8EVJDqGJe5JF7uVwnq1w3l3mqHU7K-QCfYMM1HGl4YdNYol6B1nWvT_nTOgUpSzfK0Xu78oViS6NtAJQc_QsopyVeqoS-1USWo0uUtwV-A8_rLxouHn-loO3bdF86xbENlLlF6EBSFJN6OhBKLc_C_taeBThr8e4N0p7ThwyjJ6qCJfWPVbtuVLqUI484m33CGh7dKSFp7rKTt0oPSFS0eWQgidc3t2VSRcA8lN540KhdgSBLnYXGLIzT49onsdPGYIAUnBg1oL5jbjrfppnyySlig-6pXqIb0ginng7F31Og36iOf-2G9FYphOBbdhH_J2bH6iBxYuXPlNS_cgjtK0HvSLAyRUvtzlssBaPcWdENSHR2tn7vawjjB2WF6F3r50Yc9o4izKkeAFP3Mxer2XUBOzPdhN7yLicIpi77z46yLsHfXSHOhTCgILYwmxmCDIe3PiU9mAcROnUN5yCDYI1EgbHzg-LoryGMIfe6El3NHWyiy9boQQLaeyRkkWRzNCfl2OzIAECY5zgJsWvAvKCCVOgUi0gzVMQHdnEF1lorv33h-zG5bi25E_8WhBCIY2vpicisMglK2XtYOra1Gz9A2mJjr7LMPB6Fyo6XXMx470L3yZ-iT13-ESNogKm0JLRHKdCepFtgpLJz5W6X0J7o3pteYNoV1AWwdo1ofohA4S7kec4euZxriDvKCcunxmmVL6dxnN7bPbXrGvby9vw=s64",
      "userId": "00260520649597601100"
     },
     "user_tz": 300
    },
    "id": "nLww4iEkuCov"
   },
   "outputs": [],
   "source": [
    "model.compile(optimizer=tf.optimizers.Adam(learning_rate=0.01),\n",
    "              loss=tf.losses.MeanSquaredError(),\n",
    "              metrics=[tf.metrics.MeanAbsoluteError(),\n",
    "                       tf.keras.metrics.MeanAbsolutePercentageError()])"
   ]
  },
  {
   "cell_type": "code",
   "execution_count": 18,
   "metadata": {
    "executionInfo": {
     "elapsed": 695,
     "status": "ok",
     "timestamp": 1612485287171,
     "user": {
      "displayName": "JUAN SEBASTIÁN PELÁEZ VILLA",
      "photoUrl": "https://lh3.googleusercontent.com/a-/AOh14GiSB4NpaPk5Safre8Mb9Q-nN-GcJxpXFSj-lOuyquGH72Z8EVJDqGJe5JF7uVwnq1w3l3mqHU7K-QCfYMM1HGl4YdNYol6B1nWvT_nTOgUpSzfK0Xu78oViS6NtAJQc_QsopyVeqoS-1USWo0uUtwV-A8_rLxouHn-loO3bdF86xbENlLlF6EBSFJN6OhBKLc_C_taeBThr8e4N0p7ThwyjJ6qCJfWPVbtuVLqUI484m33CGh7dKSFp7rKTt0oPSFS0eWQgidc3t2VSRcA8lN540KhdgSBLnYXGLIzT49onsdPGYIAUnBg1oL5jbjrfppnyySlig-6pXqIb0ginng7F31Og36iOf-2G9FYphOBbdhH_J2bH6iBxYuXPlNS_cgjtK0HvSLAyRUvtzlssBaPcWdENSHR2tn7vawjjB2WF6F3r50Yc9o4izKkeAFP3Mxer2XUBOzPdhN7yLicIpi77z46yLsHfXSHOhTCgILYwmxmCDIe3PiU9mAcROnUN5yCDYI1EgbHzg-LoryGMIfe6El3NHWyiy9boQQLaeyRkkWRzNCfl2OzIAECY5zgJsWvAvKCCVOgUi0gzVMQHdnEF1lorv33h-zG5bi25E_8WhBCIY2vpicisMglK2XtYOra1Gz9A2mJjr7LMPB6Fyo6XXMx470L3yZ-iT13-ESNogKm0JLRHKdCepFtgpLJz5W6X0J7o3pteYNoV1AWwdo1ofohA4S7kec4euZxriDvKCcunxmmVL6dxnN7bPbXrGvby9vw=s64",
      "userId": "00260520649597601100"
     },
     "user_tz": 300
    },
    "id": "HHqrLNa-khFc"
   },
   "outputs": [],
   "source": [
    "import json\n",
    "model_json = model.to_json()\n",
    "with open(\"ModelV2.json\", \"w\") as json_file:\n",
    "    json_file.write(model_json)"
   ]
  },
  {
   "cell_type": "code",
   "execution_count": 19,
   "metadata": {
    "colab": {
     "base_uri": "https://localhost:8080/"
    },
    "executionInfo": {
     "elapsed": 299324,
     "status": "ok",
     "timestamp": 1612485594652,
     "user": {
      "displayName": "JUAN SEBASTIÁN PELÁEZ VILLA",
      "photoUrl": "https://lh3.googleusercontent.com/a-/AOh14GiSB4NpaPk5Safre8Mb9Q-nN-GcJxpXFSj-lOuyquGH72Z8EVJDqGJe5JF7uVwnq1w3l3mqHU7K-QCfYMM1HGl4YdNYol6B1nWvT_nTOgUpSzfK0Xu78oViS6NtAJQc_QsopyVeqoS-1USWo0uUtwV-A8_rLxouHn-loO3bdF86xbENlLlF6EBSFJN6OhBKLc_C_taeBThr8e4N0p7ThwyjJ6qCJfWPVbtuVLqUI484m33CGh7dKSFp7rKTt0oPSFS0eWQgidc3t2VSRcA8lN540KhdgSBLnYXGLIzT49onsdPGYIAUnBg1oL5jbjrfppnyySlig-6pXqIb0ginng7F31Og36iOf-2G9FYphOBbdhH_J2bH6iBxYuXPlNS_cgjtK0HvSLAyRUvtzlssBaPcWdENSHR2tn7vawjjB2WF6F3r50Yc9o4izKkeAFP3Mxer2XUBOzPdhN7yLicIpi77z46yLsHfXSHOhTCgILYwmxmCDIe3PiU9mAcROnUN5yCDYI1EgbHzg-LoryGMIfe6El3NHWyiy9boQQLaeyRkkWRzNCfl2OzIAECY5zgJsWvAvKCCVOgUi0gzVMQHdnEF1lorv33h-zG5bi25E_8WhBCIY2vpicisMglK2XtYOra1Gz9A2mJjr7LMPB6Fyo6XXMx470L3yZ-iT13-ESNogKm0JLRHKdCepFtgpLJz5W6X0J7o3pteYNoV1AWwdo1ofohA4S7kec4euZxriDvKCcunxmmVL6dxnN7bPbXrGvby9vw=s64",
      "userId": "00260520649597601100"
     },
     "user_tz": 300
    },
    "id": "SVdzo-wMuCov",
    "outputId": "5fe0055d-0d16-4457-facf-6269354b5fab"
   },
   "outputs": [
    {
     "name": "stdout",
     "output_type": "stream",
     "text": [
      "Epoch 1/200\n",
      "228/228 [==============================] - 4s 15ms/step - loss: 0.0355 - mean_absolute_error: 0.0593 - mean_absolute_percentage_error: 13562.0449 - val_loss: 0.1501 - val_mean_absolute_error: 0.3039 - val_mean_absolute_percentage_error: 282.0492\n",
      "Epoch 2/200\n",
      "227/228 [============================>.] - ETA: 0s - loss: 0.0010 - mean_absolute_error: 0.0190 - mean_absolute_percentage_error: 2015.4868\n",
      "Epoch 00002: ReduceLROnPlateau reducing learning rate to 0.0009999999776482583.\n",
      "228/228 [==============================] - 2s 9ms/step - loss: 0.0010 - mean_absolute_error: 0.0190 - mean_absolute_percentage_error: 2013.3611 - val_loss: 0.1512 - val_mean_absolute_error: 0.3031 - val_mean_absolute_percentage_error: 279.6653\n",
      "Epoch 3/200\n",
      "228/228 [==============================] - 2s 9ms/step - loss: 8.1666e-04 - mean_absolute_error: 0.0152 - mean_absolute_percentage_error: 1363.8970 - val_loss: 0.1480 - val_mean_absolute_error: 0.2995 - val_mean_absolute_percentage_error: 277.4823\n",
      "Epoch 4/200\n",
      "228/228 [==============================] - 2s 9ms/step - loss: 7.9930e-04 - mean_absolute_error: 0.0148 - mean_absolute_percentage_error: 1570.5345 - val_loss: 0.1476 - val_mean_absolute_error: 0.2988 - val_mean_absolute_percentage_error: 276.9519\n",
      "Epoch 5/200\n",
      "226/228 [============================>.] - ETA: 0s - loss: 7.8306e-04 - mean_absolute_error: 0.0147 - mean_absolute_percentage_error: 1211.5455\n",
      "Epoch 00005: ReduceLROnPlateau reducing learning rate to 9.999999310821295e-05.\n",
      "228/228 [==============================] - 2s 9ms/step - loss: 7.8319e-04 - mean_absolute_error: 0.0147 - mean_absolute_percentage_error: 1205.2556 - val_loss: 0.1479 - val_mean_absolute_error: 0.2987 - val_mean_absolute_percentage_error: 276.9438\n",
      "Epoch 6/200\n",
      "226/228 [============================>.] - ETA: 0s - loss: 7.7198e-04 - mean_absolute_error: 0.0145 - mean_absolute_percentage_error: 1240.0631\n",
      "Epoch 00006: ReduceLROnPlateau reducing learning rate to 1e-05.\n",
      "228/228 [==============================] - 2s 9ms/step - loss: 7.6877e-04 - mean_absolute_error: 0.0145 - mean_absolute_percentage_error: 1233.7377 - val_loss: 0.1481 - val_mean_absolute_error: 0.2991 - val_mean_absolute_percentage_error: 277.1328\n",
      "Epoch 7/200\n",
      "228/228 [==============================] - 2s 9ms/step - loss: 7.6106e-04 - mean_absolute_error: 0.0144 - mean_absolute_percentage_error: 1213.2227 - val_loss: 0.1482 - val_mean_absolute_error: 0.2992 - val_mean_absolute_percentage_error: 277.2050\n",
      "Epoch 8/200\n",
      "228/228 [==============================] - 2s 10ms/step - loss: 7.5987e-04 - mean_absolute_error: 0.0144 - mean_absolute_percentage_error: 1241.4257 - val_loss: 0.1483 - val_mean_absolute_error: 0.2993 - val_mean_absolute_percentage_error: 277.2161\n",
      "Epoch 9/200\n",
      "228/228 [==============================] - 2s 10ms/step - loss: 7.5972e-04 - mean_absolute_error: 0.0143 - mean_absolute_percentage_error: 1169.0070 - val_loss: 0.1483 - val_mean_absolute_error: 0.2993 - val_mean_absolute_percentage_error: 277.2437\n"
     ]
    },
    {
     "data": {
      "text/plain": [
       "<tensorflow.python.keras.callbacks.History at 0x16e36cf7b50>"
      ]
     },
     "execution_count": 19,
     "metadata": {},
     "output_type": "execute_result"
    }
   ],
   "source": [
    "model.fit([trainX_H,trainX_D], trainY_D, validation_data=([testX_H,testX_D],testY_D),\n",
    "               epochs=200,callbacks=callbacks,verbose=1)"
   ]
  },
  {
   "cell_type": "code",
   "execution_count": 20,
   "metadata": {
    "colab": {
     "base_uri": "https://localhost:8080/"
    },
    "executionInfo": {
     "elapsed": 492,
     "status": "ok",
     "timestamp": 1612485608243,
     "user": {
      "displayName": "JUAN SEBASTIÁN PELÁEZ VILLA",
      "photoUrl": "https://lh3.googleusercontent.com/a-/AOh14GiSB4NpaPk5Safre8Mb9Q-nN-GcJxpXFSj-lOuyquGH72Z8EVJDqGJe5JF7uVwnq1w3l3mqHU7K-QCfYMM1HGl4YdNYol6B1nWvT_nTOgUpSzfK0Xu78oViS6NtAJQc_QsopyVeqoS-1USWo0uUtwV-A8_rLxouHn-loO3bdF86xbENlLlF6EBSFJN6OhBKLc_C_taeBThr8e4N0p7ThwyjJ6qCJfWPVbtuVLqUI484m33CGh7dKSFp7rKTt0oPSFS0eWQgidc3t2VSRcA8lN540KhdgSBLnYXGLIzT49onsdPGYIAUnBg1oL5jbjrfppnyySlig-6pXqIb0ginng7F31Og36iOf-2G9FYphOBbdhH_J2bH6iBxYuXPlNS_cgjtK0HvSLAyRUvtzlssBaPcWdENSHR2tn7vawjjB2WF6F3r50Yc9o4izKkeAFP3Mxer2XUBOzPdhN7yLicIpi77z46yLsHfXSHOhTCgILYwmxmCDIe3PiU9mAcROnUN5yCDYI1EgbHzg-LoryGMIfe6El3NHWyiy9boQQLaeyRkkWRzNCfl2OzIAECY5zgJsWvAvKCCVOgUi0gzVMQHdnEF1lorv33h-zG5bi25E_8WhBCIY2vpicisMglK2XtYOra1Gz9A2mJjr7LMPB6Fyo6XXMx470L3yZ-iT13-ESNogKm0JLRHKdCepFtgpLJz5W6X0J7o3pteYNoV1AWwdo1ofohA4S7kec4euZxriDvKCcunxmmVL6dxnN7bPbXrGvby9vw=s64",
      "userId": "00260520649597601100"
     },
     "user_tz": 300
    },
    "id": "K350MWwuuCov",
    "outputId": "bdcd30a1-1353-43c2-c9b8-9733e23e4c0d"
   },
   "outputs": [
    {
     "name": "stdout",
     "output_type": "stream",
     "text": [
      "3/3 [==============================] - 0s 5ms/step - loss: 0.1483 - mean_absolute_error: 0.2993 - mean_absolute_percentage_error: 277.2437\n"
     ]
    },
    {
     "data": {
      "text/plain": [
       "[0.1483273208141327, 0.2992960810661316, 277.24365234375]"
      ]
     },
     "execution_count": 20,
     "metadata": {},
     "output_type": "execute_result"
    }
   ],
   "source": [
    "model.evaluate(x=[testX_H,testX_D], y=testY_D)"
   ]
  },
  {
   "cell_type": "code",
   "execution_count": 21,
   "metadata": {
    "executionInfo": {
     "elapsed": 2255,
     "status": "ok",
     "timestamp": 1612485227653,
     "user": {
      "displayName": "JUAN SEBASTIÁN PELÁEZ VILLA",
      "photoUrl": "https://lh3.googleusercontent.com/a-/AOh14GiSB4NpaPk5Safre8Mb9Q-nN-GcJxpXFSj-lOuyquGH72Z8EVJDqGJe5JF7uVwnq1w3l3mqHU7K-QCfYMM1HGl4YdNYol6B1nWvT_nTOgUpSzfK0Xu78oViS6NtAJQc_QsopyVeqoS-1USWo0uUtwV-A8_rLxouHn-loO3bdF86xbENlLlF6EBSFJN6OhBKLc_C_taeBThr8e4N0p7ThwyjJ6qCJfWPVbtuVLqUI484m33CGh7dKSFp7rKTt0oPSFS0eWQgidc3t2VSRcA8lN540KhdgSBLnYXGLIzT49onsdPGYIAUnBg1oL5jbjrfppnyySlig-6pXqIb0ginng7F31Og36iOf-2G9FYphOBbdhH_J2bH6iBxYuXPlNS_cgjtK0HvSLAyRUvtzlssBaPcWdENSHR2tn7vawjjB2WF6F3r50Yc9o4izKkeAFP3Mxer2XUBOzPdhN7yLicIpi77z46yLsHfXSHOhTCgILYwmxmCDIe3PiU9mAcROnUN5yCDYI1EgbHzg-LoryGMIfe6El3NHWyiy9boQQLaeyRkkWRzNCfl2OzIAECY5zgJsWvAvKCCVOgUi0gzVMQHdnEF1lorv33h-zG5bi25E_8WhBCIY2vpicisMglK2XtYOra1Gz9A2mJjr7LMPB6Fyo6XXMx470L3yZ-iT13-ESNogKm0JLRHKdCepFtgpLJz5W6X0J7o3pteYNoV1AWwdo1ofohA4S7kec4euZxriDvKCcunxmmVL6dxnN7bPbXrGvby9vw=s64",
      "userId": "00260520649597601100"
     },
     "user_tz": 300
    },
    "id": "6ktCmumpuCow"
   },
   "outputs": [],
   "source": [
    "trainPredict,trainY,testPredict,testY = make_predictions(model,scaler_D_x,scaler_D_y,scaler_H_x,scaler_H_y,\n",
    "                                                                              trainX_D, trainY_D, testX_D, testY_D,\n",
    "                                                                              trainX_H, trainY_H, testX_H, testY_H,\n",
    "                                                                              n_steps_out,len_output_features)"
   ]
  },
  {
   "cell_type": "code",
   "execution_count": 22,
   "metadata": {
    "colab": {
     "base_uri": "https://localhost:8080/"
    },
    "executionInfo": {
     "elapsed": 1014,
     "status": "ok",
     "timestamp": 1612485230142,
     "user": {
      "displayName": "JUAN SEBASTIÁN PELÁEZ VILLA",
      "photoUrl": "https://lh3.googleusercontent.com/a-/AOh14GiSB4NpaPk5Safre8Mb9Q-nN-GcJxpXFSj-lOuyquGH72Z8EVJDqGJe5JF7uVwnq1w3l3mqHU7K-QCfYMM1HGl4YdNYol6B1nWvT_nTOgUpSzfK0Xu78oViS6NtAJQc_QsopyVeqoS-1USWo0uUtwV-A8_rLxouHn-loO3bdF86xbENlLlF6EBSFJN6OhBKLc_C_taeBThr8e4N0p7ThwyjJ6qCJfWPVbtuVLqUI484m33CGh7dKSFp7rKTt0oPSFS0eWQgidc3t2VSRcA8lN540KhdgSBLnYXGLIzT49onsdPGYIAUnBg1oL5jbjrfppnyySlig-6pXqIb0ginng7F31Og36iOf-2G9FYphOBbdhH_J2bH6iBxYuXPlNS_cgjtK0HvSLAyRUvtzlssBaPcWdENSHR2tn7vawjjB2WF6F3r50Yc9o4izKkeAFP3Mxer2XUBOzPdhN7yLicIpi77z46yLsHfXSHOhTCgILYwmxmCDIe3PiU9mAcROnUN5yCDYI1EgbHzg-LoryGMIfe6El3NHWyiy9boQQLaeyRkkWRzNCfl2OzIAECY5zgJsWvAvKCCVOgUi0gzVMQHdnEF1lorv33h-zG5bi25E_8WhBCIY2vpicisMglK2XtYOra1Gz9A2mJjr7LMPB6Fyo6XXMx470L3yZ-iT13-ESNogKm0JLRHKdCepFtgpLJz5W6X0J7o3pteYNoV1AWwdo1ofohA4S7kec4euZxriDvKCcunxmmVL6dxnN7bPbXrGvby9vw=s64",
      "userId": "00260520649597601100"
     },
     "user_tz": 300
    },
    "id": "XPNmfpavuCow",
    "outputId": "f4b343f7-13a3-4a4b-af83-80d8b864e7c6"
   },
   "outputs": [
    {
     "data": {
      "text/plain": [
       "((174528, 1), (174528, 1), (2184, 1), (2184, 1))"
      ]
     },
     "execution_count": 22,
     "metadata": {},
     "output_type": "execute_result"
    }
   ],
   "source": [
    "trainPredict.shape,trainY.shape,testPredict.shape,testY.shape"
   ]
  },
  {
   "cell_type": "code",
   "execution_count": 23,
   "metadata": {
    "colab": {
     "base_uri": "https://localhost:8080/"
    },
    "executionInfo": {
     "elapsed": 1343,
     "status": "ok",
     "timestamp": 1612485230885,
     "user": {
      "displayName": "JUAN SEBASTIÁN PELÁEZ VILLA",
      "photoUrl": "https://lh3.googleusercontent.com/a-/AOh14GiSB4NpaPk5Safre8Mb9Q-nN-GcJxpXFSj-lOuyquGH72Z8EVJDqGJe5JF7uVwnq1w3l3mqHU7K-QCfYMM1HGl4YdNYol6B1nWvT_nTOgUpSzfK0Xu78oViS6NtAJQc_QsopyVeqoS-1USWo0uUtwV-A8_rLxouHn-loO3bdF86xbENlLlF6EBSFJN6OhBKLc_C_taeBThr8e4N0p7ThwyjJ6qCJfWPVbtuVLqUI484m33CGh7dKSFp7rKTt0oPSFS0eWQgidc3t2VSRcA8lN540KhdgSBLnYXGLIzT49onsdPGYIAUnBg1oL5jbjrfppnyySlig-6pXqIb0ginng7F31Og36iOf-2G9FYphOBbdhH_J2bH6iBxYuXPlNS_cgjtK0HvSLAyRUvtzlssBaPcWdENSHR2tn7vawjjB2WF6F3r50Yc9o4izKkeAFP3Mxer2XUBOzPdhN7yLicIpi77z46yLsHfXSHOhTCgILYwmxmCDIe3PiU9mAcROnUN5yCDYI1EgbHzg-LoryGMIfe6El3NHWyiy9boQQLaeyRkkWRzNCfl2OzIAECY5zgJsWvAvKCCVOgUi0gzVMQHdnEF1lorv33h-zG5bi25E_8WhBCIY2vpicisMglK2XtYOra1Gz9A2mJjr7LMPB6Fyo6XXMx470L3yZ-iT13-ESNogKm0JLRHKdCepFtgpLJz5W6X0J7o3pteYNoV1AWwdo1ofohA4S7kec4euZxriDvKCcunxmmVL6dxnN7bPbXrGvby9vw=s64",
      "userId": "00260520649597601100"
     },
     "user_tz": 300
    },
    "id": "Mo4ReT-SuCow",
    "outputId": "96327e8a-61ab-4ca6-b9b7-85786e94ba6d"
   },
   "outputs": [
    {
     "name": "stdout",
     "output_type": "stream",
     "text": [
      "Train Score: 77.15 RMSE\n",
      "Train Score: 0.36 MAPE\n",
      "Test Score: 1078.37 RMSE\n",
      "Test Score: 2.55 MAPE\n"
     ]
    }
   ],
   "source": [
    "trainScore,trainMAPE,testScore,testMAPE = get_metrics(trainY,trainPredict,testY,testPredict)"
   ]
  },
  {
   "cell_type": "code",
   "execution_count": 24,
   "metadata": {
    "id": "1TN1kvGSuCow"
   },
   "outputs": [
    {
     "data": {
      "image/png": "[encoded data removed]",
      "text/plain": [
       "<Figure size 1080x504 with 1 Axes>"
      ]
     },
     "metadata": {
      "needs_background": "light"
     },
     "output_type": "display_data"
    }
   ],
   "source": [
    "Nt = trainPredict.shape[0] + testPredict.shape[0]\n",
    "trainPredictPlot = np.zeros((Nt,1))\n",
    "trainPredictPlot[:,:] = np.nan\n",
    "trainPredictPlot[:len(trainPredict), :] = np.concatenate((dataset_y_D[0].reshape(1,1),trainPredict[:-1]))\n",
    "\n",
    "# shift test predictions for plotting\n",
    "testPredictPlot = np.zeros((Nt,1))\n",
    "testPredictPlot[:, :] = np.nan\n",
    "testPredictPlot[len(trainPredict):Nt, :] = testPredict\n",
    "\n",
    "plt.figure(figsize=(15,7))\n",
    "plt.plot(np.concatenate((trainY,testY)),label='Original data')\n",
    "plt.plot(trainPredictPlot,label='Training predictions')\n",
    "plt.plot(testPredictPlot,label='Test prediction')\n",
    "plt.legend()\n",
    "plt.show()"
   ]
  },
  {
   "cell_type": "code",
   "execution_count": 25,
   "metadata": {
    "id": "h8apbS4lXsPm"
   },
   "outputs": [
    {
     "data": {
      "image/png": "[encoded data removed]",
      "text/plain": [
       "<Figure size 1080x504 with 1 Axes>"
      ]
     },
     "metadata": {
      "needs_background": "light"
     },
     "output_type": "display_data"
    }
   ],
   "source": [
    "# shift test predictions for plotting\n",
    "testOriginalPlot = np.zeros((Nt,1))\n",
    "testOriginalPlot[:, :] = np.nan\n",
    "testOriginalPlot[len(trainPredict):Nt, :] = testY\n",
    "\n",
    "# shift test predictions for plotting\n",
    "testPredictPlot = np.zeros((Nt,1))\n",
    "testPredictPlot[:, :] = np.nan\n",
    "testPredictPlot[len(trainPredict):Nt, :] = testPredict\n",
    "\n",
    "plt.figure(figsize=(15,7))\n",
    "plt.plot(testOriginalPlot,label='Original data')\n",
    "plt.plot(testPredictPlot,label='Test prediction')\n",
    "plt.legend()\n",
    "plt.show()"
   ]
  }
 ],
 "metadata": {
  "accelerator": "GPU",
  "colab": {
   "collapsed_sections": [],
   "name": "Modelo Completo - Data Diaria y Horaria (Sin Imagenes).ipynb",
   "provenance": []
  },
  "kernelspec": {
   "display_name": "Python 3",
   "language": "python",
   "name": "python3"
  },
  "language_info": {
   "codemirror_mode": {
    "name": "ipython",
    "version": 3
   },
   "file_extension": ".py",
   "mimetype": "text/x-python",
   "name": "python",
   "nbconvert_exporter": "python",
   "pygments_lexer": "ipython3",
   "version": "3.8.3"
  }
 },
 "nbformat": 4,
 "nbformat_minor": 1
}
