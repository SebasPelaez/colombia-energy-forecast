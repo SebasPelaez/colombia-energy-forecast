{
 "cells": [
  {
   "cell_type": "code",
   "execution_count": 1,
   "metadata": {},
   "outputs": [],
   "source": [
    "import os\n",
    "import numpy as np\n",
    "import pandas as pd\n",
    "import tensorflow as tf\n",
    "import time\n",
    "\n",
    "import CustomHyperModel\n",
    "import EnergyPricesLibrary as Ep\n",
    "\n",
    "from kerastuner.tuners import BayesianOptimization\n",
    "\n",
    "%load_ext autoreload\n",
    "%autoreload 2"
   ]
  },
  {
   "cell_type": "code",
   "execution_count": 2,
   "metadata": {},
   "outputs": [],
   "source": [
    "def make_predictions(model,scaler_y,trainX,trainY,testX,testY,n_steps_out,len_output_features):\n",
    "    \n",
    "    # make predictions\n",
    "    trainPredict = model.predict(trainX)\n",
    "    trainPredict = trainPredict.reshape(trainPredict.shape[0]*n_steps_out,len_output_features)\n",
    "    testPredict  = model.predict(testX)\n",
    "    testPredict  = testPredict.reshape(testPredict.shape[0]*n_steps_out,len_output_features)\n",
    "    \n",
    "    # invert predictions\n",
    "    trainPredict = scaler_y.inverse_transform(trainPredict)\n",
    "    trainY_ = scaler_y.inverse_transform(trainY.reshape(trainY.shape[0]*n_steps_out,len_output_features))\n",
    "    \n",
    "    testPredict = scaler_y.inverse_transform(testPredict)\n",
    "    testY_ = scaler_y.inverse_transform(testY.reshape(testY.shape[0]*n_steps_out,len_output_features))\n",
    "        \n",
    "    return trainPredict,trainY_,testPredict,testY_\n",
    "\n",
    "def get_metrics(trainY,trainPredict,testY,testPredict):\n",
    "    \n",
    "    trainMAPE  = Ep.MAPE(trainPredict,trainY)\n",
    "    testMAPE  = Ep.MAPE(testPredict,testY)\n",
    "    \n",
    "    train_sMAPE  = Ep.sMAPE(trainY,trainPredict)\n",
    "    test_sMAPE  = Ep.sMAPE(testY,testPredict)\n",
    "    \n",
    "    return trainMAPE,testMAPE,train_sMAPE,test_sMAPE"
   ]
  },
  {
   "cell_type": "markdown",
   "metadata": {},
   "source": [
    "# DATASET"
   ]
  },
  {
   "cell_type": "markdown",
   "metadata": {},
   "source": [
    "## Load Dataset"
   ]
  },
  {
   "cell_type": "code",
   "execution_count": 3,
   "metadata": {},
   "outputs": [],
   "source": [
    "data_horaria_path = os.path.join('..','..','dataset','Series','Sabanas','Original','Sabana_Datos_Horaria.xlsx')\n",
    "data_horaria = pd.read_excel(data_horaria_path)\n",
    "data_horaria = data_horaria.set_index('Fecha')"
   ]
  },
  {
   "cell_type": "code",
   "execution_count": 4,
   "metadata": {},
   "outputs": [],
   "source": [
    "precio_bolsa_path = os.path.join('..','..','dataset','Series','Sabanas','Original','Sabana_Datos_Precio_Bolsa.xlsx')\n",
    "precio_bolsa = pd.read_excel(precio_bolsa_path)\n",
    "precio_bolsa = precio_bolsa.set_index('Fecha')"
   ]
  },
  {
   "cell_type": "code",
   "execution_count": 5,
   "metadata": {},
   "outputs": [],
   "source": [
    "nombre_series_horaria = data_horaria.columns"
   ]
  },
  {
   "cell_type": "code",
   "execution_count": 6,
   "metadata": {},
   "outputs": [
    {
     "data": {
      "text/plain": [
       "((177480, 86), (177480, 85), (177480, 1))"
      ]
     },
     "execution_count": 6,
     "metadata": {},
     "output_type": "execute_result"
    }
   ],
   "source": [
    "data_horaria_full = pd.concat([data_horaria,precio_bolsa],axis=1)\n",
    "data_horaria_full.shape,data_horaria.shape,precio_bolsa.shape"
   ]
  },
  {
   "cell_type": "markdown",
   "metadata": {},
   "source": [
    "## Build Window"
   ]
  },
  {
   "cell_type": "code",
   "execution_count": 7,
   "metadata": {},
   "outputs": [],
   "source": [
    "d = 'All'\n",
    "start_date_train = '2000-02-01'\n",
    "start_date_val = '2020-01-01'\n",
    "start_date_test = '2020-04-01'\n",
    "end_date_test = '2020-05-01'\n",
    "n_steps_out=24\n",
    "output_columns = ['$kWh']"
   ]
  },
  {
   "cell_type": "code",
   "execution_count": 8,
   "metadata": {},
   "outputs": [],
   "source": [
    "n_steps_in = 720\n",
    "overlap = 24\n",
    "inputs_columns = nombre_series_horaria\n",
    "\n",
    "len_input_features = len(inputs_columns)\n",
    "len_output_features = len(output_columns)\n",
    "\n",
    "results = Ep.SplitTimeseriesMultipleTimesBackAhead(df=data_horaria_full,\n",
    "                                                   day=d,\n",
    "                                                   start_date_train=start_date_train,start_date_val=start_date_val,\n",
    "                                                   start_date_test=start_date_test,end_date_test=end_date_test,\n",
    "                                                   n_steps_out=n_steps_out,n_steps_in=n_steps_in,overlap=overlap,\n",
    "                                                   input_features=inputs_columns,output_features=output_columns)\n",
    "\n",
    "trainX_H,trainY_H,valX_H,valY_H,testX_H,testY_H,scaler_H_x,scaler_H_y,df2_H,dataset_H = results"
   ]
  },
  {
   "cell_type": "code",
   "execution_count": 9,
   "metadata": {},
   "outputs": [
    {
     "data": {
      "text/plain": [
       "((7244, 720, 85),\n",
       " (7244, 24, 1),\n",
       " (91, 720, 85),\n",
       " (91, 24, 1),\n",
       " (30, 720, 85),\n",
       " (30, 24, 1))"
      ]
     },
     "execution_count": 9,
     "metadata": {},
     "output_type": "execute_result"
    }
   ],
   "source": [
    "trainX_H.shape,trainY_H.shape,valX_H.shape,valY_H.shape,testX_H.shape,testY_H.shape"
   ]
  },
  {
   "cell_type": "code",
   "execution_count": 10,
   "metadata": {},
   "outputs": [],
   "source": [
    "callback_reduce_lr = tf.keras.callbacks.ReduceLROnPlateau(monitor='val_loss',\n",
    "                                                          factor=0.1,\n",
    "                                                          min_lr=1e-5,\n",
    "                                                          patience=5,\n",
    "                                                          verbose=1)\n",
    "\n",
    "early_stopping = tf.keras.callbacks.EarlyStopping(monitor='val_loss',\n",
    "                                                  patience=10,\n",
    "                                                  mode='min')\n",
    "\n",
    "callbacks = [callback_reduce_lr,early_stopping]"
   ]
  },
  {
   "cell_type": "code",
   "execution_count": 11,
   "metadata": {},
   "outputs": [],
   "source": [
    "INPUT_SHAPE = (n_steps_in,len_input_features)\n",
    "\n",
    "arquitectura31 = CustomHyperModel.Arquitectura31(input_shape=INPUT_SHAPE,n_steps_out=n_steps_out)\n",
    "arquitectura32 = CustomHyperModel.Arquitectura32(input_shape=INPUT_SHAPE,n_steps_out=n_steps_out)\n",
    "arquitectura33 = CustomHyperModel.Arquitectura33(input_shape=INPUT_SHAPE,n_steps_out=n_steps_out)\n",
    "arquitectura34 = CustomHyperModel.Arquitectura34(input_shape=INPUT_SHAPE,n_steps_out=n_steps_out)\n",
    "arquitectura35 = CustomHyperModel.Arquitectura35(input_shape=INPUT_SHAPE,n_steps_out=n_steps_out)\n",
    "arquitectura36 = CustomHyperModel.Arquitectura36(input_shape=INPUT_SHAPE,n_steps_out=n_steps_out)\n",
    "arquitectura37 = CustomHyperModel.Arquitectura37(input_shape=INPUT_SHAPE,n_steps_out=n_steps_out)\n",
    "arquitectura38 = CustomHyperModel.Arquitectura38(input_shape=INPUT_SHAPE,n_steps_out=n_steps_out)\n",
    "\n",
    "arquitectura39 = CustomHyperModel.Arquitectura39(input_shape=INPUT_SHAPE,n_steps_out=n_steps_out)\n",
    "arquitectura40 = CustomHyperModel.Arquitectura40(input_shape=INPUT_SHAPE,n_steps_out=n_steps_out)\n",
    "arquitectura41 = CustomHyperModel.Arquitectura41(input_shape=INPUT_SHAPE,n_steps_out=n_steps_out)\n",
    "arquitectura42 = CustomHyperModel.Arquitectura42(input_shape=INPUT_SHAPE,n_steps_out=n_steps_out)\n",
    "arquitectura43 = CustomHyperModel.Arquitectura43(input_shape=INPUT_SHAPE,n_steps_out=n_steps_out)\n",
    "arquitectura44 = CustomHyperModel.Arquitectura44(input_shape=INPUT_SHAPE,n_steps_out=n_steps_out)\n",
    "arquitectura45 = CustomHyperModel.Arquitectura45(input_shape=INPUT_SHAPE,n_steps_out=n_steps_out)\n",
    "arquitectura46 = CustomHyperModel.Arquitectura46(input_shape=INPUT_SHAPE,n_steps_out=n_steps_out)"
   ]
  },
  {
   "cell_type": "code",
   "execution_count": 12,
   "metadata": {},
   "outputs": [],
   "source": [
    "arq_list = [arquitectura31,arquitectura32,arquitectura33,arquitectura34,\n",
    "            arquitectura35,arquitectura36,arquitectura37,arquitectura38,\n",
    "            arquitectura39,arquitectura40,arquitectura41,arquitectura42,\n",
    "            arquitectura43,arquitectura44,arquitectura45,arquitectura46]"
   ]
  },
  {
   "cell_type": "code",
   "execution_count": null,
   "metadata": {},
   "outputs": [
    {
     "name": "stdout",
     "output_type": "stream",
     "text": [
      "INFO:tensorflow:Reloading Oracle from existing project my_dir\\31\\oracle.json\n",
      "Search space summary\n",
      "Default search space size: 10\n",
      "lstm_units_layer_1 (Int)\n",
      "{'default': 128, 'conditions': [], 'min_value': 64, 'max_value': 512, 'step': 64, 'sampling': None}\n",
      "kernel_regularizer_layer_1 (Float)\n",
      "{'default': 0.01, 'conditions': [], 'min_value': 0.0, 'max_value': 0.105, 'step': 0.0075, 'sampling': None}\n",
      "dropout_regularizer_layer_1 (Float)\n",
      "{'default': 0, 'conditions': [], 'min_value': 0.0, 'max_value': 0.99, 'step': 0.09, 'sampling': None}\n",
      "lstm_units_layer_2 (Int)\n",
      "{'default': 128, 'conditions': [], 'min_value': 64, 'max_value': 512, 'step': 64, 'sampling': None}\n",
      "kernel_regularizer_layer_2 (Float)\n",
      "{'default': 0.01, 'conditions': [], 'min_value': 0.0, 'max_value': 0.105, 'step': 0.0075, 'sampling': None}\n",
      "dropout_regularizer_layer_2 (Float)\n",
      "{'default': 0, 'conditions': [], 'min_value': 0.0, 'max_value': 0.99, 'step': 0.09, 'sampling': None}\n",
      "dense_layer (Int)\n",
      "{'default': 48, 'conditions': [], 'min_value': 24, 'max_value': 120, 'step': 24, 'sampling': None}\n",
      "dense_layer_activation (Choice)\n",
      "{'default': 'relu', 'conditions': [], 'values': ['relu', 'tanh', 'sigmoid'], 'ordered': False}\n",
      "dropout_dense (Float)\n",
      "{'default': 0, 'conditions': [], 'min_value': 0.0, 'max_value': 0.99, 'step': 0.09, 'sampling': None}\n",
      "learning_rate (Float)\n",
      "{'default': 0.001, 'conditions': [], 'min_value': 0.0001, 'max_value': 0.01, 'step': None, 'sampling': 'log'}\n",
      "\n",
      "Search: Running Trial #1\n",
      "\n",
      "Hyperparameter    |Value             |Best Value So Far \n",
      "lstm_units_layer_1|256               |?                 \n",
      "kernel_regulari...|0.075             |?                 \n",
      "dropout_regular...|0.27              |?                 \n",
      "lstm_units_layer_2|192               |?                 \n",
      "kernel_regulari...|0.045             |?                 \n",
      "dropout_regular...|0.36              |?                 \n",
      "dense_layer       |24                |?                 \n",
      "dense_layer_act...|sigmoid           |?                 \n",
      "dropout_dense     |0.45              |?                 \n",
      "learning_rate     |0.0059757         |?                 \n",
      "\n",
      "Epoch 1/200\n",
      "227/227 [==============================] - 43s 190ms/step - loss: 4872.5259 - mean_absolute_error: 43.8124 - mean_absolute_percentage_error: 4032014.2500 - symmetric_mean_absolute_percentage_error: 4794.9648 - val_loss: 4814.5068 - val_mean_absolute_error: 25.4168 - val_mean_absolute_percentage_error: 23565.9453 - val_symmetric_mean_absolute_percentage_error: 4800.0000\n",
      "Epoch 2/200\n",
      "227/227 [==============================] - 42s 186ms/step - loss: 4811.1270 - mean_absolute_error: 25.5061 - mean_absolute_percentage_error: 3767217.0000 - symmetric_mean_absolute_percentage_error: 4800.0000 - val_loss: 4809.4966 - val_mean_absolute_error: 25.5160 - val_mean_absolute_percentage_error: 23668.1953 - val_symmetric_mean_absolute_percentage_error: 4800.0000\n",
      "Epoch 3/200\n",
      "227/227 [==============================] - 42s 186ms/step - loss: 4809.1567 - mean_absolute_error: 25.9882 - mean_absolute_percentage_error: 3878955.0000 - symmetric_mean_absolute_percentage_error: 4800.0000 - val_loss: 4808.9292 - val_mean_absolute_error: 26.3179 - val_mean_absolute_percentage_error: 24505.4883 - val_symmetric_mean_absolute_percentage_error: 4800.0000\n",
      "Epoch 4/200\n",
      "227/227 [==============================] - 42s 185ms/step - loss: 4808.9888 - mean_absolute_error: 29.4302 - mean_absolute_percentage_error: 3946850.7500 - symmetric_mean_absolute_percentage_error: 4799.9780 - val_loss: 4809.0767 - val_mean_absolute_error: 30.5954 - val_mean_absolute_percentage_error: 28261.2422 - val_symmetric_mean_absolute_percentage_error: 4800.0000\n",
      "Epoch 5/200\n",
      "227/227 [==============================] - 42s 184ms/step - loss: 4809.1050 - mean_absolute_error: 30.4385 - mean_absolute_percentage_error: 4567158.5000 - symmetric_mean_absolute_percentage_error: 4800.0000 - val_loss: 4809.1909 - val_mean_absolute_error: 30.5462 - val_mean_absolute_percentage_error: 28179.7793 - val_symmetric_mean_absolute_percentage_error: 4800.0000\n",
      "Epoch 6/200\n",
      "227/227 [==============================] - 42s 184ms/step - loss: 4809.2588 - mean_absolute_error: 30.6985 - mean_absolute_percentage_error: 4685794.5000 - symmetric_mean_absolute_percentage_error: 4800.0000 - val_loss: 4809.3374 - val_mean_absolute_error: 30.8867 - val_mean_absolute_percentage_error: 28466.4199 - val_symmetric_mean_absolute_percentage_error: 4800.0000\n",
      "Epoch 7/200\n",
      "227/227 [==============================] - 42s 184ms/step - loss: 4809.3970 - mean_absolute_error: 30.9006 - mean_absolute_percentage_error: 4653586.5000 - symmetric_mean_absolute_percentage_error: 4800.0000 - val_loss: 4809.4585 - val_mean_absolute_error: 31.1040 - val_mean_absolute_percentage_error: 28719.2480 - val_symmetric_mean_absolute_percentage_error: 4800.0000\n",
      "Epoch 8/200\n",
      "227/227 [==============================] - ETA: 0s - loss: 4809.5220 - mean_absolute_error: 31.1722 - mean_absolute_percentage_error: 4682915.5000 - symmetric_mean_absolute_percentage_error: 4800.0000\n",
      "Epoch 00008: ReduceLROnPlateau reducing learning rate to 0.0005975700449198485.\n",
      "227/227 [==============================] - 42s 184ms/step - loss: 4809.5220 - mean_absolute_error: 31.1722 - mean_absolute_percentage_error: 4682915.5000 - symmetric_mean_absolute_percentage_error: 4800.0000 - val_loss: 4809.5601 - val_mean_absolute_error: 31.1649 - val_mean_absolute_percentage_error: 28775.7852 - val_symmetric_mean_absolute_percentage_error: 4800.0000\n",
      "Epoch 9/200\n",
      "227/227 [==============================] - 42s 186ms/step - loss: 4801.3896 - mean_absolute_error: 31.0586 - mean_absolute_percentage_error: 4710439.0000 - symmetric_mean_absolute_percentage_error: 4800.0000 - val_loss: 4801.0381 - val_mean_absolute_error: 31.1263 - val_mean_absolute_percentage_error: 28739.3379 - val_symmetric_mean_absolute_percentage_error: 4800.0000rcentage_erro - ETA: 13s - loss: 4801.5659 \n",
      "Epoch 10/200\n",
      "227/227 [==============================] - 42s 184ms/step - loss: 4801.0430 - mean_absolute_error: 31.0336 - mean_absolute_percentage_error: 4816954.0000 - symmetric_mean_absolute_percentage_error: 4800.0000 - val_loss: 4801.0425 - val_mean_absolute_error: 31.0971 - val_mean_absolute_percentage_error: 28711.6484 - val_symmetric_mean_absolute_percentage_error: 4800.0000\n",
      "Epoch 11/200\n",
      "121/227 [==============>...............] - ETA: 19s - loss: 4801.0503 - mean_absolute_error: 31.0267 - mean_absolute_percentage_error: 6983272.0000 - symmetric_mean_absolute_percentage_error: 4800.0000"
     ]
    }
   ],
   "source": [
    "arq_idx = 31\n",
    "arq_best_models = dict()\n",
    "\n",
    "for arq in arq_list:\n",
    "    \n",
    "    bayesian_tuner = BayesianOptimization(\n",
    "        arq,\n",
    "        objective='val_loss',\n",
    "        num_initial_points=1,\n",
    "        max_trials=10,\n",
    "        directory='my_dir',\n",
    "        project_name=str(arq_idx)\n",
    "    )\n",
    "    \n",
    "    # Overview of the task\n",
    "    bayesian_tuner.search_space_summary()\n",
    "    \n",
    "    # Performs the hyperparameter tuning\n",
    "    search_start = time.time()\n",
    "    bayesian_tuner.search(x=trainX_H,y=trainY_H,\n",
    "                      epochs=200,\n",
    "                      validation_data=(valX_H,valY_H),\n",
    "                      callbacks=callbacks)\n",
    "    search_end = time.time()\n",
    "    elapsed_time = search_end - search_start\n",
    "    \n",
    "    print('Tiempo Total Transcurrido {}'.format(elapsed_time))\n",
    "        \n",
    "    dict_key = 'Arquitectura {}'.format(arq_idx)\n",
    "\n",
    "    arq_best_models[dict_key] = dict()\n",
    "    bs_model = bayesian_tuner.oracle.get_best_trials(1)[0]\n",
    "    \n",
    "    model = bayesian_tuner.get_best_models(num_models=1)[0]\n",
    "    \n",
    "    trainPredict,trainY_true,testPredict,testY_true = make_predictions(model,scaler_H_y,trainX_H,trainY_H,valX_H,valY_H,\n",
    "                                                                       n_steps_out,len_output_features)\n",
    "    \n",
    "    trainMAPE,testMAPE,train_sMAPE,test_sMAPE = get_metrics(trainY_true,trainPredict,testY_true,testPredict)\n",
    "\n",
    "    arq_best_models[dict_key]['Score'] = bs_model.score\n",
    "    arq_best_models[dict_key]['Tiempo Scaneo'] = elapsed_time\n",
    "    arq_best_models[dict_key]['Mape Train'] = trainMAPE\n",
    "    arq_best_models[dict_key]['Mape Test'] = testMAPE\n",
    "    arq_best_models[dict_key]['sMape Train'] = train_sMAPE\n",
    "    arq_best_models[dict_key]['sMape Test'] = test_sMAPE\n",
    "\n",
    "    if bs_model.hyperparameters.values:\n",
    "        for hp, value in bs_model.hyperparameters.values.items():\n",
    "            arq_best_models[dict_key][hp] = value\n",
    "    \n",
    "    arq_idx += 1"
   ]
  },
  {
   "cell_type": "code",
   "execution_count": null,
   "metadata": {},
   "outputs": [],
   "source": [
    "import json\n",
    "with open('BestModels-H720-V7.json', 'w') as outfile:\n",
    "    json.dump(arq_best_models, outfile)"
   ]
  },
  {
   "cell_type": "code",
   "execution_count": null,
   "metadata": {},
   "outputs": [],
   "source": [
    "arq_best_models"
   ]
  }
 ],
 "metadata": {
  "kernelspec": {
   "display_name": "Proyecto Grados",
   "language": "python",
   "name": "proyecto-grados"
  },
  "language_info": {
   "codemirror_mode": {
    "name": "ipython",
    "version": 3
   },
   "file_extension": ".py",
   "mimetype": "text/x-python",
   "name": "python",
   "nbconvert_exporter": "python",
   "pygments_lexer": "ipython3",
   "version": "3.8.3"
  }
 },
 "nbformat": 4,
 "nbformat_minor": 4
}
