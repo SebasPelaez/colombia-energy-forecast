{
 "cells": [
  {
   "cell_type": "code",
   "execution_count": 1,
   "metadata": {},
   "outputs": [],
   "source": [
    "import os\n",
    "import numpy as np\n",
    "import pandas as pd\n",
    "import tensorflow as tf\n",
    "import time\n",
    "\n",
    "import CustomHyperModel\n",
    "import CustomWindowGenerator\n",
    "import EnergyPricesLibrary as Ep\n",
    "\n",
    "from kerastuner.tuners import BayesianOptimization\n",
    "\n",
    "%load_ext autoreload\n",
    "%autoreload 2"
   ]
  },
  {
   "cell_type": "markdown",
   "metadata": {},
   "source": [
    "# DATASET"
   ]
  },
  {
   "cell_type": "markdown",
   "metadata": {},
   "source": [
    "## Load Dataset"
   ]
  },
  {
   "cell_type": "code",
   "execution_count": 2,
   "metadata": {},
   "outputs": [],
   "source": [
    "data_horaria_path = os.path.join('..','..','dataset','Series','Sabanas','Original','Sabana_Datos_Horaria.xlsx')\n",
    "data_horaria = pd.read_excel(data_horaria_path)\n",
    "data_horaria = data_horaria.set_index('Fecha')"
   ]
  },
  {
   "cell_type": "code",
   "execution_count": 3,
   "metadata": {},
   "outputs": [],
   "source": [
    "precio_bolsa_path = os.path.join('..','..','dataset','Series','Sabanas','Original','Sabana_Datos_Precio_Bolsa.xlsx')\n",
    "precio_bolsa = pd.read_excel(precio_bolsa_path)\n",
    "precio_bolsa = precio_bolsa.set_index('Fecha')"
   ]
  },
  {
   "cell_type": "code",
   "execution_count": 4,
   "metadata": {},
   "outputs": [],
   "source": [
    "nombre_series = data_horaria.columns"
   ]
  },
  {
   "cell_type": "code",
   "execution_count": 5,
   "metadata": {},
   "outputs": [
    {
     "data": {
      "text/plain": [
       "((176760, 85), (176760, 84), (176760, 1))"
      ]
     },
     "execution_count": 5,
     "metadata": {},
     "output_type": "execute_result"
    }
   ],
   "source": [
    "full_df = pd.concat([data_horaria,precio_bolsa],axis=1)\n",
    "full_df.shape,data_horaria.shape,precio_bolsa.shape"
   ]
  },
  {
   "cell_type": "markdown",
   "metadata": {},
   "source": [
    "## Build Window"
   ]
  },
  {
   "cell_type": "code",
   "execution_count": 6,
   "metadata": {},
   "outputs": [
    {
     "data": {
      "text/plain": [
       "((7272, 48, 84), (7272, 24, 1), (91, 48, 84), (91, 24, 1))"
      ]
     },
     "execution_count": 6,
     "metadata": {},
     "output_type": "execute_result"
    }
   ],
   "source": [
    "d = 'All'\n",
    "IndLastMonth = '2020-01-01'\n",
    "n_steps_in = 48\n",
    "n_steps_out=24\n",
    "overlap = 24\n",
    "inputs_columns = nombre_series\n",
    "output_columns = ['$kWh']\n",
    "\n",
    "len_input_features = len(inputs_columns)\n",
    "len_output_features = len(output_columns)\n",
    "\n",
    "trainX, trainY, testX, testY, scaler_x, scaler_y, df2, dataset = Ep.SplitTimeseriesMultipleTimesBackAhead(full_df,\n",
    "                                                                                              day = d, \n",
    "                                                                                              ValData = 'index', \n",
    "                                                                                              TimeAhead = IndLastMonth, \n",
    "                                                                                              n_steps_out= n_steps_out, \n",
    "                                                                                              n_steps_in = n_steps_in, \n",
    "                                                                                              overlap = overlap,\n",
    "                                                                                              input_features=inputs_columns,\n",
    "                                                                                              output_features=output_columns)\n",
    "trainX.shape,trainY.shape,testX.shape,testY.shape"
   ]
  },
  {
   "cell_type": "code",
   "execution_count": 7,
   "metadata": {},
   "outputs": [],
   "source": [
    "\"\"\"\n",
    "log_dir = os.path.join('logs','Optimización')\n",
    "if not os.path.exists(log_dir):\n",
    "    os.makedirs(log_dir)\n",
    "callback_tensorboard = tf.keras.callbacks.TensorBoard(log_dir=log_dir,\n",
    "                                                          histogram_freq=2,\n",
    "                                                          write_graph=False,\n",
    "                                                          update_freq='epoch')\n",
    "\"\"\"\n",
    "\n",
    "callback_reduce_lr = tf.keras.callbacks.ReduceLROnPlateau(monitor='val_loss',\n",
    "                                                          factor=0.1,\n",
    "                                                          min_lr=1e-4,\n",
    "                                                          patience=0,\n",
    "                                                          verbose=1)\n",
    "\n",
    "early_stopping = tf.keras.callbacks.EarlyStopping(monitor='val_loss',\n",
    "                                                  patience=5,\n",
    "                                                  mode='min')\n",
    "\n",
    "#callbacks = [callback_tensorboard,callback_reduce_lr,early_stopping]\n",
    "callbacks = [callback_reduce_lr,early_stopping]"
   ]
  },
  {
   "cell_type": "code",
   "execution_count": 8,
   "metadata": {},
   "outputs": [],
   "source": [
    "INPUT_SHAPE = (n_steps_in,len_input_features)\n",
    "\n",
    "arquitectura16 = CustomHyperModel.Arquitectura16(input_shape=INPUT_SHAPE,output_units=len_output_features,n_steps_out=n_steps_out)\n",
    "arquitectura17 = CustomHyperModel.Arquitectura17(input_shape=INPUT_SHAPE,output_units=len_output_features,n_steps_out=n_steps_out)\n",
    "arquitectura18 = CustomHyperModel.Arquitectura18(input_shape=INPUT_SHAPE,output_units=len_output_features,n_steps_out=n_steps_out)\n",
    "arquitectura19 = CustomHyperModel.Arquitectura19(input_shape=INPUT_SHAPE,output_units=len_output_features,n_steps_out=n_steps_out)\n",
    "arquitectura20 = CustomHyperModel.Arquitectura20(input_shape=INPUT_SHAPE,output_units=len_output_features,n_steps_out=n_steps_out)\n",
    "arquitectura21 = CustomHyperModel.Arquitectura21(input_shape=INPUT_SHAPE,output_units=len_output_features,n_steps_out=n_steps_out)\n",
    "arquitectura22 = CustomHyperModel.Arquitectura22(input_shape=INPUT_SHAPE,output_units=len_output_features,n_steps_out=n_steps_out)\n",
    "arquitectura23 = CustomHyperModel.Arquitectura23(input_shape=INPUT_SHAPE,output_units=len_output_features,n_steps_out=n_steps_out)"
   ]
  },
  {
   "cell_type": "code",
   "execution_count": 25,
   "metadata": {
    "scrolled": true
   },
   "outputs": [
    {
     "name": "stdout",
     "output_type": "stream",
     "text": [
      "Trial 15 Complete [00h 00m 24s]\n",
      "val_mean_absolute_percentage_error: 32.68419647216797\n",
      "\n",
      "Best val_mean_absolute_percentage_error So Far: 22.615131378173828\n",
      "Total elapsed time: 00h 10m 20s\n",
      "INFO:tensorflow:Oracle triggered exit\n"
     ]
    }
   ],
   "source": [
    "bayesian_tuner = BayesianOptimization(\n",
    "    arquitectura23,\n",
    "    objective='val_mean_absolute_percentage_error',\n",
    "    num_initial_points=1,\n",
    "    max_trials=15,\n",
    "    directory='my_dir',\n",
    "    project_name='tuning_23'\n",
    ")\n",
    "\n",
    "# Overview of the task\n",
    "bayesian_tuner.search_space_summary()\n",
    "\n",
    "# Performs the hyperparameter tuning\n",
    "search_start = time.time()\n",
    "bayesian_tuner.search(x=trainX,y=trainY,\n",
    "                      epochs=200,\n",
    "                      validation_data=(testX,testY),\n",
    "                      callbacks=callbacks)\n",
    "search_end = time.time()\n",
    "elapsed_time = search_end - search_start"
   ]
  },
  {
   "cell_type": "code",
   "execution_count": 26,
   "metadata": {
    "scrolled": true
   },
   "outputs": [
    {
     "name": "stdout",
     "output_type": "stream",
     "text": [
      "Tiempo Total Transcurrido 620.8955624103546\n",
      "Results summary\n",
      "Results in my_dir\\tuning_23\n",
      "Showing 10 best trials\n",
      "Objective(name='val_mean_absolute_percentage_error', direction='min')\n",
      "Trial summary\n",
      "Hyperparameters:\n",
      "gru_units_layer_1: 448\n",
      "kernel_regularizer_layer_1: 0.105\n",
      "dropout_regularizer_layer_1: 0.0\n",
      "learning_rate: 0.01\n",
      "Score: 22.615131378173828\n",
      "Trial summary\n",
      "Hyperparameters:\n",
      "gru_units_layer_1: 256\n",
      "kernel_regularizer_layer_1: 0.0675\n",
      "dropout_regularizer_layer_1: 0.8099999999999999\n",
      "learning_rate: 0.004485708249434565\n",
      "Score: 23.492027282714844\n",
      "Trial summary\n",
      "Hyperparameters:\n",
      "gru_units_layer_1: 64\n",
      "kernel_regularizer_layer_1: 0.06\n",
      "dropout_regularizer_layer_1: 0.0\n",
      "learning_rate: 0.01\n",
      "Score: 24.703332901000977\n",
      "Trial summary\n",
      "Hyperparameters:\n",
      "gru_units_layer_1: 64\n",
      "kernel_regularizer_layer_1: 0.105\n",
      "dropout_regularizer_layer_1: 0.99\n",
      "learning_rate: 0.01\n",
      "Score: 25.533926010131836\n",
      "Trial summary\n",
      "Hyperparameters:\n",
      "gru_units_layer_1: 512\n",
      "kernel_regularizer_layer_1: 0.105\n",
      "dropout_regularizer_layer_1: 0.99\n",
      "learning_rate: 0.01\n",
      "Score: 26.74352264404297\n",
      "Trial summary\n",
      "Hyperparameters:\n",
      "gru_units_layer_1: 64\n",
      "kernel_regularizer_layer_1: 0.105\n",
      "dropout_regularizer_layer_1: 0.99\n",
      "learning_rate: 0.0004966154415496067\n",
      "Score: 26.761390686035156\n",
      "Trial summary\n",
      "Hyperparameters:\n",
      "gru_units_layer_1: 128\n",
      "kernel_regularizer_layer_1: 0.09\n",
      "dropout_regularizer_layer_1: 0.44999999999999996\n",
      "learning_rate: 0.006724478802483222\n",
      "Score: 29.81080436706543\n",
      "Trial summary\n",
      "Hyperparameters:\n",
      "gru_units_layer_1: 128\n",
      "kernel_regularizer_layer_1: 0.0225\n",
      "dropout_regularizer_layer_1: 0.27\n",
      "learning_rate: 0.004384151266566465\n",
      "Score: 30.130380630493164\n",
      "Trial summary\n",
      "Hyperparameters:\n",
      "gru_units_layer_1: 64\n",
      "kernel_regularizer_layer_1: 0.045\n",
      "dropout_regularizer_layer_1: 0.99\n",
      "learning_rate: 0.002297336314168786\n",
      "Score: 32.68419647216797\n",
      "Trial summary\n",
      "Hyperparameters:\n",
      "gru_units_layer_1: 512\n",
      "kernel_regularizer_layer_1: 0.105\n",
      "dropout_regularizer_layer_1: 0.0\n",
      "learning_rate: 0.0001778216773006196\n",
      "Score: 37.95404052734375\n"
     ]
    }
   ],
   "source": [
    "print('Tiempo Total Transcurrido {}'.format(elapsed_time))\n",
    "\n",
    "# Show a summary of the search\n",
    "bayesian_tuner.results_summary()"
   ]
  },
  {
   "cell_type": "code",
   "execution_count": 11,
   "metadata": {},
   "outputs": [
    {
     "name": "stdout",
     "output_type": "stream",
     "text": [
      "3/3 [==============================] - 0s 10ms/step - loss: 43.9824 - mean_absolute_error: 0.0527 - mean_absolute_percentage_error: 41.9580 - symmetric_mean_absolute_percentage_error: 1224.8458\n"
     ]
    }
   ],
   "source": [
    "# Retrieve the best model.\n",
    "best_model = bayesian_tuner.get_best_models(num_models=1)[0]\n",
    "\n",
    "# Evaluate the best model.\n",
    "loss, mae, mape, smape = best_model.evaluate(x=testX,y=testY)"
   ]
  },
  {
   "cell_type": "code",
   "execution_count": 12,
   "metadata": {},
   "outputs": [
    {
     "data": {
      "text/plain": [
       "'{\"class_name\": \"Sequential\", \"config\": {\"name\": \"sequential\", \"layers\": [{\"class_name\": \"InputLayer\", \"config\": {\"batch_input_shape\": [null, 48, 84], \"dtype\": \"float32\", \"sparse\": false, \"ragged\": false, \"name\": \"lstm_input\"}}, {\"class_name\": \"LSTM\", \"config\": {\"name\": \"lstm\", \"trainable\": true, \"batch_input_shape\": [null, 48, 84], \"dtype\": \"float32\", \"return_sequences\": true, \"return_state\": false, \"go_backwards\": false, \"stateful\": false, \"unroll\": false, \"time_major\": false, \"units\": 320, \"activation\": \"tanh\", \"recurrent_activation\": \"sigmoid\", \"use_bias\": true, \"kernel_initializer\": {\"class_name\": \"GlorotUniform\", \"config\": {\"seed\": null}}, \"recurrent_initializer\": {\"class_name\": \"Orthogonal\", \"config\": {\"gain\": 1.0, \"seed\": null}}, \"bias_initializer\": {\"class_name\": \"Zeros\", \"config\": {}}, \"unit_forget_bias\": true, \"kernel_regularizer\": {\"class_name\": \"L1\", \"config\": {\"l1\": 0.04500000178813934}}, \"recurrent_regularizer\": null, \"bias_regularizer\": null, \"activity_regularizer\": null, \"kernel_constraint\": null, \"recurrent_constraint\": null, \"bias_constraint\": null, \"dropout\": 0.09, \"recurrent_dropout\": 0.0, \"implementation\": 2}}, {\"class_name\": \"LSTM\", \"config\": {\"name\": \"lstm_1\", \"trainable\": true, \"dtype\": \"float32\", \"return_sequences\": false, \"return_state\": false, \"go_backwards\": false, \"stateful\": false, \"unroll\": false, \"time_major\": false, \"units\": 256, \"activation\": \"tanh\", \"recurrent_activation\": \"sigmoid\", \"use_bias\": true, \"kernel_initializer\": {\"class_name\": \"GlorotUniform\", \"config\": {\"seed\": null}}, \"recurrent_initializer\": {\"class_name\": \"Orthogonal\", \"config\": {\"gain\": 1.0, \"seed\": null}}, \"bias_initializer\": {\"class_name\": \"Zeros\", \"config\": {}}, \"unit_forget_bias\": true, \"kernel_regularizer\": {\"class_name\": \"L1\", \"config\": {\"l1\": 0.09749999642372131}}, \"recurrent_regularizer\": null, \"bias_regularizer\": null, \"activity_regularizer\": null, \"kernel_constraint\": null, \"recurrent_constraint\": null, \"bias_constraint\": null, \"dropout\": 0.8099999999999999, \"recurrent_dropout\": 0.0, \"implementation\": 2}}, {\"class_name\": \"RepeatVector\", \"config\": {\"name\": \"repeat_vector\", \"trainable\": true, \"dtype\": \"float32\", \"n\": 24}}, {\"class_name\": \"TimeDistributed\", \"config\": {\"name\": \"time_distributed\", \"trainable\": true, \"dtype\": \"float32\", \"layer\": {\"class_name\": \"Dense\", \"config\": {\"name\": \"dense\", \"trainable\": true, \"dtype\": \"float32\", \"units\": 24, \"activation\": \"tanh\", \"use_bias\": true, \"kernel_initializer\": {\"class_name\": \"GlorotUniform\", \"config\": {\"seed\": null}}, \"bias_initializer\": {\"class_name\": \"Zeros\", \"config\": {}}, \"kernel_regularizer\": null, \"bias_regularizer\": null, \"activity_regularizer\": null, \"kernel_constraint\": null, \"bias_constraint\": null}}}}, {\"class_name\": \"Dropout\", \"config\": {\"name\": \"dropout\", \"trainable\": true, \"dtype\": \"float32\", \"rate\": 0.99, \"noise_shape\": null, \"seed\": null}}, {\"class_name\": \"TimeDistributed\", \"config\": {\"name\": \"time_distributed_1\", \"trainable\": true, \"dtype\": \"float32\", \"layer\": {\"class_name\": \"Dense\", \"config\": {\"name\": \"dense_1\", \"trainable\": true, \"dtype\": \"float32\", \"units\": 1, \"activation\": \"linear\", \"use_bias\": true, \"kernel_initializer\": {\"class_name\": \"GlorotUniform\", \"config\": {\"seed\": null}}, \"bias_initializer\": {\"class_name\": \"Zeros\", \"config\": {}}, \"kernel_regularizer\": null, \"bias_regularizer\": null, \"activity_regularizer\": null, \"kernel_constraint\": null, \"bias_constraint\": null}}}}]}, \"keras_version\": \"2.4.0\", \"backend\": \"tensorflow\"}'"
      ]
     },
     "execution_count": 12,
     "metadata": {},
     "output_type": "execute_result"
    }
   ],
   "source": [
    "best_model.to_json()"
   ]
  },
  {
   "cell_type": "code",
   "execution_count": null,
   "metadata": {},
   "outputs": [],
   "source": []
  }
 ],
 "metadata": {
  "kernelspec": {
   "display_name": "Proyecto Grados",
   "language": "python",
   "name": "proyecto-grados"
  },
  "language_info": {
   "codemirror_mode": {
    "name": "ipython",
    "version": 3
   },
   "file_extension": ".py",
   "mimetype": "text/x-python",
   "name": "python",
   "nbconvert_exporter": "python",
   "pygments_lexer": "ipython3",
   "version": "3.8.3"
  }
 },
 "nbformat": 4,
 "nbformat_minor": 4
}
